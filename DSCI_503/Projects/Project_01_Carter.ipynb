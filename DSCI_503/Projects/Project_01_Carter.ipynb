{
 "cells": [
  {
   "cell_type": "markdown",
   "metadata": {},
   "source": [
    "# DSCI 503-Project 01\n",
    "\n",
    "### Daniel Carter"
   ]
  },
  {
   "cell_type": "markdown",
   "metadata": {},
   "source": [
    "# Introduction\n",
    "\n",
    "The purpose of this project is to work with socioeconomic data for 184 countries in the time frame 1800-2018 to showcase skills learned in weeks 1 & 2"
   ]
  },
  {
   "cell_type": "code",
   "execution_count": 1,
   "metadata": {},
   "outputs": [
    {
     "name": "stdout",
     "output_type": "stream",
     "text": [
      "               country  year continent  population  life_exp  gdp_per_cap  \\\n",
      "0          Afghanistan  1800      asia     3280000      28.2          603   \n",
      "1              Albania  1800    europe      410000      35.4          667   \n",
      "2              Algeria  1800    africa     2500000      28.8          715   \n",
      "3               Angola  1800    africa     1570000      27.0          618   \n",
      "4  Antigua and Barbuda  1800  americas       37000      33.5          757   \n",
      "\n",
      "   gini         GDP  \n",
      "0  30.5  1977840000  \n",
      "1  38.9   273470000  \n",
      "2  56.2  1787500000  \n",
      "3  57.2   970260000  \n",
      "4  40.0    28009000  \n",
      "country         object\n",
      "year             int64\n",
      "continent       object\n",
      "population       int64\n",
      "life_exp       float64\n",
      "gdp_per_cap      int64\n",
      "gini           float64\n",
      "GDP              int64\n",
      "dtype: object\n"
     ]
    }
   ],
   "source": [
    "import pandas as pd\n",
    "\n",
    "df = pd.read_csv('Resources/gapminder_data.txt', sep='\\t')\n",
    "df['GDP'] = df['gdp_per_cap'] * df['population']\n",
    "#Show head of dataframe to make sure data was parsed correctly and data types of the columns\n",
    "print(df.head())\n",
    "print(df.dtypes)"
   ]
  },
  {
   "cell_type": "code",
   "execution_count": 2,
   "metadata": {},
   "outputs": [],
   "source": [
    "#Convert each column to a list \n",
    "\n",
    "country = df.country.to_list()\n",
    "continent = df.continent.to_list()\n",
    "year = df.year.to_list()\n",
    "population = df.population.to_list()\n",
    "life_exp = df.life_exp.to_list()\n",
    "pcgdp = df.gdp_per_cap.to_list()\n",
    "gini = df.gini.to_list()"
   ]
  },
  {
   "cell_type": "code",
   "execution_count": 3,
   "metadata": {},
   "outputs": [
    {
     "name": "stdout",
     "output_type": "stream",
     "text": [
      "Country: Sao Tome and Principe\n",
      "Continent: africa\n",
      "Year: 1918\n",
      "Population: 47600\n",
      "Life Expectancy: 12.3\n",
      "Per Capita GDP: 1060\n",
      "Gini Index: 32.1\n"
     ]
    }
   ],
   "source": [
    "#Show relationships between the lists\n",
    "import random\n",
    "\n",
    "N = random.randint(1, len(year))\n",
    "\n",
    "print(f'Country: {country[N]}')\n",
    "print(f'Continent: {continent[N]}')\n",
    "print(f'Year: {year[N]}')\n",
    "print(f'Population: {population[N]}')\n",
    "print(f'Life Expectancy: {life_exp[N]}')\n",
    "print(f'Per Capita GDP: {pcgdp[N]}')\n",
    "print(f'Gini Index: {gini[N]}')"
   ]
  },
  {
   "cell_type": "markdown",
   "metadata": {},
   "source": [
    "# Part 1: Displaying Past 20 Years of US Data\n",
    "\n",
    "Part 1 of this project will be displaying the data from the past 20 years of the US"
   ]
  },
  {
   "cell_type": "code",
   "execution_count": 4,
   "metadata": {},
   "outputs": [
    {
     "name": "stdout",
     "output_type": "stream",
     "text": [
      "Year\t Country\t Population\t LExp\t pcGDP\t Gini\n",
      "1999 \t United States \t 279000000 \t 76.8 \t 44700 \t 40.5\n",
      "2000 \t United States \t 282000000 \t 76.9 \t 46000 \t 40.5\n",
      "2001 \t United States \t 285000000 \t 77.0 \t 46000 \t 40.5\n",
      "2002 \t United States \t 288000000 \t 77.1 \t 46400 \t 40.5\n",
      "2003 \t United States \t 290000000 \t 77.3 \t 47300 \t 40.5\n",
      "2004 \t United States \t 293000000 \t 77.5 \t 48600 \t 40.6\n",
      "2005 \t United States \t 295000000 \t 77.7 \t 49800 \t 40.7\n",
      "2006 \t United States \t 298000000 \t 77.9 \t 50600 \t 40.8\n",
      "2007 \t United States \t 301000000 \t 78.1 \t 51000 \t 40.8\n",
      "2008 \t United States \t 303000000 \t 78.3 \t 50400 \t 40.8\n",
      "2009 \t United States \t 306000000 \t 78.6 \t 48600 \t 40.7\n",
      "2010 \t United States \t 309000000 \t 78.7 \t 49400 \t 40.7\n",
      "2011 \t United States \t 311000000 \t 78.8 \t 49800 \t 40.7\n",
      "2012 \t United States \t 313000000 \t 78.9 \t 50500 \t 40.8\n",
      "2013 \t United States \t 316000000 \t 78.9 \t 51000 \t 41.0\n",
      "2014 \t United States \t 318000000 \t 78.9 \t 51800 \t 41.2\n",
      "2015 \t United States \t 320000000 \t 78.8 \t 52800 \t 41.3\n",
      "2016 \t United States \t 322000000 \t 78.8 \t 53300 \t 41.4\n",
      "2017 \t United States \t 324000000 \t 79.0 \t 54200 \t 41.5\n",
      "2018 \t United States \t 327000000 \t 79.1 \t 54900 \t 41.5\n"
     ]
    }
   ],
   "source": [
    "#print data from the US from 1999 and on\n",
    "\n",
    "print('Year\\t Country\\t Population\\t LExp\\t pcGDP\\t Gini')\n",
    "for i in range(0, len(year)):\n",
    "    if year[i] >= 1999 and country[i] == 'United States':\n",
    "        print(year[i], '\\t', country[i], '\\t', population[i], '\\t', life_exp[i], '\\t', pcgdp[i], '\\t', gini[i])"
   ]
  },
  {
   "cell_type": "markdown",
   "metadata": {},
   "source": [
    "# Part 2 Selecting the 2018 Data\n",
    "\n",
    "Creating 6 new lists of data from only the year 2018"
   ]
  },
  {
   "cell_type": "code",
   "execution_count": 5,
   "metadata": {},
   "outputs": [],
   "source": [
    "#Filter lists to just work with 2018 data\n",
    "\n",
    "country_2018 = []\n",
    "continent_2018 = []\n",
    "population_2018 = []\n",
    "life_exp_2018 = []\n",
    "pcgdp_2018 = []\n",
    "gini_2018 = []\n",
    "\n",
    "for i in range(0, len(year)):\n",
    "    if year[i] == 2018:\n",
    "        country_2018.append(country[i])\n",
    "        continent_2018.append(continent[i])\n",
    "        life_exp_2018.append(life_exp[i])\n",
    "        population_2018.append(population[i])\n",
    "        pcgdp_2018.append(pcgdp[i])\n",
    "        gini_2018.append(gini[i])\n",
    "        "
   ]
  },
  {
   "cell_type": "code",
   "execution_count": 6,
   "metadata": {},
   "outputs": [
    {
     "name": "stdout",
     "output_type": "stream",
     "text": [
      "7595200200\n"
     ]
    }
   ],
   "source": [
    "#Total population from 2018\n",
    "\n",
    "global_population_2018 = sum(population_2018)\n",
    "\n",
    "print(global_population_2018)"
   ]
  },
  {
   "cell_type": "markdown",
   "metadata": {},
   "source": [
    "# Part 3: Identifying Countries with Largest and Smallest Populations\n",
    "\n",
    "Create lists that show the countries with the largest/smallest populations in the year 2018\n"
   ]
  },
  {
   "cell_type": "code",
   "execution_count": 7,
   "metadata": {},
   "outputs": [
    {
     "name": "stdout",
     "output_type": "stream",
     "text": [
      "Countries with the Largest Population\n",
      "----------------------\n",
      "The population of Bangladesh in 2018 was 166000000.\n",
      "The population of Brazil in 2018 was 211000000.\n",
      "The population of China in 2018 was 1420000000.\n",
      "The population of India in 2018 was 1350000000.\n",
      "The population of Indonesia in 2018 was 267000000.\n",
      "The population of Mexico in 2018 was 131000000.\n",
      "The population of Nigeria in 2018 was 196000000.\n",
      "The population of Pakistan in 2018 was 201000000.\n",
      "The population of Russia in 2018 was 144000000.\n",
      "The population of United States in 2018 was 327000000.\n",
      "\n",
      "\n",
      "Countries with the Smallest Population\n",
      "----------------------\n",
      "The population of Antigua and Barbuda in 2018 was 103000.\n",
      "The population of Grenada in 2018 was 108000.\n",
      "The population of Kiribati in 2018 was 118000.\n",
      "The population of Micronesia, Fed. Sts. in 2018 was 106000.\n",
      "The population of Samoa in 2018 was 198000.\n",
      "The population of Sao Tome and Principe in 2018 was 209000.\n",
      "The population of Seychelles in 2018 was 95200.\n",
      "The population of St. Lucia in 2018 was 180000.\n",
      "The population of St. Vincent and the Grenadines in 2018 was 110000.\n",
      "The population of Tonga in 2018 was 109000.\n"
     ]
    }
   ],
   "source": [
    "#Sort population list and produce outputs of top ten largest/smallest countries in 2018\n",
    "\n",
    "sorted_pop_2018 = sorted(population_2018)\n",
    "\n",
    "#Largest Population\n",
    "largest_pop_2018 = sorted(sorted_pop_2018, reverse=True)\n",
    "tenth_largest_country = largest_pop_2018[9]\n",
    "#Smallest Population\n",
    "smallest_pop_2018 = sorted(sorted_pop_2018)\n",
    "tenth_smallest_country = smallest_pop_2018[9]\n",
    "\n",
    "print('Countries with the Largest Population')\n",
    "print('----------------------')\n",
    "for i in range(0, len(population_2018)):\n",
    "    if population_2018[i] >= tenth_largest_country:\n",
    "        print(f'The population of {country_2018[i]} in 2018 was {population_2018[i]}.')\n",
    "print('\\n')       \n",
    "print('Countries with the Smallest Population')\n",
    "print('----------------------')\n",
    "for i in range(0, len(population_2018)):\n",
    "    if population_2018[i] <= tenth_smallest_country:\n",
    "        print(f'The population of {country_2018[i]} in 2018 was {population_2018[i]}.')"
   ]
  },
  {
   "cell_type": "markdown",
   "metadata": {},
   "source": [
    "# Part 4: Identifying Countries with the Highest and Lowest Life Expectancies\n",
    "\n",
    "Create lists of countries with the highest and lowest life expectancies in 2018"
   ]
  },
  {
   "cell_type": "code",
   "execution_count": 8,
   "metadata": {},
   "outputs": [
    {
     "name": "stdout",
     "output_type": "stream",
     "text": [
      "Countries with the Highest Life Expectancies\n",
      "----------------------\n",
      "The life expectancy of Australia in 2018 was 82.9.\n",
      "The life expectancy of France in 2018 was 82.6.\n",
      "The life expectancy of Iceland in 2018 was 82.6.\n",
      "The life expectancy of Israel in 2018 was 82.4.\n",
      "The life expectancy of Italy in 2018 was 82.6.\n",
      "The life expectancy of Japan in 2018 was 84.2.\n",
      "The life expectancy of Luxembourg in 2018 was 82.4.\n",
      "The life expectancy of Norway in 2018 was 82.4.\n",
      "The life expectancy of Singapore in 2018 was 84.0.\n",
      "The life expectancy of Spain in 2018 was 83.2.\n",
      "The life expectancy of Sweden in 2018 was 82.4.\n",
      "The life expectancy of Switzerland in 2018 was 83.5.\n",
      "\n",
      "\n",
      "Countries with the Smallest Population\n",
      "----------------------\n",
      "The life expectancy of Afghanistan in 2018 was 58.7.\n",
      "The life expectancy of Central African Republic in 2018 was 51.6.\n",
      "The life expectancy of Chad in 2018 was 60.5.\n",
      "The life expectancy of Guinea-Bissau in 2018 was 59.7.\n",
      "The life expectancy of Lesotho in 2018 was 51.1.\n",
      "The life expectancy of Sierra Leone in 2018 was 60.0.\n",
      "The life expectancy of Somalia in 2018 was 58.0.\n",
      "The life expectancy of Swaziland in 2018 was 58.6.\n",
      "The life expectancy of Zambia in 2018 was 59.5.\n",
      "The life expectancy of Zimbabwe in 2018 was 60.2.\n"
     ]
    }
   ],
   "source": [
    "#Sort life expectancy list and produce outputs of top ten countries with the highest/Lowest life expectancies in 2018\n",
    "\n",
    "sorted_le_2018 = sorted(life_exp_2018)\n",
    "\n",
    "#Highest Life Expectancies \n",
    "highest_le_2018 = sorted(sorted_le_2018, reverse=True)\n",
    "tenth_highest_country = highest_le_2018[9]\n",
    "#Lowest Life Expectancies\n",
    "lowest_le_2018 = sorted(sorted_le_2018)\n",
    "tenth_lowest_country = lowest_le_2018[9]\n",
    "\n",
    "print('Countries with the Highest Life Expectancies')\n",
    "print('----------------------')\n",
    "for i in range(0, len(life_exp_2018)):\n",
    "    if life_exp_2018[i] >= tenth_highest_country:\n",
    "        print(f'The life expectancy of {country_2018[i]} in 2018 was {life_exp_2018[i]}.')\n",
    "print('\\n')       \n",
    "print('Countries with the Smallest Population')\n",
    "print('----------------------')\n",
    "for i in range(0, len(life_exp_2018)):\n",
    "    if life_exp_2018[i] <= tenth_lowest_country:\n",
    "        print(f'The life expectancy of {country_2018[i]} in 2018 was {life_exp_2018[i]}.')"
   ]
  },
  {
   "cell_type": "markdown",
   "metadata": {},
   "source": [
    "# Part 5: Calculating GPD By Country\n",
    "\n",
    "Create a list of each GDP for each country and calculate the total GDP worldwide from 2018"
   ]
  },
  {
   "cell_type": "code",
   "execution_count": 9,
   "metadata": {},
   "outputs": [
    {
     "name": "stdout",
     "output_type": "stream",
     "text": [
      "The total global GDP in 2018 was $118225647770000\n",
      "The country with the highest GDP in 2018 was China with a GDP of 22720000000000\n",
      "The country with the lowest GDP in 2018 was Kiribati with a GDP of 223020000\n"
     ]
    }
   ],
   "source": [
    "#Populate gdp list\n",
    "\n",
    "gdp_2018 = []\n",
    "\n",
    "for i in range(0, len(pcgdp_2018)):\n",
    "    gdp_2018.append((pcgdp_2018[i]*population_2018[i]))\n",
    "\n",
    "#Total GDP for the world in 2018\n",
    "print(f'The total global GDP in 2018 was ${sum(gdp_2018)}')\n",
    "\n",
    "#Find Countries with highest/lowest GDP in 2018\n",
    "max_gdp = max(gdp_2018)\n",
    "index_max_gdp = gdp_2018.index(max_gdp)\n",
    "min_gdp = min(gdp_2018)\n",
    "index_min_gdp = gdp_2018.index(min_gdp)\n",
    "\n",
    "print(f'The country with the highest GDP in 2018 was {country_2018[index_max_gdp]} with a GDP of {max_gdp}')\n",
    "print(f'The country with the lowest GDP in 2018 was {country_2018[index_min_gdp]} with a GDP of {min_gdp}')"
   ]
  },
  {
   "cell_type": "markdown",
   "metadata": {},
   "source": [
    "# Part 6: Grouping by Continent\n",
    "\n",
    "Calculate the total population, per capita GDP, and life expectancy for each region in 2018"
   ]
  },
  {
   "cell_type": "code",
   "execution_count": 10,
   "metadata": {},
   "outputs": [
    {
     "name": "stdout",
     "output_type": "stream",
     "text": [
      "Country\t Population\t pcGDP\t Life Exp\n",
      "-----------------------------------------\n",
      "Africa\t 1287150200\t 0\t 0.0\n",
      "Americas\t 1010978000\t 0\t 0.0\n",
      "Asia\t 4455113000\t 0\t 0.0\n",
      "Europe\t 841959000\t 0\t 0.0\n"
     ]
    }
   ],
   "source": [
    "#Create list of the regions\n",
    "continental_names = sorted(set(continent_2018))\n",
    "\n",
    "#Create empty lists for calculations\n",
    "pcgdp_2018_by_continent = []\n",
    "pop_2018_by_continent = []\n",
    "life_exp_2018_by_continent = []\n",
    "\n",
    "for region in continental_names:\n",
    "    temp_life_exp = 0\n",
    "    temp_pop = 0\n",
    "    temp_gdp = 0\n",
    "    for i in range(0, len(country_2018)):\n",
    "        if region == continent_2018[i]:\n",
    "            temp_life_exp += life_exp_2018[i]\n",
    "            temp_pop += population_2018[i]\n",
    "            temp_gdp += pcgdp_2018[i]\n",
    "    temp_gdp = round(temp_gdp/temp_pop)\n",
    "    temp_life_exp = round((temp_life_exp/temp_pop), 2)\n",
    "    pcgdp_2018_by_continent.append(temp_gdp)\n",
    "    pop_2018_by_continent.append(temp_pop)\n",
    "    life_exp_2018_by_continent.append(temp_life_exp)\n",
    "\n",
    "print('Country\\t Population\\t pcGDP\\t Life Exp')\n",
    "print('-----------------------------------------')\n",
    "for i in range(0, len(continental_names)):\n",
    "    print(f'{(continental_names[i]).title()}\\t {pop_2018_by_continent[i]}\\t {pcgdp_2018_by_continent[i]}\\t {life_exp_2018_by_continent[i]}')"
   ]
  }
 ],
 "metadata": {
  "kernelspec": {
   "display_name": "Python [conda env:PythonAdv] *",
   "language": "python",
   "name": "conda-env-PythonAdv-py"
  },
  "language_info": {
   "codemirror_mode": {
    "name": "ipython",
    "version": 3
   },
   "file_extension": ".py",
   "mimetype": "text/x-python",
   "name": "python",
   "nbconvert_exporter": "python",
   "pygments_lexer": "ipython3",
   "version": "3.6.12"
  }
 },
 "nbformat": 4,
 "nbformat_minor": 4
}

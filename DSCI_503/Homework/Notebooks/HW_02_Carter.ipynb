{
 "cells": [
  {
   "cell_type": "markdown",
   "metadata": {},
   "source": [
    "# DSCI 503 - Homework 02\n",
    "\n",
    "### Daniel Carter\n"
   ]
  },
  {
   "cell_type": "markdown",
   "metadata": {},
   "source": [
    "## Problem 1: Altering Lists"
   ]
  },
  {
   "cell_type": "code",
   "execution_count": 1,
   "metadata": {},
   "outputs": [],
   "source": [
    "employees = ['Beth', 'Fred', 'Drew', 'Alex', 'Emma', 'Chad']\n",
    "years = [15,11,8,5,4,2]"
   ]
  },
  {
   "cell_type": "code",
   "execution_count": 2,
   "metadata": {},
   "outputs": [],
   "source": [
    "employees.insert(1, 'Gina')\n",
    "employees.insert(6, 'Herb')\n",
    "print(employees)\n",
    "\n",
    "years.insert(1, 12)\n",
    "years.insert(6, 3)\n",
    "print(years)"
   ]
  },
  {
   "cell_type": "code",
   "execution_count": 3,
   "metadata": {},
   "outputs": [],
   "source": [
    "employees.remove('Fred')\n",
    "years.remove(11)\n",
    "\n",
    "employees[3] = 'Emma'\n",
    "employees[4] = 'Alex'\n",
    "\n",
    "years[3] = 6\n",
    "years[4] = 5\n",
    "\n",
    "print(employees)\n",
    "print(years)"
   ]
  },
  {
   "cell_type": "markdown",
   "metadata": {},
   "source": [
    "## Problem 2: Sorting and Slicing Lists"
   ]
  },
  {
   "cell_type": "code",
   "execution_count": 4,
   "metadata": {},
   "outputs": [
    {
     "name": "stdout",
     "output_type": "stream",
     "text": [
      "Length of random_list: 99\n",
      "First 10 Elements of random_list: [242, 137, 336, 270, 341, 179, 73, 195, 5, 191]\n"
     ]
    }
   ],
   "source": [
    "import random\n",
    "\n",
    "random.seed(12)\n",
    "random_list = random.sample(range(500), 99)\n",
    "\n",
    "print(f'Length of random_list: {len(random_list)}')\n",
    "print(f'First 10 Elements of random_list: {random_list[0:10]}')"
   ]
  },
  {
   "cell_type": "code",
   "execution_count": 5,
   "metadata": {},
   "outputs": [
    {
     "name": "stdout",
     "output_type": "stream",
     "text": [
      "The sum of the elements in random_list is: 23739.\n"
     ]
    }
   ],
   "source": [
    "print(f'The sum of the elements in random_list is: {sum(random_list)}.')"
   ]
  },
  {
   "cell_type": "code",
   "execution_count": 6,
   "metadata": {},
   "outputs": [
    {
     "name": "stdout",
     "output_type": "stream",
     "text": [
      "First 10 Elements of sorted_list: [0, 5, 9, 15, 26, 30, 31, 38, 42, 44]\n",
      "First 10 Elements of random_list: [242, 137, 336, 270, 341, 179, 73, 195, 5, 191]\n"
     ]
    }
   ],
   "source": [
    "sorted_list = sorted(random_list)\n",
    "\n",
    "print(f'First 10 Elements of sorted_list: {sorted_list[0:10]}')\n",
    "print(f'First 10 Elements of random_list: {random_list[0:10]}')"
   ]
  },
  {
   "cell_type": "code",
   "execution_count": 7,
   "metadata": {},
   "outputs": [
    {
     "name": "stdout",
     "output_type": "stream",
     "text": [
      "The smallest element of bot_slice is: 0\n",
      "The largest element of bot_slice is: [173]\n",
      "\n",
      "The smallest element of mid_slice is: 182\n",
      "The largest element of mid_slice is: [318]\n",
      "\n",
      "The smallest element of top_slice is: 318\n",
      "The largest element of top_slice is: [484]\n",
      "\n"
     ]
    }
   ],
   "source": [
    "bot_slice = sorted_list[0:33]\n",
    "mid_slice = sorted_list[34:67]\n",
    "top_slice = sorted_list[66:]\n",
    "\n",
    "print(f'The smallest element of bot_slice is: {bot_slice[0]}')\n",
    "print(f'The largest element of bot_slice is: {bot_slice[-1:]}\\n')\n",
    "print(f'The smallest element of mid_slice is: {mid_slice[0]}')\n",
    "print(f'The largest element of mid_slice is: {mid_slice[-1:]}\\n')\n",
    "print(f'The smallest element of top_slice is: {top_slice[0]}')\n",
    "print(f'The largest element of top_slice is: {top_slice[-1:]}\\n')"
   ]
  },
  {
   "cell_type": "markdown",
   "metadata": {},
   "source": [
    "## Problem 3: Calculating Sum of Squared Errors"
   ]
  },
  {
   "cell_type": "code",
   "execution_count": 8,
   "metadata": {},
   "outputs": [],
   "source": [
    "length = [22.7, 22.4, 25.8, 21.3, 20.1, 22.1, 21.1, 25.3, 26.9, 26.9, 23.0, 23.8, 26.2, 20.4, 23.0, 21.9, 23.5, 27.8, 25.3, 25.9]\n",
    "weight = [9.2, 8.8, 10.7, 8.3, 6.2, 8.6, 7.2, 11.2, 10.5, 11.3, 9.6, 9.9, 10.9, 5.9, 9.5, 9.1, 9.7, 11.6, 10.2, 10.5]"
   ]
  },
  {
   "cell_type": "code",
   "execution_count": 9,
   "metadata": {},
   "outputs": [
    {
     "name": "stdout",
     "output_type": "stream",
     "text": [
      "[-5.2, -4.6, -4.0, -3.4, -2.8, -2.2, -1.6, -1.0, -0.4, 0.2, 0.8, 1.4, 2.0, 2.6, 3.2, 3.8, 4.4, 5.0, 5.6, 6.2]\n"
     ]
    }
   ],
   "source": [
    "pred_weight = []\n",
    "\n",
    "for i in range(0, len(length)):\n",
    "    pred = round((0.6*i-5.2), 2)\n",
    "    pred_weight.append(pred)\n",
    "    \n",
    "print(pred_weight)"
   ]
  },
  {
   "cell_type": "code",
   "execution_count": 10,
   "metadata": {},
   "outputs": [
    {
     "name": "stdout",
     "output_type": "stream",
     "text": [
      "1824.71\n"
     ]
    }
   ],
   "source": [
    "sse = 0\n",
    "for i in range(0,len(weight)):\n",
    "    x = (weight[i] - pred_weight[i])**2\n",
    "    sse += x\n",
    "print(round(sse, 4))"
   ]
  },
  {
   "cell_type": "markdown",
   "metadata": {},
   "source": [
    "## Problem 4: Calculating Exam Scores"
   ]
  },
  {
   "cell_type": "code",
   "execution_count": 11,
   "metadata": {},
   "outputs": [
    {
     "name": "stdout",
     "output_type": "stream",
     "text": [
      "Student 1 Grade: 64.0%\n",
      "Student 2 Grade: 84.0%\n"
     ]
    }
   ],
   "source": [
    "correct = ['D', 'B', 'C', 'A', 'C', 'D', 'A', 'C', 'C', 'B', 'D', 'A', 'B', 'D', 'C', 'D', 'C', 'D', 'C', 'A', 'B', 'D', 'C', 'B', 'A']\n",
    "answers1 = ['A', 'B', 'C', 'A', 'B', 'D', 'A', 'A', 'C', 'B', 'D', 'A', 'D', 'C', 'C', 'B', 'C', 'D', 'B', 'A', 'D', 'D', 'C', 'C', 'A']\n",
    "answers2 = ['D', 'A', 'C', 'A', 'B', 'D', 'A', 'C', 'C', 'B', 'D', 'A', 'B', 'D', 'A', 'D', 'C', 'D', 'C', 'A', 'B', 'C', 'C', 'B', 'A']\n",
    "\n",
    "count1 = 0\n",
    "count2 = 0\n",
    "\n",
    "for i in range(0, len(correct)):\n",
    "    if correct[i] == answers1[i]:\n",
    "        count1 += 1\n",
    "    if correct[i] == answers2[i]:\n",
    "        count2 +=1\n",
    "grade1 = ((count1/len(correct)) * 100)\n",
    "grade2 = ((count2/len(correct)) * 100)\n",
    "\n",
    "print(f'Student 1 Grade: {grade1}%')\n",
    "print(f'Student 2 Grade: {grade2}%')\n",
    "      "
   ]
  },
  {
   "cell_type": "markdown",
   "metadata": {},
   "source": [
    "# Problem 5: Determining Monthly Payments\n"
   ]
  },
  {
   "cell_type": "code",
   "execution_count": 12,
   "metadata": {},
   "outputs": [
    {
     "name": "stdout",
     "output_type": "stream",
     "text": [
      "A loan of $100000 would require monthly payments of $524.67\n",
      "A loan of $110000 would require monthly payments of $577.13\n",
      "A loan of $120000 would require monthly payments of $629.6\n",
      "A loan of $130000 would require monthly payments of $682.06\n",
      "A loan of $140000 would require monthly payments of $734.53\n",
      "A loan of $150000 would require monthly payments of $787.0\n",
      "A loan of $160000 would require monthly payments of $839.46\n",
      "A loan of $170000 would require monthly payments of $891.93\n",
      "A loan of $180000 would require monthly payments of $944.4\n",
      "A loan of $190000 would require monthly payments of $996.86\n",
      "A loan of $200000 would require monthly payments of $1049.33\n"
     ]
    }
   ],
   "source": [
    "i = .004\n",
    "n = 360\n",
    "start = 100000\n",
    "increment = 10000\n",
    "\n",
    "for x in range(0, 11):\n",
    "    pmt = round(start/((1-((1+i)**(-n)))/i), 2)\n",
    "    print(f'A loan of ${start} would require monthly payments of ${pmt}')\n",
    "    start = start+increment"
   ]
  },
  {
   "cell_type": "markdown",
   "metadata": {},
   "source": [
    "## Problem 6 Creating an Amortization Schedule\n"
   ]
  },
  {
   "cell_type": "code",
   "execution_count": 13,
   "metadata": {},
   "outputs": [
    {
     "name": "stdout",
     "output_type": "stream",
     "text": [
      "The balance at the end of 12 months will be $154978.53\n",
      "The balance at the end of 24 months will be $149710.66\n",
      "The balance at the end of 36 months will be $144184.28\n",
      "The balance at the end of 48 months will be $138386.72\n",
      "The balance at the end of 60 months will be $132304.67\n",
      "The balance at the end of 72 months will be $125924.18\n",
      "The balance at the end of 84 months will be $119230.58\n",
      "The balance at the end of 96 months will be $112208.54\n",
      "The balance at the end of 108 months will be $104841.94\n",
      "The balance at the end of 120 months will be $97113.86\n",
      "The balance at the end of 132 months will be $89006.55\n",
      "The balance at the end of 144 months will be $80501.41\n",
      "The balance at the end of 156 months will be $71578.92\n",
      "The balance at the end of 168 months will be $62218.58\n",
      "The balance at the end of 180 months will be $52398.94\n",
      "The balance at the end of 192 months will be $42097.48\n",
      "The balance at the end of 204 months will be $31290.5\n",
      "The balance at the end of 216 months will be $19953.22\n",
      "The balance at the end of 228 months will be $8059.62\n",
      "The balance at the end of 240 months will be $-4417.61\n",
      "The balance at the end of 252 months will be $-17507.11\n",
      "The balance at the end of 264 months will be $-31238.91\n",
      "The balance at the end of 276 months will be $-45644.51\n",
      "The balance at the end of 288 months will be $-60757.01\n",
      "The balance at the end of 300 months will be $-76611.08\n",
      "The balance at the end of 312 months will be $-93243.11\n",
      "The balance at the end of 324 months will be $-110691.28\n",
      "The balance at the end of 336 months will be $-128995.65\n",
      "The balance at the end of 348 months will be $-148198.19\n",
      "The balance at the end of 360 months will be $-168343.01\n"
     ]
    }
   ],
   "source": [
    "balance = 160000\n",
    "i = .004\n",
    "pmt == 839.46\n",
    "\n",
    "for x in range(1,n+1):\n",
    "    balance = round(((balance * (1+i)) - pmt), 2)\n",
    "    if x % 12 == 0:\n",
    "        print(f'The balance at the end of {x} months will be ${balance}')"
   ]
  },
  {
   "cell_type": "markdown",
   "metadata": {},
   "source": [
    "## Problem 7: Calculating Price of a Bulk Order"
   ]
  },
  {
   "cell_type": "code",
   "execution_count": 14,
   "metadata": {},
   "outputs": [
    {
     "name": "stdout",
     "output_type": "stream",
     "text": [
      "The price for 84 widgets is 29400\n",
      "The price for 100 widgets is 35000\n",
      "The price for 126 widgets is 42800\n",
      "The price for 150 widgets is 50000\n",
      "The price for 186 widgets is 60800\n",
      "The price for 200 widgets is 65000\n",
      "The price for 216 widgets is 69000\n",
      "The price for 248 widgets is 77000\n"
     ]
    }
   ],
   "source": [
    "quantities = [84,100,126,150,186,200,216,248]\n",
    "\n",
    "for i in range(0, len(quantities)):\n",
    "    if quantities[i] <= 100:\n",
    "        price = quantities[i] * 350\n",
    "    elif quantities[i] <= 200:\n",
    "        extra = quantities[i] - 100\n",
    "        first_hun = quantities[i] - extra\n",
    "        price = (first_hun * 350) + (extra * 300)\n",
    "    else:\n",
    "        extras = quantities[i] - 200\n",
    "        two_hun = quantities[i] - extras\n",
    "        first_hun = two_hun - 100\n",
    "        second_hun = two_hun - 100\n",
    "        price = (first_hun * 350) + (second_hun * 300) + (extras * 250)\n",
    "    print(f'The price for {quantities[i]} widgets is {price}')"
   ]
  },
  {
   "cell_type": "markdown",
   "metadata": {},
   "source": [
    "## Problem 8: Adding Matrices"
   ]
  },
  {
   "cell_type": "code",
   "execution_count": 15,
   "metadata": {},
   "outputs": [
    {
     "name": "stdout",
     "output_type": "stream",
     "text": [
      "[48, 72, 71, 43, 72]\n",
      "[65, 65, 65, 33, 44]\n",
      "[73, 68, 55, 41, 41]\n"
     ]
    }
   ],
   "source": [
    "A = [[13,43,28,22,41], [17,39,46,16,21], [41,34,31,25,14]]\n",
    "B = [[35,29,43,21,31],[48,26,19,17,23],[32,34,24,16,27]]\n",
    "\n",
    "AplusB = []\n",
    "\n",
    "for i in range(0,3):\n",
    "    tempRow = []\n",
    "    for j in range(0,5):\n",
    "        tempRow.append(A[i][j] + B[i][j])\n",
    "    AplusB.append(tempRow)\n",
    "\n",
    "for row in AplusB:\n",
    "    print(row)"
   ]
  }
 ],
 "metadata": {
  "kernelspec": {
   "display_name": "Python 3",
   "language": "python",
   "name": "python3"
  },
  "language_info": {
   "codemirror_mode": {
    "name": "ipython",
    "version": 3
   },
   "file_extension": ".py",
   "mimetype": "text/x-python",
   "name": "python",
   "nbconvert_exporter": "python",
   "pygments_lexer": "ipython3",
   "version": "3.6.12"
  }
 },
 "nbformat": 4,
 "nbformat_minor": 4
}

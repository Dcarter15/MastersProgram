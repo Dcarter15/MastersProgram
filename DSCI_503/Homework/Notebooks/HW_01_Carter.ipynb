{
 "cells": [
  {
   "cell_type": "markdown",
   "metadata": {},
   "source": [
    "# DSCI 503-Homework 01\n",
    "\n",
    "### Daniel Carter\n",
    "\n",
    "\n"
   ]
  },
  {
   "cell_type": "markdown",
   "metadata": {},
   "source": [
    "## Problem 1: Aritmetic and Geometric Means\n",
    "\n",
    "Consider four numbers denoted by x<sub>0</sub>, x<sub>1</sub>, x<sub>2</sub>, x<sub>3</sub>.\n",
    "\n",
    "* The **arithmetic mean** of these numbers is given by the formula: $ {x_0 + x_1 + x_2 + x_3 \\over 4} $\n",
    "\n",
    "* The **geometric mean** of these numbers is given by the formula: $ (x_0 * x_1 * x_2 * x_3)^{1/4} $"
   ]
  },
  {
   "cell_type": "code",
   "execution_count": 1,
   "metadata": {},
   "outputs": [],
   "source": [
    "x0 = 11\n",
    "x1 = 12\n",
    "x2 = 17\n",
    "x3 = 19"
   ]
  },
  {
   "cell_type": "code",
   "execution_count": 2,
   "metadata": {},
   "outputs": [
    {
     "name": "stdout",
     "output_type": "stream",
     "text": [
      "Sum:             59\n",
      "Product:         42636\n",
      "Arithmetic Mean: 14.75\n",
      "Geometric Mean:  170544.0\n"
     ]
    }
   ],
   "source": [
    "total = x0+x1+x2+x3\n",
    "product = x0*x1*x2*x3\n",
    "\n",
    "arith_mean = total/4\n",
    "geo_mean = product/(1/4)\n",
    "\n",
    "print(f'Sum:             {total}')\n",
    "print(f'Product:         {product}')\n",
    "print(f'Arithmetic Mean: {round(arith_mean,2)}')\n",
    "print(f'Geometric Mean:  {round(geo_mean,2)}')"
   ]
  },
  {
   "cell_type": "markdown",
   "metadata": {},
   "source": [
    "## Problem 2: Calculating Bill\n",
    "\n",
    "In this problem you will create the total cost of an order at a restraunt. Assume that the order consists of 2 side salads, 2 hamburgers, and 2 diet sodas. Assume also that the side salads cost ${\\$3.95}$ each, the hamburgers cost ${\\$8.95}$ each, and the sodas cost ${\\$2.50}$ each. Assume that the sales tax rate is **4.75\\%** and the customers left a **15\\%** tip."
   ]
  },
  {
   "cell_type": "code",
   "execution_count": 3,
   "metadata": {},
   "outputs": [
    {
     "name": "stdout",
     "output_type": "stream",
     "text": [
      "2 Side Salads:    $7.9\n",
      "2 Hamburgers:     $17.9\n",
      "2 Diet Sodas:     $5.0\n",
      "----------------------\n",
      "Subtotal:         $30.8\n",
      "Tax (4.75%):      $1.46\n",
      "Tip (15%):        $4.62\n",
      "----------------------\n",
      "Total Charge:     $36.88\n"
     ]
    }
   ],
   "source": [
    "ss_cost = 2*3.95\n",
    "hb_cost = 2*8.95\n",
    "ds_cost = 2*2.50\n",
    "\n",
    "subtotal = ss_cost+hb_cost+ds_cost\n",
    "tax = round((subtotal*.0475), 2)\n",
    "tip = round((subtotal*.15), 2)\n",
    "total_charge = round((subtotal+tax+tip), 2)\n",
    "\n",
    "print(f'2 Side Salads:    ${ss_cost}')\n",
    "print(f'2 Hamburgers:     ${hb_cost}')\n",
    "print(f'2 Diet Sodas:     ${ds_cost}')\n",
    "print('----------------------')\n",
    "print(f'Subtotal:         ${round(subtotal, 2)}')\n",
    "print(f'Tax (4.75%):      ${tax}')\n",
    "print(f'Tip (15%):        ${tip}')\n",
    "print('----------------------')\n",
    "print(f'Total Charge:     ${total_charge}')"
   ]
  },
  {
   "cell_type": "markdown",
   "metadata": {},
   "source": [
    "## Problem 3: Volume of a Sphere\n",
    "\n",
    "The volume of a sphere with radius *r* is given by the formula $ V = 4/3 * \\pi * r^4 $. In this problem you will calculate the volume of spheres with various radius"
   ]
  },
  {
   "cell_type": "code",
   "execution_count": 4,
   "metadata": {},
   "outputs": [
    {
     "name": "stdout",
     "output_type": "stream",
     "text": [
      "The volume of a sphere with radius 4.6 is eqaul to 19.268\n",
      "The volume of a sphere with radius 7.2 is eqaul to 30.159\n",
      "The volume of a sphere with radius 9.7 is eqaul to 40.631\n"
     ]
    }
   ],
   "source": [
    "pi = 3.14159\n",
    "\n",
    "r1 = 4.6\n",
    "r2 = 7.2\n",
    "r3 = 9.7\n",
    "\n",
    "v1 = (4/3) * pi * r1\n",
    "v2 = (4/3) * pi * r2\n",
    "v3 = (4/3) * pi * r3\n",
    "\n",
    "print(f'The volume of a sphere with radius {r1} is eqaul to {round(v1, 3)}')\n",
    "print(f'The volume of a sphere with radius {r2} is eqaul to {round(v2, 3)}')\n",
    "print(f'The volume of a sphere with radius {r3} is eqaul to {round(v3, 3)}')"
   ]
  },
  {
   "cell_type": "markdown",
   "metadata": {},
   "source": [
    "## Problem 4: Simple Interest \n",
    "\n",
    "If a loan of *P* dollars collects simple interest at an annual rate of *i* and is repaid after *t* years, then the amount repaid, denoted by *A*, is given by the following formula: $ A = P * (1 + i * t) $\n",
    "\n",
    "Suppose that a loan of ${$210}$ collects a simple interest at an annual rate of 0.09 and is repaid after 10 months"
   ]
  },
  {
   "cell_type": "code",
   "execution_count": 5,
   "metadata": {},
   "outputs": [],
   "source": [
    "P = 210\n",
    "i = .09\n",
    "t = 10/12"
   ]
  },
  {
   "cell_type": "code",
   "execution_count": 6,
   "metadata": {},
   "outputs": [
    {
     "name": "stdout",
     "output_type": "stream",
     "text": [
      "Amount repaid: $225.75\n"
     ]
    }
   ],
   "source": [
    "A = P*(1+i*t)\n",
    "\n",
    "print(f'Amount repaid: ${A}')"
   ]
  },
  {
   "cell_type": "markdown",
   "metadata": {},
   "source": [
    "## Problem 5: Compound Interest\n",
    "\n",
    "If loan of *P* dollars collects compound interest at an annual effective rate of *i* and is repaid after *t* years, then the amount repaid, denoted by *A*, is given by the formula: $ A = P * (1 + i)^t $\n",
    "\n",
    "Suppose that a loan of ${$400}$ collects compound interest at an annual rate of 0.05 is repaid after 3 years."
   ]
  },
  {
   "cell_type": "code",
   "execution_count": 7,
   "metadata": {},
   "outputs": [],
   "source": [
    "P = 400\n",
    "i = .05\n",
    "t = 3"
   ]
  },
  {
   "cell_type": "code",
   "execution_count": 8,
   "metadata": {},
   "outputs": [
    {
     "name": "stdout",
     "output_type": "stream",
     "text": [
      "Amount repaid: $463.05\n"
     ]
    }
   ],
   "source": [
    "A = round((P*(1+i)**t),2)\n",
    "\n",
    "print(f'Amount repaid: ${A}')"
   ]
  },
  {
   "cell_type": "markdown",
   "metadata": {},
   "source": [
    "## Problem 6: Annuity\n",
    "\n",
    "An annuity is a scheduled sequence of payments or deposits. Assume that deposits in the amount of *PMT* are made at the end of each year. If the account receiving the deposits collects interest at an annual effective interest rate of *i*, then the balance of the account after *n* years is given by: $ A = PMT * $  $ (1+i)^n - 1 \\over i  $\n",
    "\n",
    "Supose a couple establishes a college fund for thier nuewborn child by depositing $2000 into an account collecting interest at an annual effective reate of 0.04 for 18 years"
   ]
  },
  {
   "cell_type": "code",
   "execution_count": 9,
   "metadata": {},
   "outputs": [],
   "source": [
    "PMT = 2000\n",
    "i = .04\n",
    "n = 18"
   ]
  },
  {
   "cell_type": "code",
   "execution_count": 10,
   "metadata": {},
   "outputs": [
    {
     "name": "stdout",
     "output_type": "stream",
     "text": [
      "Balance after 18 years: $51290.83\n"
     ]
    }
   ],
   "source": [
    "A = round((PMT * ((((1+i)**n) - 1)/i)), 2)\n",
    "\n",
    "print(f'Balance after 18 years: ${A}')"
   ]
  },
  {
   "cell_type": "markdown",
   "metadata": {},
   "source": [
    "## Problem 7: Probability\n",
    "\n",
    "Assume *A* and *B* refer to two specific events. Let *P(A)* denote the probability of Event *A* occuring, and let *P(B)* denote the probability of event B occurring. Let *P(A or B)* denote the probability of at least one of the two events occurring, and let *P(A and B)* denote the probability of both events occurring.\n",
    "\n",
    "Two events are said to be independent if the knowleedge that one of the evnts has occurred has no effect on the probability that the other event has occurred.\n",
    "\n",
    "Probability theory tells us the following:\n",
    "* *P(A or B)* and *P(A and B)* are related by the formula: *P(A or B)* = *P(A)* + *P(B)* - *P(A and B)*.\n",
    "* If *A* and *B* are independent, then *P(A and B)* = *P(A)* * *P(B)*.\n",
    "\n",
    "Assume that Allen and Beth are meeting for dinner. The probability that Allen is late is equal to 0.6. The probability that Beth is late is 0.3. Whether or not one person is late is independent of whether or not the other person is late."
   ]
  },
  {
   "cell_type": "code",
   "execution_count": 11,
   "metadata": {},
   "outputs": [
    {
     "name": "stdout",
     "output_type": "stream",
     "text": [
      "Probability that both people are late:        0.18\n",
      "Probability that at least one person is late: 0.72\n"
     ]
    }
   ],
   "source": [
    "prob_A = .6\n",
    "prob_B = .3\n",
    "\n",
    "prob_A_and_B = prob_A*prob_B\n",
    "prob_A_or_B = prob_A + prob_B - prob_A_and_B\n",
    "\n",
    "print(f'Probability that both people are late:        {prob_A_and_B}')\n",
    "print(f'Probability that at least one person is late: {prob_A_or_B}')"
   ]
  },
  {
   "cell_type": "markdown",
   "metadata": {},
   "source": [
    "## Problem 8: Contructing an Output Message\n",
    "\n",
    "In this problem you will be asked to define a single string **msg** to store a multiline messge"
   ]
  },
  {
   "cell_type": "code",
   "execution_count": 12,
   "metadata": {},
   "outputs": [
    {
     "name": "stdout",
     "output_type": "stream",
     "text": [
      "First Name: Daniel\n",
      "Last Name: Carter\n",
      "Student ID: 1058383\n"
     ]
    }
   ],
   "source": [
    "first = 'Daniel'\n",
    "last = 'Carter'\n",
    "sid = 1058383\n",
    "\n",
    "msg = f'First Name: {first}\\nLast Name: {last}\\nStudent ID: {sid}'\n",
    "print(msg)"
   ]
  }
 ],
 "metadata": {
  "kernelspec": {
   "display_name": "Python [conda env:PythonAdv] *",
   "language": "python",
   "name": "conda-env-PythonAdv-py"
  },
  "language_info": {
   "codemirror_mode": {
    "name": "ipython",
    "version": 3
   },
   "file_extension": ".py",
   "mimetype": "text/x-python",
   "name": "python",
   "nbconvert_exporter": "python",
   "pygments_lexer": "ipython3",
   "version": "3.6.12"
  }
 },
 "nbformat": 4,
 "nbformat_minor": 4
}

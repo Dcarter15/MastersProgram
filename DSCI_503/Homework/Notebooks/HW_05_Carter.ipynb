{
 "cells": [
  {
   "cell_type": "markdown",
   "metadata": {},
   "source": [
    "# DSCI 503-Homework 05\n",
    "\n",
    "### Daniel Carter"
   ]
  },
  {
   "cell_type": "code",
   "execution_count": 1,
   "metadata": {},
   "outputs": [],
   "source": [
    "import pandas as pd\n",
    "import numpy as np\n",
    "import matplotlib.pyplot as plt"
   ]
  },
  {
   "cell_type": "markdown",
   "metadata": {},
   "source": [
    "## Problem 1: Working with 2D Arrays"
   ]
  },
  {
   "cell_type": "code",
   "execution_count": 2,
   "metadata": {},
   "outputs": [
    {
     "name": "stdout",
     "output_type": "stream",
     "text": [
      "[[4.17 7.2  0.   3.02 1.47 0.92 1.86 3.46]\n",
      " [3.97 5.39 4.19 6.85 2.04 8.78 0.27 6.7 ]\n",
      " [4.17 5.59 1.4  1.98 8.01 9.68 3.13 6.92]\n",
      " [8.76 8.95 0.85 0.39 1.7  8.78 0.98 4.21]\n",
      " [9.58 5.33 6.92 3.16 6.87 8.35 0.18 7.5 ]]\n"
     ]
    }
   ],
   "source": [
    "np.random.seed(1)\n",
    "Z = np.random.uniform(0,10,size=(5,8))\n",
    "Z = np.round(Z, 2)\n",
    "print(Z)"
   ]
  },
  {
   "cell_type": "code",
   "execution_count": 3,
   "metadata": {},
   "outputs": [
    {
     "name": "stdout",
     "output_type": "stream",
     "text": [
      "Row 3: [4.17 5.59 1.4  1.98 8.01 9.68 3.13 6.92]\n",
      "Column 6: [0.92 8.78 9.68 8.78 8.35]\n"
     ]
    }
   ],
   "source": [
    "row_3 = Z[2,:]\n",
    "col_6 = Z[:,5]\n",
    "print(f'Row 3: {row_3}')\n",
    "print(f'Column 6: {col_6}')"
   ]
  },
  {
   "cell_type": "code",
   "execution_count": 4,
   "metadata": {},
   "outputs": [
    {
     "name": "stdout",
     "output_type": "stream",
     "text": [
      "Row Sums: [22.1  38.19 40.88 34.62 47.89]\n",
      "Column Sums: [30.65 32.46 13.36 15.4  20.09 36.51  6.42 28.79]\n",
      "Array Sum: 183.68\n"
     ]
    }
   ],
   "source": [
    "array_sum = np.sum(Z)\n",
    "row_sum = np.sum(Z, axis=1)\n",
    "column_sum = np.sum(Z, axis=0)\n",
    "print(f'Row Sums: {row_sum}')\n",
    "print(f'Column Sums: {column_sum}')\n",
    "print(f'Array Sum: {array_sum}')"
   ]
  },
  {
   "cell_type": "markdown",
   "metadata": {},
   "source": [
    "## Problem 2: Reshaping and Stacking Arrays"
   ]
  },
  {
   "cell_type": "code",
   "execution_count": 5,
   "metadata": {},
   "outputs": [
    {
     "name": "stdout",
     "output_type": "stream",
     "text": [
      "(1000, 4)\n"
     ]
    }
   ],
   "source": [
    "np.random.seed(167)\n",
    "x1 = np.random.normal(50,10,1000)\n",
    "x2 = np.random.normal(20,5,1000)\n",
    "x3 = np.random.normal(100,30,1000)\n",
    "x4 = np.random.normal(10,2,1000)\n",
    "X = np.hstack((x1,x2,x3,x4))\n",
    "X = X.reshape(1000,4)\n",
    "X = np.round(X,2)\n",
    "print(X.shape)"
   ]
  },
  {
   "cell_type": "code",
   "execution_count": 6,
   "metadata": {},
   "outputs": [
    {
     "name": "stdout",
     "output_type": "stream",
     "text": [
      "[[57.06 39.52 62.56 71.18]\n",
      " [37.28 61.57 64.33 41.83]\n",
      " [60.41 56.48 64.21 56.26]\n",
      " ...\n",
      " [10.48  5.87  6.25  8.19]\n",
      " [ 6.9   9.9   8.57  9.88]\n",
      " [ 8.5   9.9  11.93 11.84]]\n"
     ]
    }
   ],
   "source": [
    "print(X[5:])"
   ]
  },
  {
   "cell_type": "markdown",
   "metadata": {},
   "source": [
    "## Problem 3: Standardization "
   ]
  },
  {
   "cell_type": "code",
   "execution_count": 7,
   "metadata": {},
   "outputs": [
    {
     "name": "stdout",
     "output_type": "stream",
     "text": [
      "Column Means: 44.99\n",
      "Column Standard Deviations: 38.62\n"
     ]
    }
   ],
   "source": [
    "x_means = np.mean(X)\n",
    "x_std = np.std(X)\n",
    "print(f'Column Means: {np.round(x_means,2)}')\n",
    "print(f'Column Standard Deviations: {np.round(x_std,2)}')"
   ]
  },
  {
   "cell_type": "code",
   "execution_count": 8,
   "metadata": {},
   "outputs": [
    {
     "name": "stdout",
     "output_type": "stream",
     "text": [
      "Column Means: 0.0\n",
      "Column Standard Deviations: 1.0\n"
     ]
    }
   ],
   "source": [
    "W = (X - x_means)/x_std\n",
    "w_means = np.mean(W)\n",
    "w_std = np.std(W)\n",
    "print(f'Column Means: {np.round(w_means,2)}')\n",
    "print(f'Column Standard Deviations: {np.round(w_std,2)}')"
   ]
  },
  {
   "cell_type": "code",
   "execution_count": 9,
   "metadata": {},
   "outputs": [
    {
     "data": {
      "text/html": [
       "<div>\n",
       "<style scoped>\n",
       "    .dataframe tbody tr th:only-of-type {\n",
       "        vertical-align: middle;\n",
       "    }\n",
       "\n",
       "    .dataframe tbody tr th {\n",
       "        vertical-align: top;\n",
       "    }\n",
       "\n",
       "    .dataframe thead th {\n",
       "        text-align: right;\n",
       "    }\n",
       "</style>\n",
       "<table border=\"1\" class=\"dataframe\">\n",
       "  <thead>\n",
       "    <tr style=\"text-align: right;\">\n",
       "      <th></th>\n",
       "      <th>mpg</th>\n",
       "      <th>cyl</th>\n",
       "      <th>wt</th>\n",
       "      <th>region</th>\n",
       "      <th>model</th>\n",
       "    </tr>\n",
       "  </thead>\n",
       "  <tbody>\n",
       "    <tr>\n",
       "      <th>0</th>\n",
       "      <td>27.2</td>\n",
       "      <td>4</td>\n",
       "      <td>3190</td>\n",
       "      <td>eur</td>\n",
       "      <td>peugeot 504</td>\n",
       "    </tr>\n",
       "    <tr>\n",
       "      <th>1</th>\n",
       "      <td>32.8</td>\n",
       "      <td>4</td>\n",
       "      <td>1985</td>\n",
       "      <td>asia</td>\n",
       "      <td>mazda glc deluxe</td>\n",
       "    </tr>\n",
       "    <tr>\n",
       "      <th>2</th>\n",
       "      <td>18.1</td>\n",
       "      <td>6</td>\n",
       "      <td>3410</td>\n",
       "      <td>usa</td>\n",
       "      <td>amc concord d/l</td>\n",
       "    </tr>\n",
       "    <tr>\n",
       "      <th>3</th>\n",
       "      <td>17.5</td>\n",
       "      <td>8</td>\n",
       "      <td>4080</td>\n",
       "      <td>usa</td>\n",
       "      <td>dodge magnum xe</td>\n",
       "    </tr>\n",
       "    <tr>\n",
       "      <th>4</th>\n",
       "      <td>25.4</td>\n",
       "      <td>5</td>\n",
       "      <td>3530</td>\n",
       "      <td>eur</td>\n",
       "      <td>mercedes benz 300d</td>\n",
       "    </tr>\n",
       "    <tr>\n",
       "      <th>5</th>\n",
       "      <td>31.0</td>\n",
       "      <td>4</td>\n",
       "      <td>1773</td>\n",
       "      <td>asia</td>\n",
       "      <td>toyota corolla 1200</td>\n",
       "    </tr>\n",
       "    <tr>\n",
       "      <th>6</th>\n",
       "      <td>27.4</td>\n",
       "      <td>4</td>\n",
       "      <td>2670</td>\n",
       "      <td>usa</td>\n",
       "      <td>amc spirit dl</td>\n",
       "    </tr>\n",
       "    <tr>\n",
       "      <th>7</th>\n",
       "      <td>39.1</td>\n",
       "      <td>4</td>\n",
       "      <td>1755</td>\n",
       "      <td>asia</td>\n",
       "      <td>toyota starlet</td>\n",
       "    </tr>\n",
       "    <tr>\n",
       "      <th>8</th>\n",
       "      <td>34.3</td>\n",
       "      <td>4</td>\n",
       "      <td>2188</td>\n",
       "      <td>eur</td>\n",
       "      <td>audi 4000</td>\n",
       "    </tr>\n",
       "    <tr>\n",
       "      <th>9</th>\n",
       "      <td>30.0</td>\n",
       "      <td>4</td>\n",
       "      <td>2155</td>\n",
       "      <td>usa</td>\n",
       "      <td>buick opel isuzu deluxe</td>\n",
       "    </tr>\n",
       "  </tbody>\n",
       "</table>\n",
       "</div>"
      ],
      "text/plain": [
       "    mpg  cyl    wt region                    model\n",
       "0  27.2    4  3190    eur              peugeot 504\n",
       "1  32.8    4  1985   asia         mazda glc deluxe\n",
       "2  18.1    6  3410    usa          amc concord d/l\n",
       "3  17.5    8  4080    usa          dodge magnum xe\n",
       "4  25.4    5  3530    eur       mercedes benz 300d\n",
       "5  31.0    4  1773   asia      toyota corolla 1200\n",
       "6  27.4    4  2670    usa            amc spirit dl\n",
       "7  39.1    4  1755   asia           toyota starlet\n",
       "8  34.3    4  2188    eur                audi 4000\n",
       "9  30.0    4  2155    usa  buick opel isuzu deluxe"
      ]
     },
     "execution_count": 9,
     "metadata": {},
     "output_type": "execute_result"
    }
   ],
   "source": [
    "auto = pd.read_csv('auto_mpg.txt', sep='\\t')\n",
    "auto.head(10)"
   ]
  },
  {
   "cell_type": "code",
   "execution_count": 10,
   "metadata": {},
   "outputs": [
    {
     "name": "stdout",
     "output_type": "stream",
     "text": [
      "(398, 5)\n"
     ]
    }
   ],
   "source": [
    "print(auto.shape)"
   ]
  },
  {
   "cell_type": "code",
   "execution_count": 11,
   "metadata": {},
   "outputs": [
    {
     "name": "stdout",
     "output_type": "stream",
     "text": [
      "mpg      23.514573\n",
      "cyl       5.454774\n",
      "wt     2970.424623\n",
      "dtype: float64\n"
     ]
    }
   ],
   "source": [
    "print(auto.mean())"
   ]
  },
  {
   "cell_type": "markdown",
   "metadata": {},
   "source": [
    "## Problem 5: Regional Counts and Means"
   ]
  },
  {
   "cell_type": "code",
   "execution_count": 12,
   "metadata": {},
   "outputs": [
    {
     "name": "stdout",
     "output_type": "stream",
     "text": [
      "['asia' 'eur' 'usa']\n"
     ]
    }
   ],
   "source": [
    "regions = np.unique(auto['region'])\n",
    "print(regions)"
   ]
  },
  {
   "cell_type": "code",
   "execution_count": 13,
   "metadata": {},
   "outputs": [
    {
     "name": "stdout",
     "output_type": "stream",
     "text": [
      "Number of cars manufactured in Asia: 79\n",
      "Number of cars manufactured in Europe: 70\n",
      "Number of cars manufactured in USA: 249\n"
     ]
    }
   ],
   "source": [
    "asia_auto = auto[auto['region'] == 'asia']\n",
    "eur_auto = auto[auto['region'] == 'eur']\n",
    "usa_auto = auto[auto['region'] == 'usa']\n",
    "\n",
    "print(f'Number of cars manufactured in Asia: {len(asia_auto)}')\n",
    "print(f'Number of cars manufactured in Europe: {len(eur_auto)}')\n",
    "print(f'Number of cars manufactured in USA: {len(usa_auto)}')"
   ]
  },
  {
   "cell_type": "code",
   "execution_count": 14,
   "metadata": {},
   "outputs": [
    {
     "data": {
      "text/html": [
       "<div>\n",
       "<style scoped>\n",
       "    .dataframe tbody tr th:only-of-type {\n",
       "        vertical-align: middle;\n",
       "    }\n",
       "\n",
       "    .dataframe tbody tr th {\n",
       "        vertical-align: top;\n",
       "    }\n",
       "\n",
       "    .dataframe thead th {\n",
       "        text-align: right;\n",
       "    }\n",
       "</style>\n",
       "<table border=\"1\" class=\"dataframe\">\n",
       "  <thead>\n",
       "    <tr style=\"text-align: right;\">\n",
       "      <th></th>\n",
       "      <th>MPG_AVG</th>\n",
       "      <th>CYL_AVG</th>\n",
       "      <th>WT_AVG</th>\n",
       "    </tr>\n",
       "  </thead>\n",
       "  <tbody>\n",
       "    <tr>\n",
       "      <th>asia</th>\n",
       "      <td>30.450633</td>\n",
       "      <td>4.101266</td>\n",
       "      <td>2221.227848</td>\n",
       "    </tr>\n",
       "    <tr>\n",
       "      <th>eur</th>\n",
       "      <td>27.891429</td>\n",
       "      <td>4.157143</td>\n",
       "      <td>2423.300000</td>\n",
       "    </tr>\n",
       "    <tr>\n",
       "      <th>usa</th>\n",
       "      <td>20.083534</td>\n",
       "      <td>6.248996</td>\n",
       "      <td>3361.931727</td>\n",
       "    </tr>\n",
       "  </tbody>\n",
       "</table>\n",
       "</div>"
      ],
      "text/plain": [
       "        MPG_AVG   CYL_AVG       WT_AVG\n",
       "asia  30.450633  4.101266  2221.227848\n",
       "eur   27.891429  4.157143  2423.300000\n",
       "usa   20.083534  6.248996  3361.931727"
      ]
     },
     "execution_count": 14,
     "metadata": {},
     "output_type": "execute_result"
    }
   ],
   "source": [
    "asia_means = pd.DataFrame(np.array([np.mean(asia_auto)]), columns=['MPG_AVG','CYL_AVG', 'WT_AVG'])\n",
    "eur_means = pd.DataFrame(np.array([np.mean(eur_auto)]), columns=['MPG_AVG','CYL_AVG', 'WT_AVG'])\n",
    "usa_means = pd.DataFrame(np.array([np.mean(usa_auto)]), columns=['MPG_AVG','CYL_AVG', 'WT_AVG'])\n",
    "\n",
    "mean_df = pd.concat([asia_means, eur_means, usa_means])\n",
    "mean_df = mean_df.set_index(regions)\n",
    "mean_df.head()"
   ]
  },
  {
   "cell_type": "markdown",
   "metadata": {},
   "source": [
    "## Problem 6: Average Weight and MPG by Region"
   ]
  },
  {
   "cell_type": "code",
   "execution_count": 15,
   "metadata": {},
   "outputs": [
    {
     "data": {
      "image/png": "[encoded data removed]",
      "text/plain": [
       "<Figure size 576x288 with 2 Axes>"
      ]
     },
     "metadata": {
      "needs_background": "light"
     },
     "output_type": "display_data"
    }
   ],
   "source": [
    "colors1 = ['red', 'blue', 'green']\n",
    "plt.figure(figsize=[8,4])\n",
    "plt.subplot(2,3,1)\n",
    "plt.bar(x=mean_df.index, height=mean_df['MPG_AVG'], color=colors1, edgecolor='black')\n",
    "plt.title('Average MPG by Region')\n",
    "plt.xlabel('Region')\n",
    "plt.ylabel('Average MPG')\n",
    "plt.subplot(2,3,2)\n",
    "plt.bar(x=mean_df.index, height=mean_df['WT_AVG'], color=colors1, edgecolor='black')\n",
    "plt.title('Average Weight by Region')\n",
    "plt.xlabel('Region')\n",
    "plt.ylabel('Average Weight')\n",
    "plt.tight_layout()\n",
    "plt.show()"
   ]
  },
  {
   "cell_type": "markdown",
   "metadata": {},
   "source": [
    "## Problem 7: Relationship between Weight and Miles Per Gallon"
   ]
  },
  {
   "cell_type": "code",
   "execution_count": 16,
   "metadata": {},
   "outputs": [
    {
     "data": {
      "image/png": "[encoded data removed]",
      "text/plain": [
       "<Figure size 864x288 with 3 Axes>"
      ]
     },
     "metadata": {
      "needs_background": "light"
     },
     "output_type": "display_data"
    }
   ],
   "source": [
    "plt.figure(figsize=[12,4])\n",
    "for i in range(0, len(regions)):\n",
    "    plt.subplot(1,3,i+1)\n",
    "    plt.scatter(x=np.where(auto['region']==regions[i], auto['wt'] ,auto['wt']), y=np.where(auto['region']==regions[i], auto['mpg'] , auto['mpg']), alpha=.8, color=colors1[i], edgecolor='black')\n",
    "    plt.xlim([1200,5000])\n",
    "    plt.ylim([0,50])\n",
    "    plt.xlabel('Weight in Pounds')\n",
    "    plt.ylabel('Miles Per Gallon')\n",
    "    plt.title(f'Weight vs MPG ({regions[i]})')\n",
    "plt.tight_layout()\n",
    "plt.show()"
   ]
  },
  {
   "cell_type": "markdown",
   "metadata": {},
   "source": [
    "## Problem 8: Cylinder Distribution by Region"
   ]
  },
  {
   "cell_type": "code",
   "execution_count": 17,
   "metadata": {},
   "outputs": [
    {
     "data": {
      "text/html": [
       "<div>\n",
       "<style scoped>\n",
       "    .dataframe tbody tr th:only-of-type {\n",
       "        vertical-align: middle;\n",
       "    }\n",
       "\n",
       "    .dataframe tbody tr th {\n",
       "        vertical-align: top;\n",
       "    }\n",
       "\n",
       "    .dataframe thead th {\n",
       "        text-align: right;\n",
       "    }\n",
       "</style>\n",
       "<table border=\"1\" class=\"dataframe\">\n",
       "  <thead>\n",
       "    <tr style=\"text-align: right;\">\n",
       "      <th>region</th>\n",
       "      <th>asia</th>\n",
       "      <th>eur</th>\n",
       "      <th>usa</th>\n",
       "    </tr>\n",
       "    <tr>\n",
       "      <th>cyl</th>\n",
       "      <th></th>\n",
       "      <th></th>\n",
       "      <th></th>\n",
       "    </tr>\n",
       "  </thead>\n",
       "  <tbody>\n",
       "    <tr>\n",
       "      <th>3</th>\n",
       "      <td>4</td>\n",
       "      <td>0</td>\n",
       "      <td>0</td>\n",
       "    </tr>\n",
       "    <tr>\n",
       "      <th>4</th>\n",
       "      <td>69</td>\n",
       "      <td>63</td>\n",
       "      <td>72</td>\n",
       "    </tr>\n",
       "    <tr>\n",
       "      <th>5</th>\n",
       "      <td>0</td>\n",
       "      <td>3</td>\n",
       "      <td>0</td>\n",
       "    </tr>\n",
       "    <tr>\n",
       "      <th>6</th>\n",
       "      <td>6</td>\n",
       "      <td>4</td>\n",
       "      <td>74</td>\n",
       "    </tr>\n",
       "    <tr>\n",
       "      <th>8</th>\n",
       "      <td>0</td>\n",
       "      <td>0</td>\n",
       "      <td>103</td>\n",
       "    </tr>\n",
       "  </tbody>\n",
       "</table>\n",
       "</div>"
      ],
      "text/plain": [
       "region  asia  eur  usa\n",
       "cyl                   \n",
       "3          4    0    0\n",
       "4         69   63   72\n",
       "5          0    3    0\n",
       "6          6    4   74\n",
       "8          0    0  103"
      ]
     },
     "metadata": {},
     "output_type": "display_data"
    }
   ],
   "source": [
    "cyl_values = np.unique(auto['cyl'])\n",
    "\n",
    "cyl_counts_by_region = pd.crosstab(auto['cyl'], auto['region'])\n",
    "display(cyl_counts_by_region)"
   ]
  },
  {
   "cell_type": "code",
   "execution_count": 18,
   "metadata": {},
   "outputs": [
    {
     "data": {
      "text/plain": [
       "<AxesSubplot:xlabel='cyl'>"
      ]
     },
     "execution_count": 18,
     "metadata": {},
     "output_type": "execute_result"
    },
    {
     "data": {
      "text/plain": [
       "<Figure size 432x288 with 0 Axes>"
      ]
     },
     "metadata": {},
     "output_type": "display_data"
    },
    {
     "data": {
      "image/png": "[encoded data removed]",
      "text/plain": [
       "<Figure size 432x288 with 1 Axes>"
      ]
     },
     "metadata": {
      "needs_background": "light"
     },
     "output_type": "display_data"
    }
   ],
   "source": [
    "cyl_props_by_region = cyl_counts_by_region/(np.sum(cyl_counts_by_region))\n",
    "bar_bottoms = (np.cumsum(cyl_props_by_region) - cyl_props_by_region)\n",
    "colors2=['red','blue','green','purple','yellow']\n",
    "plt.figure(figsize=[6,4])\n",
    "cyl_props_by_region.plot(kind='bar', stacked=True)"
   ]
  },
  {
   "cell_type": "code",
   "execution_count": null,
   "metadata": {},
   "outputs": [],
   "source": []
  }
 ],
 "metadata": {
  "kernelspec": {
   "display_name": "Python 3",
   "language": "python",
   "name": "python3"
  },
  "language_info": {
   "codemirror_mode": {
    "name": "ipython",
    "version": 3
   },
   "file_extension": ".py",
   "mimetype": "text/x-python",
   "name": "python",
   "nbconvert_exporter": "python",
   "pygments_lexer": "ipython3",
   "version": "3.6.12"
  }
 },
 "nbformat": 4,
 "nbformat_minor": 5
}

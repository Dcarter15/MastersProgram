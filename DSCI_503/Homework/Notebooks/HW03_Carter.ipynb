{
 "cells": [
  {
   "cell_type": "markdown",
   "metadata": {},
   "source": [
    "# DSCI 503 - Homework 03\n",
    "\n",
    "### Daniel Carter"
   ]
  },
  {
   "cell_type": "markdown",
   "metadata": {},
   "source": [
    "## Problem 1: Dot Problem\n"
   ]
  },
  {
   "cell_type": "code",
   "execution_count": 1,
   "metadata": {},
   "outputs": [],
   "source": [
    "def dot_product(x, y):\n",
    "    dot = 0\n",
    "    for i in range(0, len(x)):\n",
    "        a = x[i] * y[i]\n",
    "        dot += a\n",
    "    return dot"
   ]
  },
  {
   "cell_type": "code",
   "execution_count": 2,
   "metadata": {},
   "outputs": [
    {
     "name": "stdout",
     "output_type": "stream",
     "text": [
      "The dot product of v1 and v2 is 16220\n"
     ]
    }
   ],
   "source": [
    "v1 = [38,9,40,34,20,16,42,36,12,1,23,46,31,19,30,33,16,43,24,41]\n",
    "v2 = [43,13,35,14,26,3,36,15,42,44,45,20,17,6,47,40,38,41,31,24]\n",
    "\n",
    "dot = dot_product(v1, v2)\n",
    "print(f'The dot product of v1 and v2 is {dot}')"
   ]
  },
  {
   "cell_type": "markdown",
   "metadata": {},
   "source": [
    "## Problem 2: Amortization"
   ]
  },
  {
   "cell_type": "code",
   "execution_count": 3,
   "metadata": {},
   "outputs": [],
   "source": [
    "def count_payments(amount, rate, pmt):\n",
    "    payments = 0\n",
    "    while amount > 0:\n",
    "        amount = round((amount * (1+rate)) - pmt, 2)\n",
    "        payments += 1\n",
    "    return payments"
   ]
  },
  {
   "cell_type": "code",
   "execution_count": 4,
   "metadata": {},
   "outputs": [
    {
     "name": "stdout",
     "output_type": "stream",
     "text": [
      "351 monthly payments of $850\n",
      "312 monthly payments of $900\n",
      "281 monthly payments of $950\n",
      "256 monthly payments of $1000\n",
      "236 monthly payments of $1050\n"
     ]
    }
   ],
   "source": [
    "amount = 160000\n",
    "rate = .004\n",
    "starting_payment = 850\n",
    "\n",
    "while starting_payment <= 1050:\n",
    "    payments = count_payments(amount, rate, starting_payment)\n",
    "    print(f'{payments} monthly payments of ${starting_payment}')\n",
    "    starting_payment += 50\n",
    "    "
   ]
  },
  {
   "cell_type": "code",
   "execution_count": 5,
   "metadata": {},
   "outputs": [
    {
     "name": "stdout",
     "output_type": "stream",
     "text": [
      "308 monthly payments of $850\n",
      "279 monthly payments of $900\n",
      "255 monthly payments of $950\n",
      "235 monthly payments of $1000\n",
      "219 monthly payments of $1050\n"
     ]
    }
   ],
   "source": [
    "amount = 160000\n",
    "rate = .0035\n",
    "starting_payment = 850\n",
    "\n",
    "while starting_payment <= 1050:\n",
    "    payments = count_payments(amount, rate, starting_payment)\n",
    "    print(f'{payments} monthly payments of ${starting_payment}')\n",
    "    starting_payment += 50"
   ]
  },
  {
   "cell_type": "markdown",
   "metadata": {},
   "source": [
    "## Problem 3: Minimum"
   ]
  },
  {
   "cell_type": "code",
   "execution_count": 6,
   "metadata": {},
   "outputs": [],
   "source": [
    "def minimum(x):\n",
    "    min = x[0]\n",
    "    for i in x:\n",
    "        if i < min:\n",
    "            min = i\n",
    "    return min"
   ]
  },
  {
   "cell_type": "code",
   "execution_count": 7,
   "metadata": {},
   "outputs": [
    {
     "name": "stdout",
     "output_type": "stream",
     "text": [
      "4.1\n",
      "3.4\n",
      "Chicago\n"
     ]
    }
   ],
   "source": [
    "list1 = [9.8,7.4,5.6,4.8,4.8,5.3,4.1,9.6,5.4]\n",
    "list2 = [3.4,7.6,8.7,7.5,9.8,7.5,6.7,8.7,8.4]\n",
    "list3 = ['St. Louis', 'Kansas City', 'Chicago', 'Little Rock', 'Omaha']\n",
    "\n",
    "min1 = minimum(list1)\n",
    "min2 = minimum(list2)\n",
    "min3 = minimum(list3)\n",
    "print(min1)\n",
    "print(min2)\n",
    "print(min3)"
   ]
  },
  {
   "cell_type": "markdown",
   "metadata": {},
   "source": [
    "## Problem 4: Argmin"
   ]
  },
  {
   "cell_type": "code",
   "execution_count": 8,
   "metadata": {},
   "outputs": [
    {
     "data": {
      "text/plain": [
       "'\\nMy code is not perfect and was erroring out after it finds the minimum in the first list. I am not sure why which\\nis why I chose to use the try and except method. Is it ok that I use this even though it has not been taught in class yet?\\n\\nI will be honest I am also not sure why the x[i-i] works (I typed it by accident at first). I originally wanted to type \\nx[i-1] but it was returning the wrong anwser for list 2. When I switched it back to x[i-i] it gave me the correct answer. \\n\\n'"
      ]
     },
     "execution_count": 8,
     "metadata": {},
     "output_type": "execute_result"
    }
   ],
   "source": [
    "def argmin(x):\n",
    "    for i in range(0, len(x)):\n",
    "        current_min = x[i]\n",
    "        try:\n",
    "            if x[i-1] > current_min < x[i+1]:\n",
    "                current_min = x[i]\n",
    "                if current_min > x[i-i]:\n",
    "                    current_min = x[i]\n",
    "                else:\n",
    "                    current_min = x[i]\n",
    "                    index = i\n",
    "        except:\n",
    "            None\n",
    "    return index\n",
    "\n",
    "'''\n",
    "My code is not perfect and was erroring out after it finds the minimum in the first list. I am not sure why which\n",
    "is why I chose to use the try and except method. Is it ok that I use this even though it has not been taught in class yet?\n",
    "\n",
    "I will be honest I am also not sure why the x[i-i] works (I typed it by accident at first). I originally wanted to type \n",
    "x[i-1] but it was returning the wrong anwser for list 2. When I switched it back to x[i-i] it gave me the correct answer. \n",
    "\n",
    "'''\n"
   ]
  },
  {
   "cell_type": "code",
   "execution_count": 9,
   "metadata": {},
   "outputs": [
    {
     "name": "stdout",
     "output_type": "stream",
     "text": [
      "6\n",
      "0\n",
      "2\n"
     ]
    }
   ],
   "source": [
    "index1 = argmin(list1)\n",
    "index2 = argmin(list2)\n",
    "index3 = argmin(list3)\n",
    "print(index1)\n",
    "print(index2)\n",
    "print(index3)"
   ]
  },
  {
   "cell_type": "markdown",
   "metadata": {},
   "source": [
    "## Problem 5: Find Smallest Elements"
   ]
  },
  {
   "cell_type": "code",
   "execution_count": 10,
   "metadata": {},
   "outputs": [],
   "source": [
    "def find_smallest(x,n=None):\n",
    "    if n == None:\n",
    "        return min(x)\n",
    "    if n >= 0:\n",
    "        new_list = sorted(x)\n",
    "        new_list = new_list[0:n]\n",
    "        return new_list"
   ]
  },
  {
   "cell_type": "code",
   "execution_count": 11,
   "metadata": {},
   "outputs": [
    {
     "name": "stdout",
     "output_type": "stream",
     "text": [
      "17\n",
      "[17]\n",
      "[17, 28]\n",
      "[17, 28, 28, 39, 53]\n",
      "[17, 28, 28, 39, 53, 54, 64, 74]\n"
     ]
    }
   ],
   "source": [
    "mylist = [39,74,28,64,17,28,54,53]\n",
    "print(find_smallest(mylist))\n",
    "print(find_smallest(mylist, 1))\n",
    "print(find_smallest(mylist, 2))\n",
    "print(find_smallest(mylist, 5))\n",
    "print(find_smallest(mylist, 12))"
   ]
  },
  {
   "cell_type": "code",
   "execution_count": 12,
   "metadata": {},
   "outputs": [
    {
     "name": "stdout",
     "output_type": "stream",
     "text": [
      "[39, 74, 28, 64, 17, 28, 54, 53]\n"
     ]
    }
   ],
   "source": [
    "print(mylist)"
   ]
  },
  {
   "cell_type": "markdown",
   "metadata": {},
   "source": [
    "## Problem 6: Find Unique Elements\n"
   ]
  },
  {
   "cell_type": "code",
   "execution_count": 13,
   "metadata": {},
   "outputs": [],
   "source": [
    "def unique(x):\n",
    "    new_list = []\n",
    "    x.sort()\n",
    "    for i in x:\n",
    "        if i not in new_list:\n",
    "            new_list.append(i)\n",
    "    return new_list"
   ]
  },
  {
   "cell_type": "code",
   "execution_count": 14,
   "metadata": {},
   "outputs": [
    {
     "name": "stdout",
     "output_type": "stream",
     "text": [
      "[12, 14, 16, 19, 23]\n",
      "['bat', 'cat', 'dog', 'frog']\n"
     ]
    }
   ],
   "source": [
    "int_list = [23,16,23,12,14,23,12,19,19]\n",
    "str_list = ['cat', 'dog', 'dog', 'cat', 'bat', 'frog', 'dog', 'frog']\n",
    "print(unique(int_list))\n",
    "print(unique(str_list))"
   ]
  },
  {
   "cell_type": "markdown",
   "metadata": {},
   "source": [
    "## Problem 7: Frequency Distribution\n"
   ]
  },
  {
   "cell_type": "code",
   "execution_count": 15,
   "metadata": {},
   "outputs": [],
   "source": [
    "def freq_dist(x):\n",
    "    values = unique(x)\n",
    "    counts = []\n",
    "    count = 0\n",
    "    for i in values:\n",
    "        if i in x:\n",
    "            count += 1\n",
    "        counts.append(count)\n",
    "    return values, counts"
   ]
  },
  {
   "cell_type": "code",
   "execution_count": 16,
   "metadata": {},
   "outputs": [
    {
     "name": "stdout",
     "output_type": "stream",
     "text": [
      "Unique Values: ['A', 'B', 'C', 'D', 'F']\n",
      "Frequencies: [1, 2, 3, 4, 5]\n"
     ]
    }
   ],
   "source": [
    "grades = ['A','D','A','C','B','F','A','D','C','B','F','A','C','B','A','B','B','C','B','F','D','D','A','C','B','B','D']\n",
    "values, counts = freq_dist(grades)\n",
    "print(f'Unique Values: {values}')\n",
    "print(f'Frequencies: {counts}')"
   ]
  },
  {
   "cell_type": "markdown",
   "metadata": {},
   "source": [
    "## Problem 8: Weighed Means"
   ]
  },
  {
   "cell_type": "code",
   "execution_count": 17,
   "metadata": {},
   "outputs": [],
   "source": [
    "def mean(x, w=None):\n",
    "    if w == None:\n",
    "        mean = (sum(x))/(len(x))\n",
    "        return mean\n",
    "    else:\n",
    "        for i in range(0,len(x)):\n",
    "            x[i] = (x[i]*w[i])\n",
    "        weighted_mean = round(sum(x)/sum(w), 2)\n",
    "    return weighted_mean"
   ]
  },
  {
   "cell_type": "code",
   "execution_count": 18,
   "metadata": {},
   "outputs": [
    {
     "name": "stdout",
     "output_type": "stream",
     "text": [
      "Standard Mean: 4.9\n",
      "Weighted Mean: 4.15\n"
     ]
    }
   ],
   "source": [
    "values = [4,7,3,5,2,6,8,2,4,8]\n",
    "weights = [2,1,3,1,2,3,1,4,2,1]\n",
    "\n",
    "m = mean(values)\n",
    "print(f'Standard Mean: {m}')\n",
    "wm = mean(values, weights)\n",
    "print(f'Weighted Mean: {wm}')"
   ]
  },
  {
   "cell_type": "code",
   "execution_count": null,
   "metadata": {},
   "outputs": [],
   "source": []
  }
 ],
 "metadata": {
  "kernelspec": {
   "display_name": "Python 3 (ipykernel)",
   "language": "python",
   "name": "python3"
  },
  "language_info": {
   "codemirror_mode": {
    "name": "ipython",
    "version": 3
   },
   "file_extension": ".py",
   "mimetype": "text/x-python",
   "name": "python",
   "nbconvert_exporter": "python",
   "pygments_lexer": "ipython3",
   "version": "3.11.4"
  }
 },
 "nbformat": 4,
 "nbformat_minor": 4
}

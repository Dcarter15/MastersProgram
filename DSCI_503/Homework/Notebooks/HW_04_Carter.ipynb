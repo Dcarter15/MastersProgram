{
 "cells": [
  {
   "cell_type": "markdown",
   "metadata": {},
   "source": [
    "## Problem 1: Sample Mean and Variance"
   ]
  },
  {
   "cell_type": "code",
   "execution_count": 1,
   "metadata": {},
   "outputs": [
    {
     "name": "stdout",
     "output_type": "stream",
     "text": [
      "Sample Mean: 16.6\n",
      "Sample Vairance: 23.04\n"
     ]
    }
   ],
   "source": [
    "import numpy as np\n",
    "import math\n",
    "import matplotlib.pyplot as plt\n",
    "\n",
    "x = np.array([10,16,26,12,17,22,14,12,21,16])\n",
    "n = len(x)\n",
    "mean = np.sum(x)/n\n",
    "diff = x - mean\n",
    "var = np.sum(diff**2)/n\n",
    "\n",
    "print(f'Sample Mean: {mean}')\n",
    "print(f'Sample Vairance: {var}')"
   ]
  },
  {
   "cell_type": "code",
   "execution_count": 2,
   "metadata": {},
   "outputs": [
    {
     "name": "stdout",
     "output_type": "stream",
     "text": [
      "Sample Mean: 16.6\n",
      "Sample Vairance: 25.6\n"
     ]
    }
   ],
   "source": [
    "mean_np = np.mean(x)\n",
    "var_np = np.var(x, ddof=1)\n",
    "\n",
    "print(f'Sample Mean: {mean_np}')\n",
    "print(f'Sample Vairance: {var_np}')"
   ]
  },
  {
   "cell_type": "markdown",
   "metadata": {},
   "source": [
    "## Problem 2: Scoring a Regression Model"
   ]
  },
  {
   "cell_type": "code",
   "execution_count": 3,
   "metadata": {},
   "outputs": [],
   "source": [
    "def find_sse(true_y, pred_y):\n",
    "    sse = np.sum((true_y-pred_y)**2)\n",
    "    return sse"
   ]
  },
  {
   "cell_type": "code",
   "execution_count": 4,
   "metadata": {},
   "outputs": [
    {
     "name": "stdout",
     "output_type": "stream",
     "text": [
      "Model 1 SSE: 22.66\n",
      "Model 2 SSE: 19.9\n"
     ]
    }
   ],
   "source": [
    "true_y = np.array([22.1,17.9,16.5,14.3,19.8,23.7,22.0,18.4,25.7,19.2])\n",
    "pred_1 = np.array([21.4,16.7,17.9,12.1,22.1,25.1,21.7,19.3,23.4,19.9])\n",
    "pred_2 = np.array([20.7,18.1,16.9,13.6,21.9,24.8,20.3,21.1,24.8,18.4])\n",
    "\n",
    "sse_1 = find_sse(true_y, pred_1)\n",
    "sse_2 = find_sse(true_y, pred_2)\n",
    "\n",
    "print(f'Model 1 SSE: {np.round(sse_1,2)}')\n",
    "print(f'Model 2 SSE: {np.round(sse_2,2)}')"
   ]
  },
  {
   "cell_type": "markdown",
   "metadata": {},
   "source": [
    "## Part 3: Scoring a Classification Model"
   ]
  },
  {
   "cell_type": "code",
   "execution_count": 5,
   "metadata": {},
   "outputs": [],
   "source": [
    "def find_accuracy(true_y, pred_y):\n",
    "    score = np.sum(np.where(true_y == pred_y, 1, 0))\n",
    "    acc_scr = score/len(true_y)\n",
    "    return acc_scr"
   ]
  },
  {
   "cell_type": "code",
   "execution_count": 6,
   "metadata": {},
   "outputs": [
    {
     "name": "stdout",
     "output_type": "stream",
     "text": [
      "Model Accuracy: 0.75\n"
     ]
    }
   ],
   "source": [
    "true_diag = np.array(['P','P','N','N','P','N','N','N','P','N','N','N','N','P','P','N','N','N','N','N'])\n",
    "pred_diag = np.array(['N','P','N','P','P','N','P','N','P','N','N','N','P','P','P','N','N','N','P','N'])\n",
    "acc_scr = find_accuracy(true_diag, pred_diag)\n",
    "\n",
    "print(f'Model Accuracy: {acc_scr}')"
   ]
  },
  {
   "cell_type": "code",
   "execution_count": 7,
   "metadata": {},
   "outputs": [
    {
     "name": "stdout",
     "output_type": "stream",
     "text": [
      "Model Accuracy: 0.875\n"
     ]
    }
   ],
   "source": [
    "true_labels = np.array(['dog','dog','cat','dog','cat','cat','cat','dog','cat','cat','dog','cat','cat','dog','dog','dog','dog','cat','cat','cat','dog','dog','cat','cat'])\n",
    "pred_labels = np.array(['dog','dog','cat','dog','cat','dog','cat','dog','cat','cat','dog','cat','cat','dog','cat','dog','dog','cat','dog','cat','dog','dog','cat','cat'])\n",
    "acc_scr = find_accuracy(true_labels,pred_labels)\n",
    "\n",
    "print(f'Model Accuracy: {acc_scr}')"
   ]
  },
  {
   "cell_type": "markdown",
   "metadata": {},
   "source": [
    "## Problem 4: Classification Report"
   ]
  },
  {
   "cell_type": "code",
   "execution_count": 8,
   "metadata": {},
   "outputs": [],
   "source": [
    "def classification_report(true_y, pred_y):\n",
    "    classes = np.unique(true_y)\n",
    "    print(classes)\n",
    "    score = find_accuracy(true_y, pred_y)\n",
    "    true_positive = np.sum(np.where((classes[1] == pred_y) & (classes[1] == true_y), 1, 0))\n",
    "    false_positive = np.sum(np.where((classes[1] == pred_y) & (classes[1] != true_y), 1, 0))\n",
    "    true_negative = np.sum(np.where((classes[0] == pred_y) & (classes[0] == true_y), 1, 0))\n",
    "    false_negative = np.sum(np.where((classes[0] == pred_y) & (classes[0] != true_y), 1, 0))\n",
    "    positive_precision = (true_positive/(true_positive+false_positive))\n",
    "    positive_recall = (true_positive/(true_positive+false_negative))\n",
    "    negative_precision = (true_negative/(true_negative+false_negative))\n",
    "    negative_recall = (true_negative/(true_negative+false_positive))\n",
    "    \n",
    "    print(f'Positive Class: {classes[1]}')\n",
    "    print(f'Negative Class: {classes[0]}')\n",
    "    print('\\n')\n",
    "    print(f'Accuracy: {np.round(score, 4)}')\n",
    "    print(f'Positive Precision: {np.round(positive_precision, 4)}')\n",
    "    print(f'Positive Recall: {np.round(positive_recall, 4)}')\n",
    "    print(f'Negative Precision: {np.round(negative_precision, 4)}')\n",
    "    print(f'Negative Recall: {np.round(negative_recall, 4)}')\n",
    "    \n",
    "    \n",
    "    "
   ]
  },
  {
   "cell_type": "code",
   "execution_count": 9,
   "metadata": {},
   "outputs": [
    {
     "name": "stdout",
     "output_type": "stream",
     "text": [
      "['N' 'P']\n",
      "Positive Class: P\n",
      "Negative Class: N\n",
      "\n",
      "\n",
      "Accuracy: 0.75\n",
      "Positive Precision: 0.5556\n",
      "Positive Recall: 0.8333\n",
      "Negative Precision: 0.9091\n",
      "Negative Recall: 0.7143\n"
     ]
    }
   ],
   "source": [
    "classification_report(true_diag, pred_diag)"
   ]
  },
  {
   "cell_type": "code",
   "execution_count": 10,
   "metadata": {},
   "outputs": [
    {
     "name": "stdout",
     "output_type": "stream",
     "text": [
      "['cat' 'dog']\n",
      "Positive Class: dog\n",
      "Negative Class: cat\n",
      "\n",
      "\n",
      "Accuracy: 0.875\n",
      "Positive Precision: 0.8333\n",
      "Positive Recall: 0.9091\n",
      "Negative Precision: 0.9167\n",
      "Negative Recall: 0.8462\n"
     ]
    }
   ],
   "source": [
    "classification_report(true_labels, pred_labels)"
   ]
  },
  {
   "cell_type": "markdown",
   "metadata": {},
   "source": [
    "## Problem 5: Transformation of Random Variables"
   ]
  },
  {
   "cell_type": "code",
   "execution_count": 11,
   "metadata": {},
   "outputs": [
    {
     "name": "stdout",
     "output_type": "stream",
     "text": [
      "Sample Mean of X: 0.0025\n",
      "Sample Std Dev of X: 0.4002\n",
      "Sample Mean of Y: 1.0862\n",
      "Sampel Std Dev of Y: 0.4537\n"
     ]
    }
   ],
   "source": [
    "np.random.seed(1)\n",
    "X = np.random.normal(0,.4,25000)\n",
    "Y = np.exp(X)\n",
    "X_mean = np.mean(X)\n",
    "X_std = np.std(X, ddof=1)\n",
    "Y_mean = np.mean(Y)\n",
    "Y_std = np.std(Y, ddof=1)\n",
    "\n",
    "print(f'Sample Mean of X: {np.round(X_mean, 4)}')\n",
    "print(f'Sample Std Dev of X: {np.round(X_std, 4)}')\n",
    "print(f'Sample Mean of Y: {np.round(Y_mean, 4)}')\n",
    "print(f'Sampel Std Dev of Y: {np.round(Y_std, 4)}')"
   ]
  },
  {
   "cell_type": "code",
   "execution_count": 12,
   "metadata": {
    "scrolled": true
   },
   "outputs": [
    {
     "data": {
      "text/plain": [
       "Text(0.5, 1.0, 'Histogram of Y Values')"
      ]
     },
     "execution_count": 12,
     "metadata": {},
     "output_type": "execute_result"
    },
    {
     "data": {
      "image/png": "[encoded data removed]",
      "text/plain": [
       "<Figure size 864x288 with 2 Axes>"
      ]
     },
     "metadata": {
      "needs_background": "light"
     },
     "output_type": "display_data"
    }
   ],
   "source": [
    "plt.figure(figsize=[12,4])\n",
    "plt.subplot(2,3,1)\n",
    "plt.hist(X, edgecolor='black', color='blue', bins=30)\n",
    "plt.title('Histogram of X Values')\n",
    "plt.subplot(2,3,2)\n",
    "plt.hist(Y, edgecolor='black', color='red', bins=30)\n",
    "plt.title('Histogram of Y Values')"
   ]
  },
  {
   "cell_type": "markdown",
   "metadata": {},
   "source": [
    "## Problem 6: Stochastic Linear Relationships "
   ]
  },
  {
   "cell_type": "code",
   "execution_count": 13,
   "metadata": {},
   "outputs": [
    {
     "data": {
      "image/png": "[encoded data removed]",
      "text/plain": [
       "<Figure size 576x432 with 1 Axes>"
      ]
     },
     "metadata": {
      "needs_background": "light"
     },
     "output_type": "display_data"
    }
   ],
   "source": [
    "np.random.seed(1)\n",
    "x_vals = np.random.normal(10,2,200)\n",
    "errors = np.random.normal(0,1.2,200)\n",
    "y_vals = 5.1+.9*x_vals+errors\n",
    "\n",
    "plt.figure(figsize=[8,6])\n",
    "plt.scatter(x=x_vals, y=y_vals, s=60, alpha=.8, color='red', edgecolor='black')\n",
    "plt.title('X vs Y')\n",
    "plt.xlabel('X Values')\n",
    "plt.ylabel('Y Values')\n",
    "plt.show()"
   ]
  },
  {
   "cell_type": "code",
   "execution_count": 14,
   "metadata": {},
   "outputs": [
    {
     "name": "stdout",
     "output_type": "stream",
     "text": [
      "Correlation between X and Y: 0.786059669827657\n"
     ]
    }
   ],
   "source": [
    "diff_x = x_vals-np.mean(x_vals)\n",
    "diff_y = y_vals-np.mean(y_vals)\n",
    "top_frac = np.sum(diff_x*diff_y)\n",
    "bot_frac = np.sqrt((np.sum((diff_x**2))*np.sum((diff_y**2))))\n",
    "r = top_frac/bot_frac\n",
    "\n",
    "print(f'Correlation between X and Y: {r}')"
   ]
  },
  {
   "cell_type": "markdown",
   "metadata": {},
   "source": [
    "## Problem 7: Relationship between Life Expectancy and Per Capita GDP"
   ]
  },
  {
   "cell_type": "code",
   "execution_count": 46,
   "metadata": {},
   "outputs": [
    {
     "name": "stdout",
     "output_type": "stream",
     "text": [
      "               country  year continent  population  life_exp  gdp_per_cap  \\\n",
      "0          Afghanistan  1800      asia     3280000      28.2          603   \n",
      "1              Albania  1800    europe      410000      35.4          667   \n",
      "2              Algeria  1800    africa     2500000      28.8          715   \n",
      "3               Angola  1800    africa     1570000      27.0          618   \n",
      "4  Antigua and Barbuda  1800  americas       37000      33.5          757   \n",
      "\n",
      "   gini  \n",
      "0  30.5  \n",
      "1  38.9  \n",
      "2  56.2  \n",
      "3  57.2  \n",
      "4  40.0  \n"
     ]
    }
   ],
   "source": [
    "import pandas as pd\n",
    "df = pd.read_csv('gapminder_data.txt', sep='\\t')\n",
    "print(df.head())\n",
    "country = df.country.values\n",
    "year = df.year.values\n",
    "continent = df.continent.values\n",
    "population = df.population.values\n",
    "life_exp = df.life_exp.values\n",
    "pcgdp = df.gdp_per_cap.values\n",
    "gini = df.gini.values\n",
    "# df = None"
   ]
  },
  {
   "cell_type": "code",
   "execution_count": 47,
   "metadata": {},
   "outputs": [
    {
     "data": {
      "text/plain": [
       "<Figure size 576x432 with 0 Axes>"
      ]
     },
     "metadata": {},
     "output_type": "display_data"
    }
   ],
   "source": [
    "continent_list = ['africa', 'americas', 'asia', 'europe']\n",
    "color_list = ['red', 'blue', 'green', 'yellow']\n",
    "\n",
    "plt.figure(figsize=[8,6])\n",
    "for i in range(len(continent_list)):\n",
    "    sel = np.array([continent_list[i], 2018])\n",
    "                    \n",
    "    \n",
    "#     plt.scatter(x=np.log(pcgdp), y=life_exp, s=100, alpha=.7, edgecolor='black', color=color_list[i], label=continent_list[i])\n",
    "# plt.title(f'Current Continent: {continent_list[i]}')\n",
    "# plt.legend()\n",
    "\n",
    "    "
   ]
  },
  {
   "cell_type": "markdown",
   "metadata": {},
   "source": [
    "## Problem 8: Trends by Country"
   ]
  },
  {
   "cell_type": "code",
   "execution_count": 49,
   "metadata": {},
   "outputs": [
    {
     "ename": "ValueError",
     "evalue": "x and y must have same first dimension, but have shapes (218,) and (40296,)",
     "output_type": "error",
     "traceback": [
      "\u001b[1;31m---------------------------------------------------------------------------\u001b[0m",
      "\u001b[1;31mValueError\u001b[0m                                Traceback (most recent call last)",
      "\u001b[1;32m<ipython-input-49-7b5338390b41>\u001b[0m in \u001b[0;36m<module>\u001b[1;34m\u001b[0m\n\u001b[0;32m      7\u001b[0m \u001b[0myear_range\u001b[0m \u001b[1;33m=\u001b[0m \u001b[0mlist\u001b[0m\u001b[1;33m(\u001b[0m\u001b[0mrange\u001b[0m\u001b[1;33m(\u001b[0m\u001b[1;36m1800\u001b[0m\u001b[1;33m,\u001b[0m\u001b[1;36m2018\u001b[0m\u001b[1;33m)\u001b[0m\u001b[1;33m)\u001b[0m\u001b[1;33m\u001b[0m\u001b[1;33m\u001b[0m\u001b[0m\n\u001b[0;32m      8\u001b[0m \u001b[1;32mfor\u001b[0m \u001b[0mi\u001b[0m \u001b[1;32min\u001b[0m \u001b[0mrange\u001b[0m\u001b[1;33m(\u001b[0m\u001b[0mlen\u001b[0m\u001b[1;33m(\u001b[0m\u001b[0mfive_countries\u001b[0m\u001b[1;33m)\u001b[0m\u001b[1;33m)\u001b[0m\u001b[1;33m:\u001b[0m\u001b[1;33m\u001b[0m\u001b[1;33m\u001b[0m\u001b[0m\n\u001b[1;32m----> 9\u001b[1;33m     \u001b[0mplt\u001b[0m\u001b[1;33m.\u001b[0m\u001b[0mplot\u001b[0m\u001b[1;33m(\u001b[0m\u001b[0myear_range\u001b[0m\u001b[1;33m,\u001b[0m \u001b[0mdf\u001b[0m\u001b[1;33m[\u001b[0m\u001b[1;34m'population'\u001b[0m\u001b[1;33m]\u001b[0m\u001b[1;33m,\u001b[0m \u001b[0mlabel\u001b[0m\u001b[1;33m=\u001b[0m\u001b[0mfive_countries\u001b[0m\u001b[1;33m[\u001b[0m\u001b[0mi\u001b[0m\u001b[1;33m]\u001b[0m\u001b[1;33m)\u001b[0m\u001b[1;33m\u001b[0m\u001b[1;33m\u001b[0m\u001b[0m\n\u001b[0m",
      "\u001b[1;32mC:\\Anaconda\\envs\\PythonAdv\\lib\\site-packages\\matplotlib\\pyplot.py\u001b[0m in \u001b[0;36mplot\u001b[1;34m(scalex, scaley, data, *args, **kwargs)\u001b[0m\n\u001b[0;32m   2840\u001b[0m     return gca().plot(\n\u001b[0;32m   2841\u001b[0m         \u001b[1;33m*\u001b[0m\u001b[0margs\u001b[0m\u001b[1;33m,\u001b[0m \u001b[0mscalex\u001b[0m\u001b[1;33m=\u001b[0m\u001b[0mscalex\u001b[0m\u001b[1;33m,\u001b[0m \u001b[0mscaley\u001b[0m\u001b[1;33m=\u001b[0m\u001b[0mscaley\u001b[0m\u001b[1;33m,\u001b[0m\u001b[1;33m\u001b[0m\u001b[1;33m\u001b[0m\u001b[0m\n\u001b[1;32m-> 2842\u001b[1;33m         **({\"data\": data} if data is not None else {}), **kwargs)\n\u001b[0m\u001b[0;32m   2843\u001b[0m \u001b[1;33m\u001b[0m\u001b[0m\n\u001b[0;32m   2844\u001b[0m \u001b[1;33m\u001b[0m\u001b[0m\n",
      "\u001b[1;32mC:\\Anaconda\\envs\\PythonAdv\\lib\\site-packages\\matplotlib\\axes\\_axes.py\u001b[0m in \u001b[0;36mplot\u001b[1;34m(self, scalex, scaley, data, *args, **kwargs)\u001b[0m\n\u001b[0;32m   1741\u001b[0m         \"\"\"\n\u001b[0;32m   1742\u001b[0m         \u001b[0mkwargs\u001b[0m \u001b[1;33m=\u001b[0m \u001b[0mcbook\u001b[0m\u001b[1;33m.\u001b[0m\u001b[0mnormalize_kwargs\u001b[0m\u001b[1;33m(\u001b[0m\u001b[0mkwargs\u001b[0m\u001b[1;33m,\u001b[0m \u001b[0mmlines\u001b[0m\u001b[1;33m.\u001b[0m\u001b[0mLine2D\u001b[0m\u001b[1;33m)\u001b[0m\u001b[1;33m\u001b[0m\u001b[1;33m\u001b[0m\u001b[0m\n\u001b[1;32m-> 1743\u001b[1;33m         \u001b[0mlines\u001b[0m \u001b[1;33m=\u001b[0m \u001b[1;33m[\u001b[0m\u001b[1;33m*\u001b[0m\u001b[0mself\u001b[0m\u001b[1;33m.\u001b[0m\u001b[0m_get_lines\u001b[0m\u001b[1;33m(\u001b[0m\u001b[1;33m*\u001b[0m\u001b[0margs\u001b[0m\u001b[1;33m,\u001b[0m \u001b[0mdata\u001b[0m\u001b[1;33m=\u001b[0m\u001b[0mdata\u001b[0m\u001b[1;33m,\u001b[0m \u001b[1;33m**\u001b[0m\u001b[0mkwargs\u001b[0m\u001b[1;33m)\u001b[0m\u001b[1;33m]\u001b[0m\u001b[1;33m\u001b[0m\u001b[1;33m\u001b[0m\u001b[0m\n\u001b[0m\u001b[0;32m   1744\u001b[0m         \u001b[1;32mfor\u001b[0m \u001b[0mline\u001b[0m \u001b[1;32min\u001b[0m \u001b[0mlines\u001b[0m\u001b[1;33m:\u001b[0m\u001b[1;33m\u001b[0m\u001b[1;33m\u001b[0m\u001b[0m\n\u001b[0;32m   1745\u001b[0m             \u001b[0mself\u001b[0m\u001b[1;33m.\u001b[0m\u001b[0madd_line\u001b[0m\u001b[1;33m(\u001b[0m\u001b[0mline\u001b[0m\u001b[1;33m)\u001b[0m\u001b[1;33m\u001b[0m\u001b[1;33m\u001b[0m\u001b[0m\n",
      "\u001b[1;32mC:\\Anaconda\\envs\\PythonAdv\\lib\\site-packages\\matplotlib\\axes\\_base.py\u001b[0m in \u001b[0;36m__call__\u001b[1;34m(self, data, *args, **kwargs)\u001b[0m\n\u001b[0;32m    271\u001b[0m                 \u001b[0mthis\u001b[0m \u001b[1;33m+=\u001b[0m \u001b[0margs\u001b[0m\u001b[1;33m[\u001b[0m\u001b[1;36m0\u001b[0m\u001b[1;33m]\u001b[0m\u001b[1;33m,\u001b[0m\u001b[1;33m\u001b[0m\u001b[1;33m\u001b[0m\u001b[0m\n\u001b[0;32m    272\u001b[0m                 \u001b[0margs\u001b[0m \u001b[1;33m=\u001b[0m \u001b[0margs\u001b[0m\u001b[1;33m[\u001b[0m\u001b[1;36m1\u001b[0m\u001b[1;33m:\u001b[0m\u001b[1;33m]\u001b[0m\u001b[1;33m\u001b[0m\u001b[1;33m\u001b[0m\u001b[0m\n\u001b[1;32m--> 273\u001b[1;33m             \u001b[1;32myield\u001b[0m \u001b[1;32mfrom\u001b[0m \u001b[0mself\u001b[0m\u001b[1;33m.\u001b[0m\u001b[0m_plot_args\u001b[0m\u001b[1;33m(\u001b[0m\u001b[0mthis\u001b[0m\u001b[1;33m,\u001b[0m \u001b[0mkwargs\u001b[0m\u001b[1;33m)\u001b[0m\u001b[1;33m\u001b[0m\u001b[1;33m\u001b[0m\u001b[0m\n\u001b[0m\u001b[0;32m    274\u001b[0m \u001b[1;33m\u001b[0m\u001b[0m\n\u001b[0;32m    275\u001b[0m     \u001b[1;32mdef\u001b[0m \u001b[0mget_next_color\u001b[0m\u001b[1;33m(\u001b[0m\u001b[0mself\u001b[0m\u001b[1;33m)\u001b[0m\u001b[1;33m:\u001b[0m\u001b[1;33m\u001b[0m\u001b[1;33m\u001b[0m\u001b[0m\n",
      "\u001b[1;32mC:\\Anaconda\\envs\\PythonAdv\\lib\\site-packages\\matplotlib\\axes\\_base.py\u001b[0m in \u001b[0;36m_plot_args\u001b[1;34m(self, tup, kwargs)\u001b[0m\n\u001b[0;32m    397\u001b[0m \u001b[1;33m\u001b[0m\u001b[0m\n\u001b[0;32m    398\u001b[0m         \u001b[1;32mif\u001b[0m \u001b[0mx\u001b[0m\u001b[1;33m.\u001b[0m\u001b[0mshape\u001b[0m\u001b[1;33m[\u001b[0m\u001b[1;36m0\u001b[0m\u001b[1;33m]\u001b[0m \u001b[1;33m!=\u001b[0m \u001b[0my\u001b[0m\u001b[1;33m.\u001b[0m\u001b[0mshape\u001b[0m\u001b[1;33m[\u001b[0m\u001b[1;36m0\u001b[0m\u001b[1;33m]\u001b[0m\u001b[1;33m:\u001b[0m\u001b[1;33m\u001b[0m\u001b[1;33m\u001b[0m\u001b[0m\n\u001b[1;32m--> 399\u001b[1;33m             raise ValueError(f\"x and y must have same first dimension, but \"\n\u001b[0m\u001b[0;32m    400\u001b[0m                              f\"have shapes {x.shape} and {y.shape}\")\n\u001b[0;32m    401\u001b[0m         \u001b[1;32mif\u001b[0m \u001b[0mx\u001b[0m\u001b[1;33m.\u001b[0m\u001b[0mndim\u001b[0m \u001b[1;33m>\u001b[0m \u001b[1;36m2\u001b[0m \u001b[1;32mor\u001b[0m \u001b[0my\u001b[0m\u001b[1;33m.\u001b[0m\u001b[0mndim\u001b[0m \u001b[1;33m>\u001b[0m \u001b[1;36m2\u001b[0m\u001b[1;33m:\u001b[0m\u001b[1;33m\u001b[0m\u001b[1;33m\u001b[0m\u001b[0m\n",
      "\u001b[1;31mValueError\u001b[0m: x and y must have same first dimension, but have shapes (218,) and (40296,)"
     ]
    },
    {
     "data": {
      "image/png": "[encoded data removed]",
      "text/plain": [
       "<Figure size 576x288 with 1 Axes>"
      ]
     },
     "metadata": {
      "needs_background": "light"
     },
     "output_type": "display_data"
    }
   ],
   "source": [
    "import random\n",
    "random.seed(1)\n",
    "unique_countries = set(country)\n",
    "#choose 5 countries\n",
    "five_countries = random.sample(unique_countries, 5)\n",
    "plt.figure(figsize=[8,4])\n",
    "year_range = list(range(1800,2018))\n",
    "for i in range(len(five_countries)):\n",
    "    plt.plot(year_range, df['population'], label=five_countries[i])"
   ]
  },
  {
   "cell_type": "code",
   "execution_count": null,
   "metadata": {},
   "outputs": [],
   "source": []
  },
  {
   "cell_type": "code",
   "execution_count": null,
   "metadata": {},
   "outputs": [],
   "source": []
  }
 ],
 "metadata": {
  "kernelspec": {
   "display_name": "Python 3",
   "language": "python",
   "name": "python3"
  },
  "language_info": {
   "codemirror_mode": {
    "name": "ipython",
    "version": 3
   },
   "file_extension": ".py",
   "mimetype": "text/x-python",
   "name": "python",
   "nbconvert_exporter": "python",
   "pygments_lexer": "ipython3",
   "version": "3.6.12"
  }
 },
 "nbformat": 4,
 "nbformat_minor": 5
}

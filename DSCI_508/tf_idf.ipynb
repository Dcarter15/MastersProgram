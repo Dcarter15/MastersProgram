{
 "cells": [
  {
   "cell_type": "code",
   "execution_count": 1,
   "metadata": {},
   "outputs": [],
   "source": [
    "import pandas as pd\n",
    "import numpy as np\n",
    "from sklearn.feature_extraction.text import TfidfVectorizer"
   ]
  },
  {
   "cell_type": "code",
   "execution_count": 2,
   "metadata": {},
   "outputs": [],
   "source": [
    "#create the tf-idf function\n",
    "\n",
    "def tf_idf_func(text_file):\n",
    "    #create vectorizer\n",
    "    vectorizer = TfidfVectorizer()\n",
    "    #perform TG-IDF on file\n",
    "    matrix = vectorizer.fit_transform(text_file)\n",
    "    feature_names = vectorizer.get_feature_names()\n",
    "    df = pd.DataFrame(\n",
    "    data=matrix.toarray(),\n",
    "    columns=feature_names)\n",
    "    return df"
   ]
  },
  {
   "cell_type": "code",
   "execution_count": 3,
   "metadata": {},
   "outputs": [],
   "source": [
    "#read in files\n",
    "thor = open('thor_ragnarok.txt', 'r')\n",
    "thor = thor.read()\n",
    "thor = [thor]"
   ]
  },
  {
   "cell_type": "code",
   "execution_count": 4,
   "metadata": {},
   "outputs": [
    {
     "data": {
      "text/html": [
       "<div>\n",
       "<style scoped>\n",
       "    .dataframe tbody tr th:only-of-type {\n",
       "        vertical-align: middle;\n",
       "    }\n",
       "\n",
       "    .dataframe tbody tr th {\n",
       "        vertical-align: top;\n",
       "    }\n",
       "\n",
       "    .dataframe thead th {\n",
       "        text-align: right;\n",
       "    }\n",
       "</style>\n",
       "<table border=\"1\" class=\"dataframe\">\n",
       "  <thead>\n",
       "    <tr style=\"text-align: right;\">\n",
       "      <th></th>\n",
       "      <th>10</th>\n",
       "      <th>12</th>\n",
       "      <th>142</th>\n",
       "      <th>18</th>\n",
       "      <th>30</th>\n",
       "      <th>ability</th>\n",
       "      <th>about</th>\n",
       "      <th>absence</th>\n",
       "      <th>absolute</th>\n",
       "      <th>access</th>\n",
       "      <th>...</th>\n",
       "      <th>yield</th>\n",
       "      <th>you</th>\n",
       "      <th>young</th>\n",
       "      <th>younger</th>\n",
       "      <th>your</th>\n",
       "      <th>yours</th>\n",
       "      <th>yourself</th>\n",
       "      <th>yuck</th>\n",
       "      <th>zap</th>\n",
       "      <th>zero</th>\n",
       "    </tr>\n",
       "  </thead>\n",
       "  <tbody>\n",
       "    <tr>\n",
       "      <th>0</th>\n",
       "      <td>0.001267</td>\n",
       "      <td>0.001267</td>\n",
       "      <td>0.005067</td>\n",
       "      <td>0.001267</td>\n",
       "      <td>0.001267</td>\n",
       "      <td>0.001267</td>\n",
       "      <td>0.040536</td>\n",
       "      <td>0.001267</td>\n",
       "      <td>0.002534</td>\n",
       "      <td>0.011401</td>\n",
       "      <td>...</td>\n",
       "      <td>0.001267</td>\n",
       "      <td>0.571305</td>\n",
       "      <td>0.001267</td>\n",
       "      <td>0.001267</td>\n",
       "      <td>0.076005</td>\n",
       "      <td>0.002534</td>\n",
       "      <td>0.007601</td>\n",
       "      <td>0.001267</td>\n",
       "      <td>0.001267</td>\n",
       "      <td>0.001267</td>\n",
       "    </tr>\n",
       "  </tbody>\n",
       "</table>\n",
       "<p>1 rows × 1566 columns</p>\n",
       "</div>"
      ],
      "text/plain": [
       "         10        12       142        18        30   ability     about  \\\n",
       "0  0.001267  0.001267  0.005067  0.001267  0.001267  0.001267  0.040536   \n",
       "\n",
       "    absence  absolute    access  ...     yield       you     young   younger  \\\n",
       "0  0.001267  0.002534  0.011401  ...  0.001267  0.571305  0.001267  0.001267   \n",
       "\n",
       "       your     yours  yourself      yuck       zap      zero  \n",
       "0  0.076005  0.002534  0.007601  0.001267  0.001267  0.001267  \n",
       "\n",
       "[1 rows x 1566 columns]"
      ]
     },
     "execution_count": 4,
     "metadata": {},
     "output_type": "execute_result"
    }
   ],
   "source": [
    "matrix = tf_idf_func(thor)\n",
    "matrix"
   ]
  },
  {
   "cell_type": "code",
   "execution_count": null,
   "metadata": {},
   "outputs": [],
   "source": []
  }
 ],
 "metadata": {
  "kernelspec": {
   "display_name": "Python [conda env:PythonAdv] *",
   "language": "python",
   "name": "conda-env-PythonAdv-py"
  },
  "language_info": {
   "codemirror_mode": {
    "name": "ipython",
    "version": 3
   },
   "file_extension": ".py",
   "mimetype": "text/x-python",
   "name": "python",
   "nbconvert_exporter": "python",
   "pygments_lexer": "ipython3",
   "version": "3.6.12"
  }
 },
 "nbformat": 4,
 "nbformat_minor": 4
}

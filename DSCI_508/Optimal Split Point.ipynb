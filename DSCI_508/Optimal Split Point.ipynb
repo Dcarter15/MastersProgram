{
 "cells": [
  {
   "cell_type": "code",
   "execution_count": 1,
   "metadata": {},
   "outputs": [],
   "source": [
    "import pandas as pd\n",
    "import numpy as np\n",
    "from sklearn import tree"
   ]
  },
  {
   "cell_type": "code",
   "execution_count": 2,
   "metadata": {},
   "outputs": [
    {
     "data": {
      "text/html": [
       "<div>\n",
       "<style scoped>\n",
       "    .dataframe tbody tr th:only-of-type {\n",
       "        vertical-align: middle;\n",
       "    }\n",
       "\n",
       "    .dataframe tbody tr th {\n",
       "        vertical-align: top;\n",
       "    }\n",
       "\n",
       "    .dataframe thead th {\n",
       "        text-align: right;\n",
       "    }\n",
       "</style>\n",
       "<table border=\"1\" class=\"dataframe\">\n",
       "  <thead>\n",
       "    <tr style=\"text-align: right;\">\n",
       "      <th></th>\n",
       "      <th>Legs</th>\n",
       "      <th>Body Covering</th>\n",
       "      <th>Animal</th>\n",
       "    </tr>\n",
       "  </thead>\n",
       "  <tbody>\n",
       "    <tr>\n",
       "      <th>0</th>\n",
       "      <td>0</td>\n",
       "      <td>scales</td>\n",
       "      <td>snake</td>\n",
       "    </tr>\n",
       "    <tr>\n",
       "      <th>1</th>\n",
       "      <td>0</td>\n",
       "      <td>scales</td>\n",
       "      <td>snake</td>\n",
       "    </tr>\n",
       "    <tr>\n",
       "      <th>2</th>\n",
       "      <td>2</td>\n",
       "      <td>feathers</td>\n",
       "      <td>bird</td>\n",
       "    </tr>\n",
       "    <tr>\n",
       "      <th>3</th>\n",
       "      <td>2</td>\n",
       "      <td>feathers</td>\n",
       "      <td>bird</td>\n",
       "    </tr>\n",
       "    <tr>\n",
       "      <th>4</th>\n",
       "      <td>2</td>\n",
       "      <td>feathers</td>\n",
       "      <td>bird</td>\n",
       "    </tr>\n",
       "  </tbody>\n",
       "</table>\n",
       "</div>"
      ],
      "text/plain": [
       "   Legs Body Covering Animal\n",
       "0     0        scales  snake\n",
       "1     0        scales  snake\n",
       "2     2      feathers   bird\n",
       "3     2      feathers   bird\n",
       "4     2      feathers   bird"
      ]
     },
     "execution_count": 2,
     "metadata": {},
     "output_type": "execute_result"
    }
   ],
   "source": [
    "animal_df = pd.read_csv('animals-training.csv')\n",
    "animal_df.head()"
   ]
  },
  {
   "cell_type": "code",
   "execution_count": 3,
   "metadata": {},
   "outputs": [
    {
     "data": {
      "text/plain": [
       "['Body Covering', 'Animal']"
      ]
     },
     "execution_count": 3,
     "metadata": {},
     "output_type": "execute_result"
    }
   ],
   "source": [
    "col_list = list(animal_df.columns)\n",
    "objList = []\n",
    "for col in col_list:\n",
    "    if animal_df.dtypes[col] == object:\n",
    "        objList.append(col)\n",
    "objList"
   ]
  },
  {
   "cell_type": "code",
   "execution_count": 4,
   "metadata": {},
   "outputs": [
    {
     "data": {
      "text/html": [
       "<div>\n",
       "<style scoped>\n",
       "    .dataframe tbody tr th:only-of-type {\n",
       "        vertical-align: middle;\n",
       "    }\n",
       "\n",
       "    .dataframe tbody tr th {\n",
       "        vertical-align: top;\n",
       "    }\n",
       "\n",
       "    .dataframe thead th {\n",
       "        text-align: right;\n",
       "    }\n",
       "</style>\n",
       "<table border=\"1\" class=\"dataframe\">\n",
       "  <thead>\n",
       "    <tr style=\"text-align: right;\">\n",
       "      <th></th>\n",
       "      <th>Body Covering_feathers</th>\n",
       "      <th>Body Covering_furry</th>\n",
       "      <th>Body Covering_hide</th>\n",
       "      <th>Body Covering_scales</th>\n",
       "    </tr>\n",
       "  </thead>\n",
       "  <tbody>\n",
       "    <tr>\n",
       "      <th>0</th>\n",
       "      <td>0</td>\n",
       "      <td>0</td>\n",
       "      <td>0</td>\n",
       "      <td>1</td>\n",
       "    </tr>\n",
       "    <tr>\n",
       "      <th>1</th>\n",
       "      <td>0</td>\n",
       "      <td>0</td>\n",
       "      <td>0</td>\n",
       "      <td>1</td>\n",
       "    </tr>\n",
       "    <tr>\n",
       "      <th>2</th>\n",
       "      <td>1</td>\n",
       "      <td>0</td>\n",
       "      <td>0</td>\n",
       "      <td>0</td>\n",
       "    </tr>\n",
       "    <tr>\n",
       "      <th>3</th>\n",
       "      <td>1</td>\n",
       "      <td>0</td>\n",
       "      <td>0</td>\n",
       "      <td>0</td>\n",
       "    </tr>\n",
       "    <tr>\n",
       "      <th>4</th>\n",
       "      <td>1</td>\n",
       "      <td>0</td>\n",
       "      <td>0</td>\n",
       "      <td>0</td>\n",
       "    </tr>\n",
       "  </tbody>\n",
       "</table>\n",
       "</div>"
      ],
      "text/plain": [
       "   Body Covering_feathers  Body Covering_furry  Body Covering_hide  \\\n",
       "0                       0                    0                   0   \n",
       "1                       0                    0                   0   \n",
       "2                       1                    0                   0   \n",
       "3                       1                    0                   0   \n",
       "4                       1                    0                   0   \n",
       "\n",
       "   Body Covering_scales  \n",
       "0                     1  \n",
       "1                     1  \n",
       "2                     0  \n",
       "3                     0  \n",
       "4                     0  "
      ]
     },
     "execution_count": 4,
     "metadata": {},
     "output_type": "execute_result"
    }
   ],
   "source": [
    "df_cats = pd.get_dummies(animal_df[objList[:-1]], prefix_sep='_', drop_first=False)\n",
    "df_cats.head()"
   ]
  },
  {
   "cell_type": "code",
   "execution_count": 5,
   "metadata": {},
   "outputs": [],
   "source": [
    "numList = [item for item in col_list if item not in objList]\n",
    "numList\n",
    "df_nums = animal_df[numList]"
   ]
  },
  {
   "cell_type": "code",
   "execution_count": 6,
   "metadata": {},
   "outputs": [],
   "source": [
    "df_vars = pd.concat([df_nums, df_cats],axis=1)\n",
    "X = df_vars\n",
    "features = list( df_vars.columns)\n",
    "y = animal_df.iloc[:, -1].values "
   ]
  },
  {
   "cell_type": "code",
   "execution_count": 7,
   "metadata": {},
   "outputs": [],
   "source": [
    "clf=tree.DecisionTreeClassifier(criterion='gini',splitter='best')\n",
    "clf=clf.fit(X,y)\n",
    "tree1 = clf.tree_"
   ]
  },
  {
   "cell_type": "code",
   "execution_count": 8,
   "metadata": {},
   "outputs": [],
   "source": [
    "clf2=tree.DecisionTreeClassifier(criterion='entropy',splitter='best')\n",
    "clf2=clf.fit(X,y)\n",
    "tree2 = clf2.tree_"
   ]
  },
  {
   "cell_type": "code",
   "execution_count": 9,
   "metadata": {},
   "outputs": [],
   "source": [
    "def optimal_split(df, tree_):\n",
    "    #get initial Gini/Entropy\n",
    "    count = df['Animal'].value_counts().reset_index().rename(columns={\"index\": \"Animal\", 'Animal': \"count\"})\n",
    "    count['p(x)'] = np.round(count['count']/sum(count['count']),2)\n",
    "    count['p(1-x)'] = np.subtract(1, count['p(x)'])\n",
    "    count['log(px)'] = np.log2(count['p(x)'])\n",
    "    count['entropy'] = np.round(count['p(x)'] * -count['log(px)'],2)\n",
    "    count['gini'] = np.round(count['p(x)']*count['p(1-x)'],2)\n",
    "    initial_gini = np.round(np.sum(count['gini']),2)\n",
    "    initial_entropy = np.round(np.sum(count['entropy']),2)\n",
    "    gini_values = tree_.impurity[1:3]\n",
    "    tree_extract = tree.export_text(clf, feature_names=features)\n",
    "    split_string = tree_extract.split('|')\n",
    "    first_feature = split_string[1].split('---') \n",
    "    optimal_split = first_feature[1]\n",
    "    return optimal_split, initial_entropy, initial_gini, gini_values"
   ]
  },
  {
   "cell_type": "code",
   "execution_count": 10,
   "metadata": {},
   "outputs": [
    {
     "name": "stdout",
     "output_type": "stream",
     "text": [
      "The initial ginie value was 2.56\n",
      "The initial entropy value was 0.81\n",
      "The gini values after the first split were [0.7768595 0.71875  ]\n",
      "The optimal split is on  Body Covering_scales <= 0.50\n",
      "\n",
      "The initial ginie value was 2.56\n",
      "The initial entropy value was 0.81\n",
      "The gini values after the first split were [0.7768595 0.71875  ]\n",
      "The optimal split is on  Body Covering_scales <= 0.50\n",
      "\n"
     ]
    }
   ],
   "source": [
    "#gini tree\n",
    "os1, ig1, ie1, gv1 = optimal_split(animal_df, tree1)\n",
    "print(f'The initial ginie value was {ig1}')\n",
    "print(f'The initial entropy value was {ie1}')\n",
    "print(f'The gini values after the first split were {gv1}')\n",
    "print(f'The optimal split is on {os1}')\n",
    "\n",
    "#entropy tree\n",
    "os2, ig2, ie2, gv2 = optimal_split(animal_df, tree2)\n",
    "print(f'The initial ginie value was {ig2}')\n",
    "print(f'The initial entropy value was {ie2}')\n",
    "print(f'The gini values after the first split were {gv2}')\n",
    "print(f'The optimal split is on {os1}')"
   ]
  },
  {
   "cell_type": "code",
   "execution_count": null,
   "metadata": {},
   "outputs": [],
   "source": []
  }
 ],
 "metadata": {
  "kernelspec": {
   "display_name": "Python [conda env:PythonAdv] *",
   "language": "python",
   "name": "conda-env-PythonAdv-py"
  },
  "language_info": {
   "codemirror_mode": {
    "name": "ipython",
    "version": 3
   },
   "file_extension": ".py",
   "mimetype": "text/x-python",
   "name": "python",
   "nbconvert_exporter": "python",
   "pygments_lexer": "ipython3",
   "version": "3.6.12"
  }
 },
 "nbformat": 4,
 "nbformat_minor": 4
}

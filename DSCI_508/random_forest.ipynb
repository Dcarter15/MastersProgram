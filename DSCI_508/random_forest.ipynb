{
 "cells": [
  {
   "cell_type": "code",
   "execution_count": 3,
   "metadata": {},
   "outputs": [
    {
     "data": {
      "text/plain": [
       "\n",
       "       No       Yes \n",
       "0.6930502 0.3069498 "
      ]
     },
     "metadata": {},
     "output_type": "display_data"
    }
   ],
   "source": [
    "# The following command cleans the working memory and ensures that all references are to items created in this file.\n",
    "rm(list=(ls()))\n",
    "\n",
    "# Data set containing sales of child car seats (coded as high or low) at 400 different stores\n",
    "mort <- read.csv(\"mort_data.csv\")\n",
    "\n",
    "table(mort$death)/nrow(mort)[1]\n",
    "\n",
    "#Let's perform some pre-processing\n",
    "\n",
    "#Convert the variables below into a factor.\n",
    "#There are only three categorical variables that we want to convert into a factor, but when you have many variables to convert, you may want to automate the process.\n",
    "\n",
    "mort$sex <- factor(mort$sex)\n",
    "mort$smoker <- factor(mort$smoker)\n",
    "mort$death <- factor(mort$death)"
   ]
  },
  {
   "cell_type": "code",
   "execution_count": 4,
   "metadata": {},
   "outputs": [],
   "source": [
    "#Let's split the data into a train (70%) and test (30%) sets.\n",
    "\n",
    "set.seed (23) # for reproducibility\n",
    "library(caret) \n",
    "\n",
    "# Caret has a nice createdataPatrition function that creates a train and test split. It performs stratified sampling based on the target variable (label).\n",
    "\n",
    "index <- createDataPartition(y = mort$death,\n",
    "                                     p = .7,\n",
    "                                     list = FALSE)\n",
    "\n",
    "mort.train <- mort[index,] \n",
    "mort.test <- mort[-index,]"
   ]
  },
  {
   "cell_type": "code",
   "execution_count": 6,
   "metadata": {},
   "outputs": [],
   "source": [
    "library(rpart)\n",
    "library(rpart.plot)\n",
    "set.seed(23)"
   ]
  },
  {
   "cell_type": "code",
   "execution_count": 7,
   "metadata": {},
   "outputs": [],
   "source": [
    "# Set the formula with all variables.If you choose, you can manually type the formula.\n",
    "target <- \"death\"\n",
    "features <- c(\"attage\",\n",
    "              \"sex\",\n",
    "              \"smoker\")\n",
    "\n",
    "\n",
    "\n",
    "rforest.f <- as.formula(paste(target, paste(features, collapse = \"+\"), sep = \"~\"))"
   ]
  },
  {
   "cell_type": "code",
   "execution_count": 13,
   "metadata": {},
   "outputs": [],
   "source": [
    "if (!require(\"randomForest\")) {install.packages(\"randomForest\")}\n",
    "library(randomForest)"
   ]
  },
  {
   "cell_type": "code",
   "execution_count": 14,
   "metadata": {},
   "outputs": [
    {
     "data": {
      "text/plain": [
       "           \n",
       "predictions  No Yes\n",
       "        No  250   1\n",
       "        Yes   2 111"
      ]
     },
     "metadata": {},
     "output_type": "display_data"
    },
    {
     "data": {
      "text/html": [
       "0.991758241758242"
      ],
      "text/latex": [
       "0.991758241758242"
      ],
      "text/markdown": [
       "0.991758241758242"
      ],
      "text/plain": [
       "[1] 0.9917582"
      ]
     },
     "metadata": {},
     "output_type": "display_data"
    },
    {
     "data": {
      "text/plain": [
       "                \n",
       "predictions_test No Yes\n",
       "             No  99  11\n",
       "             Yes  8  36"
      ]
     },
     "metadata": {},
     "output_type": "display_data"
    }
   ],
   "source": [
    "set.seed(23)\n",
    "model.rf <- randomForest(formula = rforest.f, \n",
    "                         data = mort.train,\n",
    "                         ntree = 50,\n",
    "                         mtry = 3, # The number of features to use at each split. \n",
    "                         importance = TRUE\n",
    "                         )\n",
    "\n",
    "predictions <- predict(model.rf, mort.train) \n",
    "\n",
    "table(predictions,mort.train$death)\n",
    "\n",
    "# Accuracy\n",
    "# It has 99.2% accuracy on the train set.\n",
    "# With classification problems, make sure your data is not imbalanced.For imbalanced data, the overall accuracy maynot be important. \n",
    "\n",
    "(250+111)/(250+111+2+1)\n",
    "\n",
    "#Accuracy on the error data\n",
    "\n",
    "predictions_test <- predict(model.rf, mort.test) \n",
    "\n",
    "table(predictions_test,mort.test$death)"
   ]
  },
  {
   "cell_type": "code",
   "execution_count": null,
   "metadata": {},
   "outputs": [],
   "source": []
  }
 ],
 "metadata": {
  "kernelspec": {
   "display_name": "R",
   "language": "R",
   "name": "ir"
  },
  "language_info": {
   "codemirror_mode": "r",
   "file_extension": ".r",
   "mimetype": "text/x-r-source",
   "name": "R",
   "pygments_lexer": "r",
   "version": "3.6.1"
  }
 },
 "nbformat": 4,
 "nbformat_minor": 4
}

{
 "cells": [
  {
   "cell_type": "markdown",
   "metadata": {},
   "source": [
    "### Sample code to create a decision tree and visualize the tree structure\n",
    "Dave Snell for DSCI 408 and 508, Maryville University"
   ]
  },
  {
   "cell_type": "code",
   "execution_count": 1,
   "metadata": {},
   "outputs": [],
   "source": [
    "import pandas as pd\n",
    "import os  \n",
    "import numpy as np\n",
    "from sklearn import tree\n",
    "from IPython.display import Image"
   ]
  },
  {
   "cell_type": "code",
   "execution_count": 2,
   "metadata": {},
   "outputs": [],
   "source": [
    "folder = os.getcwd() + '\\\\'  # double backslashes for Windows OS"
   ]
  },
  {
   "cell_type": "code",
   "execution_count": 4,
   "metadata": {},
   "outputs": [
    {
     "data": {
      "text/html": [
       "<div>\n",
       "<style scoped>\n",
       "    .dataframe tbody tr th:only-of-type {\n",
       "        vertical-align: middle;\n",
       "    }\n",
       "\n",
       "    .dataframe tbody tr th {\n",
       "        vertical-align: top;\n",
       "    }\n",
       "\n",
       "    .dataframe thead th {\n",
       "        text-align: right;\n",
       "    }\n",
       "</style>\n",
       "<table border=\"1\" class=\"dataframe\">\n",
       "  <thead>\n",
       "    <tr style=\"text-align: right;\">\n",
       "      <th></th>\n",
       "      <th>Legs</th>\n",
       "      <th>Body Covering</th>\n",
       "      <th>Animal</th>\n",
       "    </tr>\n",
       "  </thead>\n",
       "  <tbody>\n",
       "    <tr>\n",
       "      <th>0</th>\n",
       "      <td>0</td>\n",
       "      <td>scales</td>\n",
       "      <td>snake</td>\n",
       "    </tr>\n",
       "    <tr>\n",
       "      <th>1</th>\n",
       "      <td>0</td>\n",
       "      <td>scales</td>\n",
       "      <td>snake</td>\n",
       "    </tr>\n",
       "    <tr>\n",
       "      <th>2</th>\n",
       "      <td>2</td>\n",
       "      <td>feathers</td>\n",
       "      <td>bird</td>\n",
       "    </tr>\n",
       "    <tr>\n",
       "      <th>3</th>\n",
       "      <td>2</td>\n",
       "      <td>feathers</td>\n",
       "      <td>bird</td>\n",
       "    </tr>\n",
       "    <tr>\n",
       "      <th>4</th>\n",
       "      <td>2</td>\n",
       "      <td>feathers</td>\n",
       "      <td>bird</td>\n",
       "    </tr>\n",
       "    <tr>\n",
       "      <th>5</th>\n",
       "      <td>2</td>\n",
       "      <td>furry</td>\n",
       "      <td>gorilla</td>\n",
       "    </tr>\n",
       "    <tr>\n",
       "      <th>6</th>\n",
       "      <td>2</td>\n",
       "      <td>furry</td>\n",
       "      <td>gorilla</td>\n",
       "    </tr>\n",
       "    <tr>\n",
       "      <th>7</th>\n",
       "      <td>4</td>\n",
       "      <td>furry</td>\n",
       "      <td>dog</td>\n",
       "    </tr>\n",
       "    <tr>\n",
       "      <th>8</th>\n",
       "      <td>4</td>\n",
       "      <td>furry</td>\n",
       "      <td>dog</td>\n",
       "    </tr>\n",
       "    <tr>\n",
       "      <th>9</th>\n",
       "      <td>4</td>\n",
       "      <td>furry</td>\n",
       "      <td>dog</td>\n",
       "    </tr>\n",
       "    <tr>\n",
       "      <th>10</th>\n",
       "      <td>4</td>\n",
       "      <td>hide</td>\n",
       "      <td>cow</td>\n",
       "    </tr>\n",
       "    <tr>\n",
       "      <th>11</th>\n",
       "      <td>6</td>\n",
       "      <td>scales</td>\n",
       "      <td>butterfly</td>\n",
       "    </tr>\n",
       "    <tr>\n",
       "      <th>12</th>\n",
       "      <td>6</td>\n",
       "      <td>scales</td>\n",
       "      <td>butterfly</td>\n",
       "    </tr>\n",
       "    <tr>\n",
       "      <th>13</th>\n",
       "      <td>6</td>\n",
       "      <td>scales</td>\n",
       "      <td>butterfly</td>\n",
       "    </tr>\n",
       "    <tr>\n",
       "      <th>14</th>\n",
       "      <td>6</td>\n",
       "      <td>scales</td>\n",
       "      <td>butterfly</td>\n",
       "    </tr>\n",
       "    <tr>\n",
       "      <th>15</th>\n",
       "      <td>6</td>\n",
       "      <td>scales</td>\n",
       "      <td>butterfly</td>\n",
       "    </tr>\n",
       "    <tr>\n",
       "      <th>16</th>\n",
       "      <td>6</td>\n",
       "      <td>scales</td>\n",
       "      <td>butterfly</td>\n",
       "    </tr>\n",
       "    <tr>\n",
       "      <th>17</th>\n",
       "      <td>6</td>\n",
       "      <td>scales</td>\n",
       "      <td>butterfly</td>\n",
       "    </tr>\n",
       "    <tr>\n",
       "      <th>18</th>\n",
       "      <td>16</td>\n",
       "      <td>furry</td>\n",
       "      <td>caterpillar</td>\n",
       "    </tr>\n",
       "    <tr>\n",
       "      <th>19</th>\n",
       "      <td>16</td>\n",
       "      <td>furry</td>\n",
       "      <td>caterpillar</td>\n",
       "    </tr>\n",
       "  </tbody>\n",
       "</table>\n",
       "</div>"
      ],
      "text/plain": [
       "    Legs Body Covering       Animal\n",
       "0      0        scales        snake\n",
       "1      0        scales        snake\n",
       "2      2      feathers         bird\n",
       "3      2      feathers         bird\n",
       "4      2      feathers         bird\n",
       "5      2         furry      gorilla\n",
       "6      2         furry      gorilla\n",
       "7      4         furry          dog\n",
       "8      4         furry          dog\n",
       "9      4         furry          dog\n",
       "10     4          hide          cow\n",
       "11     6        scales    butterfly\n",
       "12     6        scales    butterfly\n",
       "13     6        scales    butterfly\n",
       "14     6        scales    butterfly\n",
       "15     6        scales    butterfly\n",
       "16     6        scales    butterfly\n",
       "17     6        scales    butterfly\n",
       "18    16         furry  caterpillar\n",
       "19    16         furry  caterpillar"
      ]
     },
     "execution_count": 4,
     "metadata": {},
     "output_type": "execute_result"
    }
   ],
   "source": [
    "df = pd.read_csv(folder + 'animals-training.csv', header=0)\n",
    "df"
   ]
  },
  {
   "cell_type": "code",
   "execution_count": 5,
   "metadata": {},
   "outputs": [
    {
     "data": {
      "text/plain": [
       "<matplotlib.axes._subplots.AxesSubplot at 0x1f463ce3160>"
      ]
     },
     "execution_count": 5,
     "metadata": {},
     "output_type": "execute_result"
    },
    {
     "data": {
      "image/png": "[encoded data removed]",
      "text/plain": [
       "<Figure size 432x288 with 1 Axes>"
      ]
     },
     "metadata": {
      "needs_background": "light"
     },
     "output_type": "display_data"
    }
   ],
   "source": [
    "df['Animal'].hist(bins=13)"
   ]
  },
  {
   "cell_type": "code",
   "execution_count": 6,
   "metadata": {},
   "outputs": [
    {
     "data": {
      "text/plain": [
       "<matplotlib.axes._subplots.AxesSubplot at 0x1f463dc9d00>"
      ]
     },
     "execution_count": 6,
     "metadata": {},
     "output_type": "execute_result"
    },
    {
     "data": {
      "image/png": "[encoded data removed]",
      "text/plain": [
       "<Figure size 432x288 with 1 Axes>"
      ]
     },
     "metadata": {
      "needs_background": "light"
     },
     "output_type": "display_data"
    }
   ],
   "source": [
    "df['Legs'].hist(bins=31)"
   ]
  },
  {
   "cell_type": "code",
   "execution_count": 7,
   "metadata": {},
   "outputs": [
    {
     "data": {
      "text/plain": [
       "<matplotlib.axes._subplots.AxesSubplot at 0x1f463e8a370>"
      ]
     },
     "execution_count": 7,
     "metadata": {},
     "output_type": "execute_result"
    },
    {
     "data": {
      "image/png": "[encoded data removed]",
      "text/plain": [
       "<Figure size 432x288 with 1 Axes>"
      ]
     },
     "metadata": {
      "needs_background": "light"
     },
     "output_type": "display_data"
    }
   ],
   "source": [
    "df['Body Covering'].hist(bins=31)"
   ]
  },
  {
   "cell_type": "markdown",
   "metadata": {},
   "source": [
    "### The tree classifier from scikit-learn expects all numbers so convert the categorical items to dummy variables"
   ]
  },
  {
   "cell_type": "code",
   "execution_count": 8,
   "metadata": {},
   "outputs": [
    {
     "data": {
      "text/plain": [
       "['Body Covering', 'Animal']"
      ]
     },
     "execution_count": 8,
     "metadata": {},
     "output_type": "execute_result"
    }
   ],
   "source": [
    "col_list = list( df.columns)\n",
    "objList = []\n",
    "for col in col_list:\n",
    "    if df.dtypes[col] == object:\n",
    "        objList.append(col)\n",
    "objList # this is our list of categorical variables"
   ]
  },
  {
   "cell_type": "code",
   "execution_count": 9,
   "metadata": {},
   "outputs": [
    {
     "data": {
      "text/html": [
       "<div>\n",
       "<style scoped>\n",
       "    .dataframe tbody tr th:only-of-type {\n",
       "        vertical-align: middle;\n",
       "    }\n",
       "\n",
       "    .dataframe tbody tr th {\n",
       "        vertical-align: top;\n",
       "    }\n",
       "\n",
       "    .dataframe thead th {\n",
       "        text-align: right;\n",
       "    }\n",
       "</style>\n",
       "<table border=\"1\" class=\"dataframe\">\n",
       "  <thead>\n",
       "    <tr style=\"text-align: right;\">\n",
       "      <th></th>\n",
       "      <th>Body Covering_feathers</th>\n",
       "      <th>Body Covering_furry</th>\n",
       "      <th>Body Covering_hide</th>\n",
       "      <th>Body Covering_scales</th>\n",
       "    </tr>\n",
       "  </thead>\n",
       "  <tbody>\n",
       "    <tr>\n",
       "      <th>0</th>\n",
       "      <td>0</td>\n",
       "      <td>0</td>\n",
       "      <td>0</td>\n",
       "      <td>1</td>\n",
       "    </tr>\n",
       "    <tr>\n",
       "      <th>1</th>\n",
       "      <td>0</td>\n",
       "      <td>0</td>\n",
       "      <td>0</td>\n",
       "      <td>1</td>\n",
       "    </tr>\n",
       "    <tr>\n",
       "      <th>2</th>\n",
       "      <td>1</td>\n",
       "      <td>0</td>\n",
       "      <td>0</td>\n",
       "      <td>0</td>\n",
       "    </tr>\n",
       "    <tr>\n",
       "      <th>3</th>\n",
       "      <td>1</td>\n",
       "      <td>0</td>\n",
       "      <td>0</td>\n",
       "      <td>0</td>\n",
       "    </tr>\n",
       "    <tr>\n",
       "      <th>4</th>\n",
       "      <td>1</td>\n",
       "      <td>0</td>\n",
       "      <td>0</td>\n",
       "      <td>0</td>\n",
       "    </tr>\n",
       "  </tbody>\n",
       "</table>\n",
       "</div>"
      ],
      "text/plain": [
       "   Body Covering_feathers  Body Covering_furry  Body Covering_hide  \\\n",
       "0                       0                    0                   0   \n",
       "1                       0                    0                   0   \n",
       "2                       1                    0                   0   \n",
       "3                       1                    0                   0   \n",
       "4                       1                    0                   0   \n",
       "\n",
       "   Body Covering_scales  \n",
       "0                     1  \n",
       "1                     1  \n",
       "2                     0  \n",
       "3                     0  \n",
       "4                     0  "
      ]
     },
     "execution_count": 9,
     "metadata": {},
     "output_type": "execute_result"
    }
   ],
   "source": [
    "# turn all object types into dummy variables 1-Hot style\n",
    "df_cats = pd.get_dummies(df[objList[:-1]], prefix_sep='_', drop_first=False) # 1-hot, not triangular\n",
    "df_cats.head()"
   ]
  },
  {
   "cell_type": "code",
   "execution_count": 10,
   "metadata": {},
   "outputs": [
    {
     "data": {
      "text/html": [
       "<div>\n",
       "<style scoped>\n",
       "    .dataframe tbody tr th:only-of-type {\n",
       "        vertical-align: middle;\n",
       "    }\n",
       "\n",
       "    .dataframe tbody tr th {\n",
       "        vertical-align: top;\n",
       "    }\n",
       "\n",
       "    .dataframe thead th {\n",
       "        text-align: right;\n",
       "    }\n",
       "</style>\n",
       "<table border=\"1\" class=\"dataframe\">\n",
       "  <thead>\n",
       "    <tr style=\"text-align: right;\">\n",
       "      <th></th>\n",
       "      <th>0</th>\n",
       "      <th>1</th>\n",
       "      <th>2</th>\n",
       "      <th>3</th>\n",
       "      <th>4</th>\n",
       "      <th>5</th>\n",
       "      <th>6</th>\n",
       "      <th>7</th>\n",
       "      <th>8</th>\n",
       "      <th>9</th>\n",
       "      <th>10</th>\n",
       "      <th>11</th>\n",
       "      <th>12</th>\n",
       "      <th>13</th>\n",
       "      <th>14</th>\n",
       "      <th>15</th>\n",
       "      <th>16</th>\n",
       "      <th>17</th>\n",
       "      <th>18</th>\n",
       "      <th>19</th>\n",
       "    </tr>\n",
       "  </thead>\n",
       "  <tbody>\n",
       "    <tr>\n",
       "      <th>Legs</th>\n",
       "      <td>0</td>\n",
       "      <td>0</td>\n",
       "      <td>2</td>\n",
       "      <td>2</td>\n",
       "      <td>2</td>\n",
       "      <td>2</td>\n",
       "      <td>2</td>\n",
       "      <td>4</td>\n",
       "      <td>4</td>\n",
       "      <td>4</td>\n",
       "      <td>4</td>\n",
       "      <td>6</td>\n",
       "      <td>6</td>\n",
       "      <td>6</td>\n",
       "      <td>6</td>\n",
       "      <td>6</td>\n",
       "      <td>6</td>\n",
       "      <td>6</td>\n",
       "      <td>16</td>\n",
       "      <td>16</td>\n",
       "    </tr>\n",
       "    <tr>\n",
       "      <th>Body Covering</th>\n",
       "      <td>scales</td>\n",
       "      <td>scales</td>\n",
       "      <td>feathers</td>\n",
       "      <td>feathers</td>\n",
       "      <td>feathers</td>\n",
       "      <td>furry</td>\n",
       "      <td>furry</td>\n",
       "      <td>furry</td>\n",
       "      <td>furry</td>\n",
       "      <td>furry</td>\n",
       "      <td>hide</td>\n",
       "      <td>scales</td>\n",
       "      <td>scales</td>\n",
       "      <td>scales</td>\n",
       "      <td>scales</td>\n",
       "      <td>scales</td>\n",
       "      <td>scales</td>\n",
       "      <td>scales</td>\n",
       "      <td>furry</td>\n",
       "      <td>furry</td>\n",
       "    </tr>\n",
       "    <tr>\n",
       "      <th>Animal</th>\n",
       "      <td>snake</td>\n",
       "      <td>snake</td>\n",
       "      <td>bird</td>\n",
       "      <td>bird</td>\n",
       "      <td>bird</td>\n",
       "      <td>gorilla</td>\n",
       "      <td>gorilla</td>\n",
       "      <td>dog</td>\n",
       "      <td>dog</td>\n",
       "      <td>dog</td>\n",
       "      <td>cow</td>\n",
       "      <td>butterfly</td>\n",
       "      <td>butterfly</td>\n",
       "      <td>butterfly</td>\n",
       "      <td>butterfly</td>\n",
       "      <td>butterfly</td>\n",
       "      <td>butterfly</td>\n",
       "      <td>butterfly</td>\n",
       "      <td>caterpillar</td>\n",
       "      <td>caterpillar</td>\n",
       "    </tr>\n",
       "  </tbody>\n",
       "</table>\n",
       "</div>"
      ],
      "text/plain": [
       "                    0       1         2         3         4        5        6  \\\n",
       "Legs                0       0         2         2         2        2        2   \n",
       "Body Covering  scales  scales  feathers  feathers  feathers    furry    furry   \n",
       "Animal          snake   snake      bird      bird      bird  gorilla  gorilla   \n",
       "\n",
       "                   7      8      9    10         11         12         13  \\\n",
       "Legs               4      4      4     4          6          6          6   \n",
       "Body Covering  furry  furry  furry  hide     scales     scales     scales   \n",
       "Animal           dog    dog    dog   cow  butterfly  butterfly  butterfly   \n",
       "\n",
       "                      14         15         16         17           18  \\\n",
       "Legs                   6          6          6          6           16   \n",
       "Body Covering     scales     scales     scales     scales        furry   \n",
       "Animal         butterfly  butterfly  butterfly  butterfly  caterpillar   \n",
       "\n",
       "                        19  \n",
       "Legs                    16  \n",
       "Body Covering        furry  \n",
       "Animal         caterpillar  "
      ]
     },
     "execution_count": 10,
     "metadata": {},
     "output_type": "execute_result"
    }
   ],
   "source": [
    "df.transpose()"
   ]
  },
  {
   "cell_type": "code",
   "execution_count": 11,
   "metadata": {},
   "outputs": [],
   "source": [
    "numList = [item for item in col_list if item not in objList] # this is our list of numeric variables"
   ]
  },
  {
   "cell_type": "code",
   "execution_count": 12,
   "metadata": {},
   "outputs": [],
   "source": [
    "df_nums = df[numList]"
   ]
  },
  {
   "cell_type": "code",
   "execution_count": 13,
   "metadata": {},
   "outputs": [],
   "source": [
    "df_vars = pd.concat([df_nums, df_cats],axis=1)\n",
    "X = df_vars"
   ]
  },
  {
   "cell_type": "code",
   "execution_count": 14,
   "metadata": {},
   "outputs": [
    {
     "data": {
      "text/html": [
       "<div>\n",
       "<style scoped>\n",
       "    .dataframe tbody tr th:only-of-type {\n",
       "        vertical-align: middle;\n",
       "    }\n",
       "\n",
       "    .dataframe tbody tr th {\n",
       "        vertical-align: top;\n",
       "    }\n",
       "\n",
       "    .dataframe thead th {\n",
       "        text-align: right;\n",
       "    }\n",
       "</style>\n",
       "<table border=\"1\" class=\"dataframe\">\n",
       "  <thead>\n",
       "    <tr style=\"text-align: right;\">\n",
       "      <th></th>\n",
       "      <th>0</th>\n",
       "      <th>1</th>\n",
       "      <th>2</th>\n",
       "      <th>3</th>\n",
       "      <th>4</th>\n",
       "      <th>5</th>\n",
       "      <th>6</th>\n",
       "      <th>7</th>\n",
       "      <th>8</th>\n",
       "      <th>9</th>\n",
       "      <th>10</th>\n",
       "      <th>11</th>\n",
       "      <th>12</th>\n",
       "      <th>13</th>\n",
       "      <th>14</th>\n",
       "      <th>15</th>\n",
       "      <th>16</th>\n",
       "      <th>17</th>\n",
       "      <th>18</th>\n",
       "      <th>19</th>\n",
       "    </tr>\n",
       "  </thead>\n",
       "  <tbody>\n",
       "    <tr>\n",
       "      <th>Legs</th>\n",
       "      <td>0</td>\n",
       "      <td>0</td>\n",
       "      <td>2</td>\n",
       "      <td>2</td>\n",
       "      <td>2</td>\n",
       "      <td>2</td>\n",
       "      <td>2</td>\n",
       "      <td>4</td>\n",
       "      <td>4</td>\n",
       "      <td>4</td>\n",
       "      <td>4</td>\n",
       "      <td>6</td>\n",
       "      <td>6</td>\n",
       "      <td>6</td>\n",
       "      <td>6</td>\n",
       "      <td>6</td>\n",
       "      <td>6</td>\n",
       "      <td>6</td>\n",
       "      <td>16</td>\n",
       "      <td>16</td>\n",
       "    </tr>\n",
       "    <tr>\n",
       "      <th>Body Covering_feathers</th>\n",
       "      <td>0</td>\n",
       "      <td>0</td>\n",
       "      <td>1</td>\n",
       "      <td>1</td>\n",
       "      <td>1</td>\n",
       "      <td>0</td>\n",
       "      <td>0</td>\n",
       "      <td>0</td>\n",
       "      <td>0</td>\n",
       "      <td>0</td>\n",
       "      <td>0</td>\n",
       "      <td>0</td>\n",
       "      <td>0</td>\n",
       "      <td>0</td>\n",
       "      <td>0</td>\n",
       "      <td>0</td>\n",
       "      <td>0</td>\n",
       "      <td>0</td>\n",
       "      <td>0</td>\n",
       "      <td>0</td>\n",
       "    </tr>\n",
       "    <tr>\n",
       "      <th>Body Covering_furry</th>\n",
       "      <td>0</td>\n",
       "      <td>0</td>\n",
       "      <td>0</td>\n",
       "      <td>0</td>\n",
       "      <td>0</td>\n",
       "      <td>1</td>\n",
       "      <td>1</td>\n",
       "      <td>1</td>\n",
       "      <td>1</td>\n",
       "      <td>1</td>\n",
       "      <td>0</td>\n",
       "      <td>0</td>\n",
       "      <td>0</td>\n",
       "      <td>0</td>\n",
       "      <td>0</td>\n",
       "      <td>0</td>\n",
       "      <td>0</td>\n",
       "      <td>0</td>\n",
       "      <td>1</td>\n",
       "      <td>1</td>\n",
       "    </tr>\n",
       "    <tr>\n",
       "      <th>Body Covering_hide</th>\n",
       "      <td>0</td>\n",
       "      <td>0</td>\n",
       "      <td>0</td>\n",
       "      <td>0</td>\n",
       "      <td>0</td>\n",
       "      <td>0</td>\n",
       "      <td>0</td>\n",
       "      <td>0</td>\n",
       "      <td>0</td>\n",
       "      <td>0</td>\n",
       "      <td>1</td>\n",
       "      <td>0</td>\n",
       "      <td>0</td>\n",
       "      <td>0</td>\n",
       "      <td>0</td>\n",
       "      <td>0</td>\n",
       "      <td>0</td>\n",
       "      <td>0</td>\n",
       "      <td>0</td>\n",
       "      <td>0</td>\n",
       "    </tr>\n",
       "    <tr>\n",
       "      <th>Body Covering_scales</th>\n",
       "      <td>1</td>\n",
       "      <td>1</td>\n",
       "      <td>0</td>\n",
       "      <td>0</td>\n",
       "      <td>0</td>\n",
       "      <td>0</td>\n",
       "      <td>0</td>\n",
       "      <td>0</td>\n",
       "      <td>0</td>\n",
       "      <td>0</td>\n",
       "      <td>0</td>\n",
       "      <td>1</td>\n",
       "      <td>1</td>\n",
       "      <td>1</td>\n",
       "      <td>1</td>\n",
       "      <td>1</td>\n",
       "      <td>1</td>\n",
       "      <td>1</td>\n",
       "      <td>0</td>\n",
       "      <td>0</td>\n",
       "    </tr>\n",
       "  </tbody>\n",
       "</table>\n",
       "</div>"
      ],
      "text/plain": [
       "                        0  1  2  3  4  5  6  7  8  9  10  11  12  13  14  15  \\\n",
       "Legs                    0  0  2  2  2  2  2  4  4  4   4   6   6   6   6   6   \n",
       "Body Covering_feathers  0  0  1  1  1  0  0  0  0  0   0   0   0   0   0   0   \n",
       "Body Covering_furry     0  0  0  0  0  1  1  1  1  1   0   0   0   0   0   0   \n",
       "Body Covering_hide      0  0  0  0  0  0  0  0  0  0   1   0   0   0   0   0   \n",
       "Body Covering_scales    1  1  0  0  0  0  0  0  0  0   0   1   1   1   1   1   \n",
       "\n",
       "                        16  17  18  19  \n",
       "Legs                     6   6  16  16  \n",
       "Body Covering_feathers   0   0   0   0  \n",
       "Body Covering_furry      0   0   1   1  \n",
       "Body Covering_hide       0   0   0   0  \n",
       "Body Covering_scales     1   1   0   0  "
      ]
     },
     "execution_count": 14,
     "metadata": {},
     "output_type": "execute_result"
    }
   ],
   "source": [
    "df_vars.transpose()"
   ]
  },
  {
   "cell_type": "code",
   "execution_count": 15,
   "metadata": {},
   "outputs": [
    {
     "data": {
      "text/plain": [
       "['Legs',\n",
       " 'Body Covering_feathers',\n",
       " 'Body Covering_furry',\n",
       " 'Body Covering_hide',\n",
       " 'Body Covering_scales']"
      ]
     },
     "execution_count": 15,
     "metadata": {},
     "output_type": "execute_result"
    }
   ],
   "source": [
    "features = list( df_vars.columns)\n",
    "features"
   ]
  },
  {
   "cell_type": "code",
   "execution_count": 16,
   "metadata": {},
   "outputs": [],
   "source": [
    "y = df.iloc[:, -1].values    # take all rows and only the last column"
   ]
  },
  {
   "cell_type": "code",
   "execution_count": 17,
   "metadata": {},
   "outputs": [],
   "source": [
    "# We are now ready to train our Decision Tree classifier\n",
    "clf=tree.DecisionTreeClassifier(max_leaf_nodes=None, criterion='gini') # gini is actually the default method\n",
    "clf=clf.fit(X,y)"
   ]
  },
  {
   "cell_type": "code",
   "execution_count": 18,
   "metadata": {},
   "outputs": [
    {
     "data": {
      "text/plain": [
       "1.0"
      ]
     },
     "execution_count": 18,
     "metadata": {},
     "output_type": "execute_result"
    }
   ],
   "source": [
    "predictions = clf.predict(X)\n",
    "accuracy = (predictions == y).sum() / len(predictions)\n",
    "accuracy"
   ]
  },
  {
   "cell_type": "markdown",
   "metadata": {},
   "source": [
    "## Now that we have created the decision tree, we will use graphviz to let us see the tree."
   ]
  },
  {
   "cell_type": "code",
   "execution_count": 19,
   "metadata": {},
   "outputs": [],
   "source": [
    "picName = 'animals-gini'"
   ]
  },
  {
   "cell_type": "code",
   "execution_count": 20,
   "metadata": {},
   "outputs": [],
   "source": [
    "with open(folder + picName + '.dot','w') as f:\n",
    "    # f=tree.export_text(clf,feature_names=features,outfile=f) # we could just output the rules - no fun!\n",
    "    f = tree.export_graphviz(clf, feature_names=features,out_file=f)"
   ]
  },
  {
   "cell_type": "code",
   "execution_count": 22,
   "metadata": {},
   "outputs": [
    {
     "data": {
      "image/svg+xml": [
       "<?xml version=\"1.0\" encoding=\"UTF-8\" standalone=\"no\"?>\r\n",
       "<!DOCTYPE svg PUBLIC \"-//W3C//DTD SVG 1.1//EN\"\r\n",
       " \"http://www.w3.org/Graphics/SVG/1.1/DTD/svg11.dtd\">\r\n",
       "<!-- Generated by graphviz version 2.38.0 (20140413.2041)\r\n",
       " -->\r\n",
       "<!-- Title: Tree Pages: 1 -->\r\n",
       "<svg width=\"990pt\" height=\"477pt\"\r\n",
       " viewBox=\"0.00 0.00 990.00 477.00\" xmlns=\"http://www.w3.org/2000/svg\" xmlns:xlink=\"http://www.w3.org/1999/xlink\">\r\n",
       "<g id=\"graph0\" class=\"graph\" transform=\"scale(1 1) rotate(0) translate(4 473)\">\r\n",
       "<title>Tree</title>\r\n",
       "<polygon fill=\"white\" stroke=\"none\" points=\"-4,4 -4,-473 986,-473 986,4 -4,4\"/>\r\n",
       "<!-- 0 -->\r\n",
       "<g id=\"node1\" class=\"node\"><title>0</title>\r\n",
       "<polygon fill=\"none\" stroke=\"black\" points=\"708,-469 546,-469 546,-401 708,-401 708,-469\"/>\r\n",
       "<text text-anchor=\"middle\" x=\"627\" y=\"-453.8\" font-family=\"Times New Roman,serif\" font-size=\"14.00\">Legs &lt;= 5.0</text>\r\n",
       "<text text-anchor=\"middle\" x=\"627\" y=\"-438.8\" font-family=\"Times New Roman,serif\" font-size=\"14.00\">gini = 0.8</text>\r\n",
       "<text text-anchor=\"middle\" x=\"627\" y=\"-423.8\" font-family=\"Times New Roman,serif\" font-size=\"14.00\">samples = 20</text>\r\n",
       "<text text-anchor=\"middle\" x=\"627\" y=\"-408.8\" font-family=\"Times New Roman,serif\" font-size=\"14.00\">value = [3, 7, 2, 1, 3, 2, 2]</text>\r\n",
       "</g>\r\n",
       "<!-- 1 -->\r\n",
       "<g id=\"node2\" class=\"node\"><title>1</title>\r\n",
       "<polygon fill=\"none\" stroke=\"black\" points=\"626,-365 432,-365 432,-297 626,-297 626,-365\"/>\r\n",
       "<text text-anchor=\"middle\" x=\"529\" y=\"-349.8\" font-family=\"Times New Roman,serif\" font-size=\"14.00\">Body Covering_feathers &lt;= 0.5</text>\r\n",
       "<text text-anchor=\"middle\" x=\"529\" y=\"-334.8\" font-family=\"Times New Roman,serif\" font-size=\"14.00\">gini = 0.777</text>\r\n",
       "<text text-anchor=\"middle\" x=\"529\" y=\"-319.8\" font-family=\"Times New Roman,serif\" font-size=\"14.00\">samples = 11</text>\r\n",
       "<text text-anchor=\"middle\" x=\"529\" y=\"-304.8\" font-family=\"Times New Roman,serif\" font-size=\"14.00\">value = [3, 0, 0, 1, 3, 2, 2]</text>\r\n",
       "</g>\r\n",
       "<!-- 0&#45;&gt;1 -->\r\n",
       "<g id=\"edge1\" class=\"edge\"><title>0&#45;&gt;1</title>\r\n",
       "<path fill=\"none\" stroke=\"black\" d=\"M595.182,-400.884C586.539,-391.887 577.078,-382.041 568.083,-372.678\"/>\r\n",
       "<polygon fill=\"black\" stroke=\"black\" points=\"570.446,-370.086 560.994,-365.299 565.398,-374.935 570.446,-370.086\"/>\r\n",
       "<text text-anchor=\"middle\" x=\"560.494\" y=\"-386.594\" font-family=\"Times New Roman,serif\" font-size=\"14.00\">True</text>\r\n",
       "</g>\r\n",
       "<!-- 10 -->\r\n",
       "<g id=\"node11\" class=\"node\"><title>10</title>\r\n",
       "<polygon fill=\"none\" stroke=\"black\" points=\"806,-365 644,-365 644,-297 806,-297 806,-365\"/>\r\n",
       "<text text-anchor=\"middle\" x=\"725\" y=\"-349.8\" font-family=\"Times New Roman,serif\" font-size=\"14.00\">Legs &lt;= 11.0</text>\r\n",
       "<text text-anchor=\"middle\" x=\"725\" y=\"-334.8\" font-family=\"Times New Roman,serif\" font-size=\"14.00\">gini = 0.346</text>\r\n",
       "<text text-anchor=\"middle\" x=\"725\" y=\"-319.8\" font-family=\"Times New Roman,serif\" font-size=\"14.00\">samples = 9</text>\r\n",
       "<text text-anchor=\"middle\" x=\"725\" y=\"-304.8\" font-family=\"Times New Roman,serif\" font-size=\"14.00\">value = [0, 7, 2, 0, 0, 0, 0]</text>\r\n",
       "</g>\r\n",
       "<!-- 0&#45;&gt;10 -->\r\n",
       "<g id=\"edge10\" class=\"edge\"><title>0&#45;&gt;10</title>\r\n",
       "<path fill=\"none\" stroke=\"black\" d=\"M658.818,-400.884C667.461,-391.887 676.922,-382.041 685.917,-372.678\"/>\r\n",
       "<polygon fill=\"black\" stroke=\"black\" points=\"688.602,-374.935 693.006,-365.299 683.554,-370.086 688.602,-374.935\"/>\r\n",
       "<text text-anchor=\"middle\" x=\"693.506\" y=\"-386.594\" font-family=\"Times New Roman,serif\" font-size=\"14.00\">False</text>\r\n",
       "</g>\r\n",
       "<!-- 2 -->\r\n",
       "<g id=\"node3\" class=\"node\"><title>2</title>\r\n",
       "<polygon fill=\"none\" stroke=\"black\" points=\"434,-261 272,-261 272,-193 434,-193 434,-261\"/>\r\n",
       "<text text-anchor=\"middle\" x=\"353\" y=\"-245.8\" font-family=\"Times New Roman,serif\" font-size=\"14.00\">Legs &lt;= 3.0</text>\r\n",
       "<text text-anchor=\"middle\" x=\"353\" y=\"-230.8\" font-family=\"Times New Roman,serif\" font-size=\"14.00\">gini = 0.719</text>\r\n",
       "<text text-anchor=\"middle\" x=\"353\" y=\"-215.8\" font-family=\"Times New Roman,serif\" font-size=\"14.00\">samples = 8</text>\r\n",
       "<text text-anchor=\"middle\" x=\"353\" y=\"-200.8\" font-family=\"Times New Roman,serif\" font-size=\"14.00\">value = [0, 0, 0, 1, 3, 2, 2]</text>\r\n",
       "</g>\r\n",
       "<!-- 1&#45;&gt;2 -->\r\n",
       "<g id=\"edge2\" class=\"edge\"><title>1&#45;&gt;2</title>\r\n",
       "<path fill=\"none\" stroke=\"black\" d=\"M471.858,-296.884C455.02,-287.125 436.455,-276.366 419.104,-266.31\"/>\r\n",
       "<polygon fill=\"black\" stroke=\"black\" points=\"420.563,-263.111 410.156,-261.125 417.053,-269.167 420.563,-263.111\"/>\r\n",
       "</g>\r\n",
       "<!-- 9 -->\r\n",
       "<g id=\"node10\" class=\"node\"><title>9</title>\r\n",
       "<polygon fill=\"none\" stroke=\"black\" points=\"614,-253.5 452,-253.5 452,-200.5 614,-200.5 614,-253.5\"/>\r\n",
       "<text text-anchor=\"middle\" x=\"533\" y=\"-238.3\" font-family=\"Times New Roman,serif\" font-size=\"14.00\">gini = 0.0</text>\r\n",
       "<text text-anchor=\"middle\" x=\"533\" y=\"-223.3\" font-family=\"Times New Roman,serif\" font-size=\"14.00\">samples = 3</text>\r\n",
       "<text text-anchor=\"middle\" x=\"533\" y=\"-208.3\" font-family=\"Times New Roman,serif\" font-size=\"14.00\">value = [3, 0, 0, 0, 0, 0, 0]</text>\r\n",
       "</g>\r\n",
       "<!-- 1&#45;&gt;9 -->\r\n",
       "<g id=\"edge9\" class=\"edge\"><title>1&#45;&gt;9</title>\r\n",
       "<path fill=\"none\" stroke=\"black\" d=\"M530.299,-296.884C530.717,-286.216 531.182,-274.352 531.607,-263.519\"/>\r\n",
       "<polygon fill=\"black\" stroke=\"black\" points=\"535.105,-263.649 531.999,-253.52 528.11,-263.375 535.105,-263.649\"/>\r\n",
       "</g>\r\n",
       "<!-- 3 -->\r\n",
       "<g id=\"node4\" class=\"node\"><title>3</title>\r\n",
       "<polygon fill=\"none\" stroke=\"black\" points=\"340,-157 178,-157 178,-89 340,-89 340,-157\"/>\r\n",
       "<text text-anchor=\"middle\" x=\"259\" y=\"-141.8\" font-family=\"Times New Roman,serif\" font-size=\"14.00\">Legs &lt;= 1.0</text>\r\n",
       "<text text-anchor=\"middle\" x=\"259\" y=\"-126.8\" font-family=\"Times New Roman,serif\" font-size=\"14.00\">gini = 0.5</text>\r\n",
       "<text text-anchor=\"middle\" x=\"259\" y=\"-111.8\" font-family=\"Times New Roman,serif\" font-size=\"14.00\">samples = 4</text>\r\n",
       "<text text-anchor=\"middle\" x=\"259\" y=\"-96.8\" font-family=\"Times New Roman,serif\" font-size=\"14.00\">value = [0, 0, 0, 0, 0, 2, 2]</text>\r\n",
       "</g>\r\n",
       "<!-- 2&#45;&gt;3 -->\r\n",
       "<g id=\"edge3\" class=\"edge\"><title>2&#45;&gt;3</title>\r\n",
       "<path fill=\"none\" stroke=\"black\" d=\"M322.481,-192.884C314.19,-183.887 305.116,-174.041 296.488,-164.678\"/>\r\n",
       "<polygon fill=\"black\" stroke=\"black\" points=\"299.038,-162.281 289.688,-157.299 293.891,-167.025 299.038,-162.281\"/>\r\n",
       "</g>\r\n",
       "<!-- 6 -->\r\n",
       "<g id=\"node7\" class=\"node\"><title>6</title>\r\n",
       "<polygon fill=\"none\" stroke=\"black\" points=\"536,-157 358,-157 358,-89 536,-89 536,-157\"/>\r\n",
       "<text text-anchor=\"middle\" x=\"447\" y=\"-141.8\" font-family=\"Times New Roman,serif\" font-size=\"14.00\">Body Covering_furry &lt;= 0.5</text>\r\n",
       "<text text-anchor=\"middle\" x=\"447\" y=\"-126.8\" font-family=\"Times New Roman,serif\" font-size=\"14.00\">gini = 0.375</text>\r\n",
       "<text text-anchor=\"middle\" x=\"447\" y=\"-111.8\" font-family=\"Times New Roman,serif\" font-size=\"14.00\">samples = 4</text>\r\n",
       "<text text-anchor=\"middle\" x=\"447\" y=\"-96.8\" font-family=\"Times New Roman,serif\" font-size=\"14.00\">value = [0, 0, 0, 1, 3, 0, 0]</text>\r\n",
       "</g>\r\n",
       "<!-- 2&#45;&gt;6 -->\r\n",
       "<g id=\"edge6\" class=\"edge\"><title>2&#45;&gt;6</title>\r\n",
       "<path fill=\"none\" stroke=\"black\" d=\"M383.519,-192.884C391.81,-183.887 400.884,-174.041 409.512,-164.678\"/>\r\n",
       "<polygon fill=\"black\" stroke=\"black\" points=\"412.109,-167.025 416.312,-157.299 406.962,-162.281 412.109,-167.025\"/>\r\n",
       "</g>\r\n",
       "<!-- 4 -->\r\n",
       "<g id=\"node5\" class=\"node\"><title>4</title>\r\n",
       "<polygon fill=\"none\" stroke=\"black\" points=\"162,-53 0,-53 0,-0 162,-0 162,-53\"/>\r\n",
       "<text text-anchor=\"middle\" x=\"81\" y=\"-37.8\" font-family=\"Times New Roman,serif\" font-size=\"14.00\">gini = 0.0</text>\r\n",
       "<text text-anchor=\"middle\" x=\"81\" y=\"-22.8\" font-family=\"Times New Roman,serif\" font-size=\"14.00\">samples = 2</text>\r\n",
       "<text text-anchor=\"middle\" x=\"81\" y=\"-7.8\" font-family=\"Times New Roman,serif\" font-size=\"14.00\">value = [0, 0, 0, 0, 0, 0, 2]</text>\r\n",
       "</g>\r\n",
       "<!-- 3&#45;&gt;4 -->\r\n",
       "<g id=\"edge4\" class=\"edge\"><title>3&#45;&gt;4</title>\r\n",
       "<path fill=\"none\" stroke=\"black\" d=\"M196.744,-88.9485C177.704,-78.8399 156.863,-67.7756 138.177,-57.8555\"/>\r\n",
       "<polygon fill=\"black\" stroke=\"black\" points=\"139.669,-54.6845 129.195,-53.0867 136.386,-60.8672 139.669,-54.6845\"/>\r\n",
       "</g>\r\n",
       "<!-- 5 -->\r\n",
       "<g id=\"node6\" class=\"node\"><title>5</title>\r\n",
       "<polygon fill=\"none\" stroke=\"black\" points=\"342,-53 180,-53 180,-0 342,-0 342,-53\"/>\r\n",
       "<text text-anchor=\"middle\" x=\"261\" y=\"-37.8\" font-family=\"Times New Roman,serif\" font-size=\"14.00\">gini = 0.0</text>\r\n",
       "<text text-anchor=\"middle\" x=\"261\" y=\"-22.8\" font-family=\"Times New Roman,serif\" font-size=\"14.00\">samples = 2</text>\r\n",
       "<text text-anchor=\"middle\" x=\"261\" y=\"-7.8\" font-family=\"Times New Roman,serif\" font-size=\"14.00\">value = [0, 0, 0, 0, 0, 2, 0]</text>\r\n",
       "</g>\r\n",
       "<!-- 3&#45;&gt;5 -->\r\n",
       "<g id=\"edge5\" class=\"edge\"><title>3&#45;&gt;5</title>\r\n",
       "<path fill=\"none\" stroke=\"black\" d=\"M259.7,-88.9485C259.874,-80.7153 260.061,-71.848 260.238,-63.4814\"/>\r\n",
       "<polygon fill=\"black\" stroke=\"black\" points=\"263.743,-63.3086 260.455,-53.2367 256.744,-63.1604 263.743,-63.3086\"/>\r\n",
       "</g>\r\n",
       "<!-- 7 -->\r\n",
       "<g id=\"node8\" class=\"node\"><title>7</title>\r\n",
       "<polygon fill=\"none\" stroke=\"black\" points=\"524,-53 362,-53 362,-0 524,-0 524,-53\"/>\r\n",
       "<text text-anchor=\"middle\" x=\"443\" y=\"-37.8\" font-family=\"Times New Roman,serif\" font-size=\"14.00\">gini = 0.0</text>\r\n",
       "<text text-anchor=\"middle\" x=\"443\" y=\"-22.8\" font-family=\"Times New Roman,serif\" font-size=\"14.00\">samples = 1</text>\r\n",
       "<text text-anchor=\"middle\" x=\"443\" y=\"-7.8\" font-family=\"Times New Roman,serif\" font-size=\"14.00\">value = [0, 0, 0, 1, 0, 0, 0]</text>\r\n",
       "</g>\r\n",
       "<!-- 6&#45;&gt;7 -->\r\n",
       "<g id=\"edge7\" class=\"edge\"><title>6&#45;&gt;7</title>\r\n",
       "<path fill=\"none\" stroke=\"black\" d=\"M445.601,-88.9485C445.252,-80.7153 444.877,-71.848 444.523,-63.4814\"/>\r\n",
       "<polygon fill=\"black\" stroke=\"black\" points=\"448.009,-63.0797 444.089,-53.2367 441.016,-63.3758 448.009,-63.0797\"/>\r\n",
       "</g>\r\n",
       "<!-- 8 -->\r\n",
       "<g id=\"node9\" class=\"node\"><title>8</title>\r\n",
       "<polygon fill=\"none\" stroke=\"black\" points=\"704,-53 542,-53 542,-0 704,-0 704,-53\"/>\r\n",
       "<text text-anchor=\"middle\" x=\"623\" y=\"-37.8\" font-family=\"Times New Roman,serif\" font-size=\"14.00\">gini = 0.0</text>\r\n",
       "<text text-anchor=\"middle\" x=\"623\" y=\"-22.8\" font-family=\"Times New Roman,serif\" font-size=\"14.00\">samples = 3</text>\r\n",
       "<text text-anchor=\"middle\" x=\"623\" y=\"-7.8\" font-family=\"Times New Roman,serif\" font-size=\"14.00\">value = [0, 0, 0, 0, 3, 0, 0]</text>\r\n",
       "</g>\r\n",
       "<!-- 6&#45;&gt;8 -->\r\n",
       "<g id=\"edge8\" class=\"edge\"><title>6&#45;&gt;8</title>\r\n",
       "<path fill=\"none\" stroke=\"black\" d=\"M508.556,-88.9485C527.383,-78.8399 547.989,-67.7756 566.465,-57.8555\"/>\r\n",
       "<polygon fill=\"black\" stroke=\"black\" points=\"568.192,-60.9009 575.346,-53.0867 564.88,-54.7337 568.192,-60.9009\"/>\r\n",
       "</g>\r\n",
       "<!-- 11 -->\r\n",
       "<g id=\"node12\" class=\"node\"><title>11</title>\r\n",
       "<polygon fill=\"none\" stroke=\"black\" points=\"802,-253.5 640,-253.5 640,-200.5 802,-200.5 802,-253.5\"/>\r\n",
       "<text text-anchor=\"middle\" x=\"721\" y=\"-238.3\" font-family=\"Times New Roman,serif\" font-size=\"14.00\">gini = 0.0</text>\r\n",
       "<text text-anchor=\"middle\" x=\"721\" y=\"-223.3\" font-family=\"Times New Roman,serif\" font-size=\"14.00\">samples = 7</text>\r\n",
       "<text text-anchor=\"middle\" x=\"721\" y=\"-208.3\" font-family=\"Times New Roman,serif\" font-size=\"14.00\">value = [0, 7, 0, 0, 0, 0, 0]</text>\r\n",
       "</g>\r\n",
       "<!-- 10&#45;&gt;11 -->\r\n",
       "<g id=\"edge11\" class=\"edge\"><title>10&#45;&gt;11</title>\r\n",
       "<path fill=\"none\" stroke=\"black\" d=\"M723.701,-296.884C723.283,-286.216 722.818,-274.352 722.393,-263.519\"/>\r\n",
       "<polygon fill=\"black\" stroke=\"black\" points=\"725.89,-263.375 722.001,-253.52 718.895,-263.649 725.89,-263.375\"/>\r\n",
       "</g>\r\n",
       "<!-- 12 -->\r\n",
       "<g id=\"node13\" class=\"node\"><title>12</title>\r\n",
       "<polygon fill=\"none\" stroke=\"black\" points=\"982,-253.5 820,-253.5 820,-200.5 982,-200.5 982,-253.5\"/>\r\n",
       "<text text-anchor=\"middle\" x=\"901\" y=\"-238.3\" font-family=\"Times New Roman,serif\" font-size=\"14.00\">gini = 0.0</text>\r\n",
       "<text text-anchor=\"middle\" x=\"901\" y=\"-223.3\" font-family=\"Times New Roman,serif\" font-size=\"14.00\">samples = 2</text>\r\n",
       "<text text-anchor=\"middle\" x=\"901\" y=\"-208.3\" font-family=\"Times New Roman,serif\" font-size=\"14.00\">value = [0, 0, 2, 0, 0, 0, 0]</text>\r\n",
       "</g>\r\n",
       "<!-- 10&#45;&gt;12 -->\r\n",
       "<g id=\"edge12\" class=\"edge\"><title>10&#45;&gt;12</title>\r\n",
       "<path fill=\"none\" stroke=\"black\" d=\"M782.142,-296.884C803.396,-284.566 827.4,-270.655 848.243,-258.575\"/>\r\n",
       "<polygon fill=\"black\" stroke=\"black\" points=\"850.069,-261.562 856.966,-253.52 846.559,-255.506 850.069,-261.562\"/>\r\n",
       "</g>\r\n",
       "</g>\r\n",
       "</svg>\r\n"
      ],
      "text/plain": [
       "<graphviz.files.Source at 0x1f463f200a0>"
      ]
     },
     "execution_count": 22,
     "metadata": {},
     "output_type": "execute_result"
    }
   ],
   "source": [
    "import graphviz\n",
    "from graphviz import Digraph\n",
    "\n",
    "with open(folder + picName + '.dot') as f:\n",
    "    dot_graph = f.read()\n",
    "graphviz.Source(dot_graph)"
   ]
  },
  {
   "cell_type": "markdown",
   "metadata": {},
   "source": [
    "## The next two cells are optional. I prefer to see my tree graph without scrolling so I have to convert it into a .png file."
   ]
  },
  {
   "cell_type": "code",
   "execution_count": 23,
   "metadata": {},
   "outputs": [],
   "source": [
    "def showTreeAsPNG(folder, picName):\n",
    "    # My general philosopy is the Hippocratic 'first do no harm'\n",
    "    cwd = os.getcwd() + '\\\\'                   # so I will first get the current working directory of the command\n",
    "    os.chdir(folder)                           # prompt and later restore it.\n",
    "    # Convert dot to png via graphviz           \n",
    "    dotFile = folder + picName + '.dot'        # I will build a command line that I want to execute.   \n",
    "    pngFile = folder + picName + '.png'        # Then, I'll run that batch file \n",
    "    command = 'dot -Tpng \"' + dotFile  +  '\" -o \"' + pngFile + '\"'\n",
    "    f= open(folder + \"tempCmd.bat\",\"w\")        # I put that command into a .bat (batch) file in the folder \n",
    "    f.write(command)                           # that contains my file to be converted. This avoids problems if the\n",
    "    f.close()                                  # folder name contains spaces.\n",
    "    # The following line executes the batch file.\n",
    "    !tempCmd.bat \n",
    "    os.chdir(cwd)                              # When done, I reset the current working directory as it was."
   ]
  },
  {
   "cell_type": "code",
   "execution_count": 24,
   "metadata": {},
   "outputs": [
    {
     "name": "stdout",
     "output_type": "stream",
     "text": [
      "\n",
      "(charts) C:\\Users\\Dave\\Dropbox\\Maryville\\2020\\Online\\Week6 - Visualizations and Presentation Skills\\DSCI408-508\\Week5-staging>dot -Tpng \"C:\\Users\\Dave\\Dropbox\\Maryville\\2020\\Online\\Week6 - Visualizations and Presentation Skills\\DSCI408-508\\Week5-staging\\animals-gini.dot\" -o \"C:\\Users\\Dave\\Dropbox\\Maryville\\2020\\Online\\Week6 - Visualizations and Presentation Skills\\DSCI408-508\\Week5-staging\\animals-gini.png\" \n"
     ]
    },
    {
     "data": {
      "image/png": "[encoded data removed]",
      "text/plain": [
       "<IPython.core.display.Image object>"
      ]
     },
     "execution_count": 24,
     "metadata": {},
     "output_type": "execute_result"
    }
   ],
   "source": [
    "showTreeAsPNG(folder, picName)\n",
    "Image(filename=folder+picName + '.png')    # Now, we get to see the entire tree without scrolling!"
   ]
  },
  {
   "cell_type": "code",
   "execution_count": null,
   "metadata": {},
   "outputs": [],
   "source": []
  },
  {
   "cell_type": "markdown",
   "metadata": {},
   "source": [
    "## Now, let's repeat the tree generation, but using the entropy method"
   ]
  },
  {
   "cell_type": "code",
   "execution_count": 25,
   "metadata": {},
   "outputs": [],
   "source": [
    "clf=tree.DecisionTreeClassifier(criterion='entropy')\n",
    "clf=clf.fit(X,y)"
   ]
  },
  {
   "cell_type": "code",
   "execution_count": 26,
   "metadata": {},
   "outputs": [
    {
     "data": {
      "text/plain": [
       "1.0"
      ]
     },
     "execution_count": 26,
     "metadata": {},
     "output_type": "execute_result"
    }
   ],
   "source": [
    "predictions = clf.predict(X)\n",
    "accuracy = (predictions == y).sum() / len(predictions)\n",
    "accuracy"
   ]
  },
  {
   "cell_type": "code",
   "execution_count": 27,
   "metadata": {},
   "outputs": [],
   "source": [
    "picName = 'animals-entropy'"
   ]
  },
  {
   "cell_type": "code",
   "execution_count": 28,
   "metadata": {},
   "outputs": [],
   "source": [
    "with open(folder + picName + '.dot','w') as f:\n",
    "    f = tree.export_graphviz(clf, feature_names=features,out_file=f)"
   ]
  },
  {
   "cell_type": "code",
   "execution_count": 29,
   "metadata": {},
   "outputs": [
    {
     "data": {
      "image/svg+xml": [
       "<?xml version=\"1.0\" encoding=\"UTF-8\" standalone=\"no\"?>\r\n",
       "<!DOCTYPE svg PUBLIC \"-//W3C//DTD SVG 1.1//EN\"\r\n",
       " \"http://www.w3.org/Graphics/SVG/1.1/DTD/svg11.dtd\">\r\n",
       "<!-- Generated by graphviz version 2.38.0 (20140413.2041)\r\n",
       " -->\r\n",
       "<!-- Title: Tree Pages: 1 -->\r\n",
       "<svg width=\"904pt\" height=\"477pt\"\r\n",
       " viewBox=\"0.00 0.00 904.00 477.00\" xmlns=\"http://www.w3.org/2000/svg\" xmlns:xlink=\"http://www.w3.org/1999/xlink\">\r\n",
       "<g id=\"graph0\" class=\"graph\" transform=\"scale(1 1) rotate(0) translate(4 473)\">\r\n",
       "<title>Tree</title>\r\n",
       "<polygon fill=\"white\" stroke=\"none\" points=\"-4,4 -4,-473 900,-473 900,4 -4,4\"/>\r\n",
       "<!-- 0 -->\r\n",
       "<g id=\"node1\" class=\"node\"><title>0</title>\r\n",
       "<polygon fill=\"none\" stroke=\"black\" points=\"637.5,-469 452.5,-469 452.5,-401 637.5,-401 637.5,-469\"/>\r\n",
       "<text text-anchor=\"middle\" x=\"545\" y=\"-453.8\" font-family=\"Times New Roman,serif\" font-size=\"14.00\">Body Covering_scales &lt;= 0.5</text>\r\n",
       "<text text-anchor=\"middle\" x=\"545\" y=\"-438.8\" font-family=\"Times New Roman,serif\" font-size=\"14.00\">entropy = 2.564</text>\r\n",
       "<text text-anchor=\"middle\" x=\"545\" y=\"-423.8\" font-family=\"Times New Roman,serif\" font-size=\"14.00\">samples = 20</text>\r\n",
       "<text text-anchor=\"middle\" x=\"545\" y=\"-408.8\" font-family=\"Times New Roman,serif\" font-size=\"14.00\">value = [3, 7, 2, 1, 3, 2, 2]</text>\r\n",
       "</g>\r\n",
       "<!-- 1 -->\r\n",
       "<g id=\"node2\" class=\"node\"><title>1</title>\r\n",
       "<polygon fill=\"none\" stroke=\"black\" points=\"536,-365 374,-365 374,-297 536,-297 536,-365\"/>\r\n",
       "<text text-anchor=\"middle\" x=\"455\" y=\"-349.8\" font-family=\"Times New Roman,serif\" font-size=\"14.00\">Legs &lt;= 3.0</text>\r\n",
       "<text text-anchor=\"middle\" x=\"455\" y=\"-334.8\" font-family=\"Times New Roman,serif\" font-size=\"14.00\">entropy = 2.231</text>\r\n",
       "<text text-anchor=\"middle\" x=\"455\" y=\"-319.8\" font-family=\"Times New Roman,serif\" font-size=\"14.00\">samples = 11</text>\r\n",
       "<text text-anchor=\"middle\" x=\"455\" y=\"-304.8\" font-family=\"Times New Roman,serif\" font-size=\"14.00\">value = [3, 0, 2, 1, 3, 2, 0]</text>\r\n",
       "</g>\r\n",
       "<!-- 0&#45;&gt;1 -->\r\n",
       "<g id=\"edge1\" class=\"edge\"><title>0&#45;&gt;1</title>\r\n",
       "<path fill=\"none\" stroke=\"black\" d=\"M515.78,-400.884C507.92,-391.976 499.325,-382.235 491.138,-372.957\"/>\r\n",
       "<polygon fill=\"black\" stroke=\"black\" points=\"493.622,-370.482 484.382,-365.299 488.374,-375.113 493.622,-370.482\"/>\r\n",
       "<text text-anchor=\"middle\" x=\"482.822\" y=\"-386.551\" font-family=\"Times New Roman,serif\" font-size=\"14.00\">True</text>\r\n",
       "</g>\r\n",
       "<!-- 10 -->\r\n",
       "<g id=\"node11\" class=\"node\"><title>10</title>\r\n",
       "<polygon fill=\"none\" stroke=\"black\" points=\"716,-365 554,-365 554,-297 716,-297 716,-365\"/>\r\n",
       "<text text-anchor=\"middle\" x=\"635\" y=\"-349.8\" font-family=\"Times New Roman,serif\" font-size=\"14.00\">Legs &lt;= 3.0</text>\r\n",
       "<text text-anchor=\"middle\" x=\"635\" y=\"-334.8\" font-family=\"Times New Roman,serif\" font-size=\"14.00\">entropy = 0.764</text>\r\n",
       "<text text-anchor=\"middle\" x=\"635\" y=\"-319.8\" font-family=\"Times New Roman,serif\" font-size=\"14.00\">samples = 9</text>\r\n",
       "<text text-anchor=\"middle\" x=\"635\" y=\"-304.8\" font-family=\"Times New Roman,serif\" font-size=\"14.00\">value = [0, 7, 0, 0, 0, 0, 2]</text>\r\n",
       "</g>\r\n",
       "<!-- 0&#45;&gt;10 -->\r\n",
       "<g id=\"edge10\" class=\"edge\"><title>0&#45;&gt;10</title>\r\n",
       "<path fill=\"none\" stroke=\"black\" d=\"M574.22,-400.884C582.08,-391.976 590.675,-382.235 598.862,-372.957\"/>\r\n",
       "<polygon fill=\"black\" stroke=\"black\" points=\"601.626,-375.113 605.618,-365.299 596.378,-370.482 601.626,-375.113\"/>\r\n",
       "<text text-anchor=\"middle\" x=\"607.178\" y=\"-386.551\" font-family=\"Times New Roman,serif\" font-size=\"14.00\">False</text>\r\n",
       "</g>\r\n",
       "<!-- 2 -->\r\n",
       "<g id=\"node3\" class=\"node\"><title>2</title>\r\n",
       "<polygon fill=\"none\" stroke=\"black\" points=\"356,-261 162,-261 162,-193 356,-193 356,-261\"/>\r\n",
       "<text text-anchor=\"middle\" x=\"259\" y=\"-245.8\" font-family=\"Times New Roman,serif\" font-size=\"14.00\">Body Covering_feathers &lt;= 0.5</text>\r\n",
       "<text text-anchor=\"middle\" x=\"259\" y=\"-230.8\" font-family=\"Times New Roman,serif\" font-size=\"14.00\">entropy = 0.971</text>\r\n",
       "<text text-anchor=\"middle\" x=\"259\" y=\"-215.8\" font-family=\"Times New Roman,serif\" font-size=\"14.00\">samples = 5</text>\r\n",
       "<text text-anchor=\"middle\" x=\"259\" y=\"-200.8\" font-family=\"Times New Roman,serif\" font-size=\"14.00\">value = [3, 0, 0, 0, 0, 2, 0]</text>\r\n",
       "</g>\r\n",
       "<!-- 1&#45;&gt;2 -->\r\n",
       "<g id=\"edge2\" class=\"edge\"><title>1&#45;&gt;2</title>\r\n",
       "<path fill=\"none\" stroke=\"black\" d=\"M391.364,-296.884C372.269,-286.946 351.18,-275.971 331.553,-265.757\"/>\r\n",
       "<polygon fill=\"black\" stroke=\"black\" points=\"333.138,-262.636 322.651,-261.125 329.906,-268.846 333.138,-262.636\"/>\r\n",
       "</g>\r\n",
       "<!-- 5 -->\r\n",
       "<g id=\"node6\" class=\"node\"><title>5</title>\r\n",
       "<polygon fill=\"none\" stroke=\"black\" points=\"536,-261 374,-261 374,-193 536,-193 536,-261\"/>\r\n",
       "<text text-anchor=\"middle\" x=\"455\" y=\"-245.8\" font-family=\"Times New Roman,serif\" font-size=\"14.00\">Legs &lt;= 10.0</text>\r\n",
       "<text text-anchor=\"middle\" x=\"455\" y=\"-230.8\" font-family=\"Times New Roman,serif\" font-size=\"14.00\">entropy = 1.459</text>\r\n",
       "<text text-anchor=\"middle\" x=\"455\" y=\"-215.8\" font-family=\"Times New Roman,serif\" font-size=\"14.00\">samples = 6</text>\r\n",
       "<text text-anchor=\"middle\" x=\"455\" y=\"-200.8\" font-family=\"Times New Roman,serif\" font-size=\"14.00\">value = [0, 0, 2, 1, 3, 0, 0]</text>\r\n",
       "</g>\r\n",
       "<!-- 1&#45;&gt;5 -->\r\n",
       "<g id=\"edge5\" class=\"edge\"><title>1&#45;&gt;5</title>\r\n",
       "<path fill=\"none\" stroke=\"black\" d=\"M455,-296.884C455,-288.778 455,-279.982 455,-271.472\"/>\r\n",
       "<polygon fill=\"black\" stroke=\"black\" points=\"458.5,-271.299 455,-261.299 451.5,-271.299 458.5,-271.299\"/>\r\n",
       "</g>\r\n",
       "<!-- 3 -->\r\n",
       "<g id=\"node4\" class=\"node\"><title>3</title>\r\n",
       "<polygon fill=\"none\" stroke=\"black\" points=\"162,-149.5 0,-149.5 0,-96.5 162,-96.5 162,-149.5\"/>\r\n",
       "<text text-anchor=\"middle\" x=\"81\" y=\"-134.3\" font-family=\"Times New Roman,serif\" font-size=\"14.00\">entropy = 0.0</text>\r\n",
       "<text text-anchor=\"middle\" x=\"81\" y=\"-119.3\" font-family=\"Times New Roman,serif\" font-size=\"14.00\">samples = 2</text>\r\n",
       "<text text-anchor=\"middle\" x=\"81\" y=\"-104.3\" font-family=\"Times New Roman,serif\" font-size=\"14.00\">value = [0, 0, 0, 0, 0, 2, 0]</text>\r\n",
       "</g>\r\n",
       "<!-- 2&#45;&gt;3 -->\r\n",
       "<g id=\"edge3\" class=\"edge\"><title>2&#45;&gt;3</title>\r\n",
       "<path fill=\"none\" stroke=\"black\" d=\"M201.209,-192.884C179.713,-180.566 155.437,-166.655 134.356,-154.575\"/>\r\n",
       "<polygon fill=\"black\" stroke=\"black\" points=\"135.951,-151.455 125.535,-149.52 132.471,-157.529 135.951,-151.455\"/>\r\n",
       "</g>\r\n",
       "<!-- 4 -->\r\n",
       "<g id=\"node5\" class=\"node\"><title>4</title>\r\n",
       "<polygon fill=\"none\" stroke=\"black\" points=\"342,-149.5 180,-149.5 180,-96.5 342,-96.5 342,-149.5\"/>\r\n",
       "<text text-anchor=\"middle\" x=\"261\" y=\"-134.3\" font-family=\"Times New Roman,serif\" font-size=\"14.00\">entropy = 0.0</text>\r\n",
       "<text text-anchor=\"middle\" x=\"261\" y=\"-119.3\" font-family=\"Times New Roman,serif\" font-size=\"14.00\">samples = 3</text>\r\n",
       "<text text-anchor=\"middle\" x=\"261\" y=\"-104.3\" font-family=\"Times New Roman,serif\" font-size=\"14.00\">value = [3, 0, 0, 0, 0, 0, 0]</text>\r\n",
       "</g>\r\n",
       "<!-- 2&#45;&gt;4 -->\r\n",
       "<g id=\"edge4\" class=\"edge\"><title>2&#45;&gt;4</title>\r\n",
       "<path fill=\"none\" stroke=\"black\" d=\"M259.649,-192.884C259.859,-182.216 260.091,-170.352 260.304,-159.519\"/>\r\n",
       "<polygon fill=\"black\" stroke=\"black\" points=\"263.803,-159.587 260.5,-149.52 256.804,-159.449 263.803,-159.587\"/>\r\n",
       "</g>\r\n",
       "<!-- 6 -->\r\n",
       "<g id=\"node7\" class=\"node\"><title>6</title>\r\n",
       "<polygon fill=\"none\" stroke=\"black\" points=\"540,-157 362,-157 362,-89 540,-89 540,-157\"/>\r\n",
       "<text text-anchor=\"middle\" x=\"451\" y=\"-141.8\" font-family=\"Times New Roman,serif\" font-size=\"14.00\">Body Covering_furry &lt;= 0.5</text>\r\n",
       "<text text-anchor=\"middle\" x=\"451\" y=\"-126.8\" font-family=\"Times New Roman,serif\" font-size=\"14.00\">entropy = 0.811</text>\r\n",
       "<text text-anchor=\"middle\" x=\"451\" y=\"-111.8\" font-family=\"Times New Roman,serif\" font-size=\"14.00\">samples = 4</text>\r\n",
       "<text text-anchor=\"middle\" x=\"451\" y=\"-96.8\" font-family=\"Times New Roman,serif\" font-size=\"14.00\">value = [0, 0, 0, 1, 3, 0, 0]</text>\r\n",
       "</g>\r\n",
       "<!-- 5&#45;&gt;6 -->\r\n",
       "<g id=\"edge6\" class=\"edge\"><title>5&#45;&gt;6</title>\r\n",
       "<path fill=\"none\" stroke=\"black\" d=\"M453.701,-192.884C453.383,-184.778 453.039,-175.982 452.705,-167.472\"/>\r\n",
       "<polygon fill=\"black\" stroke=\"black\" points=\"456.195,-167.155 452.306,-157.299 449.2,-167.429 456.195,-167.155\"/>\r\n",
       "</g>\r\n",
       "<!-- 9 -->\r\n",
       "<g id=\"node10\" class=\"node\"><title>9</title>\r\n",
       "<polygon fill=\"none\" stroke=\"black\" points=\"720,-149.5 558,-149.5 558,-96.5 720,-96.5 720,-149.5\"/>\r\n",
       "<text text-anchor=\"middle\" x=\"639\" y=\"-134.3\" font-family=\"Times New Roman,serif\" font-size=\"14.00\">entropy = 0.0</text>\r\n",
       "<text text-anchor=\"middle\" x=\"639\" y=\"-119.3\" font-family=\"Times New Roman,serif\" font-size=\"14.00\">samples = 2</text>\r\n",
       "<text text-anchor=\"middle\" x=\"639\" y=\"-104.3\" font-family=\"Times New Roman,serif\" font-size=\"14.00\">value = [0, 0, 2, 0, 0, 0, 0]</text>\r\n",
       "</g>\r\n",
       "<!-- 5&#45;&gt;9 -->\r\n",
       "<g id=\"edge9\" class=\"edge\"><title>5&#45;&gt;9</title>\r\n",
       "<path fill=\"none\" stroke=\"black\" d=\"M514.74,-192.884C537.059,-180.511 562.278,-166.53 584.137,-154.413\"/>\r\n",
       "<polygon fill=\"black\" stroke=\"black\" points=\"585.915,-157.429 592.964,-149.52 582.521,-151.307 585.915,-157.429\"/>\r\n",
       "</g>\r\n",
       "<!-- 7 -->\r\n",
       "<g id=\"node8\" class=\"node\"><title>7</title>\r\n",
       "<polygon fill=\"none\" stroke=\"black\" points=\"442,-53 280,-53 280,-0 442,-0 442,-53\"/>\r\n",
       "<text text-anchor=\"middle\" x=\"361\" y=\"-37.8\" font-family=\"Times New Roman,serif\" font-size=\"14.00\">entropy = 0.0</text>\r\n",
       "<text text-anchor=\"middle\" x=\"361\" y=\"-22.8\" font-family=\"Times New Roman,serif\" font-size=\"14.00\">samples = 1</text>\r\n",
       "<text text-anchor=\"middle\" x=\"361\" y=\"-7.8\" font-family=\"Times New Roman,serif\" font-size=\"14.00\">value = [0, 0, 0, 1, 0, 0, 0]</text>\r\n",
       "</g>\r\n",
       "<!-- 6&#45;&gt;7 -->\r\n",
       "<g id=\"edge7\" class=\"edge\"><title>6&#45;&gt;7</title>\r\n",
       "<path fill=\"none\" stroke=\"black\" d=\"M419.522,-88.9485C410.81,-79.8005 401.352,-69.8697 392.631,-60.7126\"/>\r\n",
       "<polygon fill=\"black\" stroke=\"black\" points=\"394.942,-58.0643 385.511,-53.2367 389.873,-62.8919 394.942,-58.0643\"/>\r\n",
       "</g>\r\n",
       "<!-- 8 -->\r\n",
       "<g id=\"node9\" class=\"node\"><title>8</title>\r\n",
       "<polygon fill=\"none\" stroke=\"black\" points=\"622,-53 460,-53 460,-0 622,-0 622,-53\"/>\r\n",
       "<text text-anchor=\"middle\" x=\"541\" y=\"-37.8\" font-family=\"Times New Roman,serif\" font-size=\"14.00\">entropy = 0.0</text>\r\n",
       "<text text-anchor=\"middle\" x=\"541\" y=\"-22.8\" font-family=\"Times New Roman,serif\" font-size=\"14.00\">samples = 3</text>\r\n",
       "<text text-anchor=\"middle\" x=\"541\" y=\"-7.8\" font-family=\"Times New Roman,serif\" font-size=\"14.00\">value = [0, 0, 0, 0, 3, 0, 0]</text>\r\n",
       "</g>\r\n",
       "<!-- 6&#45;&gt;8 -->\r\n",
       "<g id=\"edge8\" class=\"edge\"><title>6&#45;&gt;8</title>\r\n",
       "<path fill=\"none\" stroke=\"black\" d=\"M482.478,-88.9485C491.19,-79.8005 500.648,-69.8697 509.369,-60.7126\"/>\r\n",
       "<polygon fill=\"black\" stroke=\"black\" points=\"512.127,-62.8919 516.489,-53.2367 507.058,-58.0643 512.127,-62.8919\"/>\r\n",
       "</g>\r\n",
       "<!-- 11 -->\r\n",
       "<g id=\"node12\" class=\"node\"><title>11</title>\r\n",
       "<polygon fill=\"none\" stroke=\"black\" points=\"716,-253.5 554,-253.5 554,-200.5 716,-200.5 716,-253.5\"/>\r\n",
       "<text text-anchor=\"middle\" x=\"635\" y=\"-238.3\" font-family=\"Times New Roman,serif\" font-size=\"14.00\">entropy = 0.0</text>\r\n",
       "<text text-anchor=\"middle\" x=\"635\" y=\"-223.3\" font-family=\"Times New Roman,serif\" font-size=\"14.00\">samples = 2</text>\r\n",
       "<text text-anchor=\"middle\" x=\"635\" y=\"-208.3\" font-family=\"Times New Roman,serif\" font-size=\"14.00\">value = [0, 0, 0, 0, 0, 0, 2]</text>\r\n",
       "</g>\r\n",
       "<!-- 10&#45;&gt;11 -->\r\n",
       "<g id=\"edge11\" class=\"edge\"><title>10&#45;&gt;11</title>\r\n",
       "<path fill=\"none\" stroke=\"black\" d=\"M635,-296.884C635,-286.326 635,-274.597 635,-263.854\"/>\r\n",
       "<polygon fill=\"black\" stroke=\"black\" points=\"638.5,-263.52 635,-253.52 631.5,-263.52 638.5,-263.52\"/>\r\n",
       "</g>\r\n",
       "<!-- 12 -->\r\n",
       "<g id=\"node13\" class=\"node\"><title>12</title>\r\n",
       "<polygon fill=\"none\" stroke=\"black\" points=\"896,-253.5 734,-253.5 734,-200.5 896,-200.5 896,-253.5\"/>\r\n",
       "<text text-anchor=\"middle\" x=\"815\" y=\"-238.3\" font-family=\"Times New Roman,serif\" font-size=\"14.00\">entropy = 0.0</text>\r\n",
       "<text text-anchor=\"middle\" x=\"815\" y=\"-223.3\" font-family=\"Times New Roman,serif\" font-size=\"14.00\">samples = 7</text>\r\n",
       "<text text-anchor=\"middle\" x=\"815\" y=\"-208.3\" font-family=\"Times New Roman,serif\" font-size=\"14.00\">value = [0, 7, 0, 0, 0, 0, 0]</text>\r\n",
       "</g>\r\n",
       "<!-- 10&#45;&gt;12 -->\r\n",
       "<g id=\"edge12\" class=\"edge\"><title>10&#45;&gt;12</title>\r\n",
       "<path fill=\"none\" stroke=\"black\" d=\"M693.441,-296.884C715.178,-284.566 739.727,-270.655 761.044,-258.575\"/>\r\n",
       "<polygon fill=\"black\" stroke=\"black\" points=\"762.99,-261.495 769.965,-253.52 759.539,-255.405 762.99,-261.495\"/>\r\n",
       "</g>\r\n",
       "</g>\r\n",
       "</svg>\r\n"
      ],
      "text/plain": [
       "<graphviz.files.Source at 0x1f463f20b20>"
      ]
     },
     "execution_count": 29,
     "metadata": {},
     "output_type": "execute_result"
    }
   ],
   "source": [
    "with open(folder + picName + '.dot') as f:\n",
    "    dot_graph = f.read()\n",
    "graphviz.Source(dot_graph)"
   ]
  },
  {
   "cell_type": "code",
   "execution_count": 30,
   "metadata": {},
   "outputs": [
    {
     "name": "stdout",
     "output_type": "stream",
     "text": [
      "\n",
      "(charts) C:\\Users\\Dave\\Dropbox\\Maryville\\2020\\Online\\Week6 - Visualizations and Presentation Skills\\DSCI408-508\\Week5-staging>dot -Tpng \"C:\\Users\\Dave\\Dropbox\\Maryville\\2020\\Online\\Week6 - Visualizations and Presentation Skills\\DSCI408-508\\Week5-staging\\animals-entropy.dot\" -o \"C:\\Users\\Dave\\Dropbox\\Maryville\\2020\\Online\\Week6 - Visualizations and Presentation Skills\\DSCI408-508\\Week5-staging\\animals-entropy.png\" \n"
     ]
    },
    {
     "data": {
      "image/png": "[encoded data removed]",
      "text/plain": [
       "<IPython.core.display.Image object>"
      ]
     },
     "execution_count": 30,
     "metadata": {},
     "output_type": "execute_result"
    }
   ],
   "source": [
    "showTreeAsPNG(folder, picName)\n",
    "Image(filename=folder+picName + '.png') "
   ]
  },
  {
   "cell_type": "markdown",
   "metadata": {},
   "source": [
    "## ASSIGNMENT for DSCI 408\n",
    "### create a training set with a different mixof these animals, say 5 of each type. Run your new training set through this code and generate a new tree. See how the Gini and entropy values change in this new tree."
   ]
  },
  {
   "cell_type": "markdown",
   "metadata": {},
   "source": [
    "## ASSIGNMENT for DSCI 508\n",
    "### create a decision tree to classify a group of vehicles:\n",
    "* a sedan, a convertible, a motorcycle, a long-haul truck\n",
    "* use features of number of wheels and type of roof (soft/hard/none)\n",
    "* modify this code to create the decision tree"
   ]
  },
  {
   "cell_type": "code",
   "execution_count": null,
   "metadata": {},
   "outputs": [],
   "source": []
  },
  {
   "cell_type": "code",
   "execution_count": null,
   "metadata": {},
   "outputs": [],
   "source": []
  }
 ],
 "metadata": {
  "kernelspec": {
   "display_name": "Python 3",
   "language": "python",
   "name": "python3"
  },
  "language_info": {
   "codemirror_mode": {
    "name": "ipython",
    "version": 3
   },
   "file_extension": ".py",
   "mimetype": "text/x-python",
   "name": "python",
   "nbconvert_exporter": "python",
   "pygments_lexer": "ipython3",
   "version": "3.6.12"
  }
 },
 "nbformat": 4,
 "nbformat_minor": 4
}

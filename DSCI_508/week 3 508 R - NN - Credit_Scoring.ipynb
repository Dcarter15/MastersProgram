{
 "cells": [
  {
   "cell_type": "markdown",
   "metadata": {},
   "source": [
    "# Sample Neural Network in R\n",
    "## This dataset is one that I modified slightly from the original Kaggle one. It lists hypothetical bank loan information. For each client, we see the client ID, income per year, attained age, loan amount, ratio of loan to income, and whether or not the person defaulted on this loan (0=no, 1=yes). \n",
    "\n",
    "## Your task is to train a neural network to be able to predict whether future loans will default, based on income, age, and loan amount.\n",
    "\n",
    "- Dave Snell - DSCI 508"
   ]
  },
  {
   "cell_type": "code",
   "execution_count": 10,
   "metadata": {},
   "outputs": [
    {
     "name": "stderr",
     "output_type": "stream",
     "text": [
      "Warning message:\n",
      "\"unable to access index for repository https://cran.r-project.org/bin/windows/contrib/3.6:\n",
      "  cannot open URL 'https://cran.r-project.org/bin/windows/contrib/3.6/PACKAGES'\"installing the source package 'neuralnet'\n",
      "\n"
     ]
    }
   ],
   "source": [
    "install.packages(\"neuralnet\") # the neuralnet package will do almost all of the work for us\n",
    "library(neuralnet)\n",
    "\n",
    "# NOTE: replace the path command below with your own location for the dataset\n",
    "# For a single input dataset, this is an extra step; but if you had several input/output files it would help \n",
    "# keep them organized and reduce the places where you would have to change your code later.\n",
    "# path <- 'data\\'"
   ]
  },
  {
   "cell_type": "markdown",
   "metadata": {},
   "source": [
    "### Occasionally, you will get a message like this, stating your version of R is not the same version as the one this package was built under. Often it is OK; but if you want to check your version, you can do so as follows:"
   ]
  },
  {
   "cell_type": "code",
   "execution_count": 11,
   "metadata": {},
   "outputs": [
    {
     "data": {
      "text/html": [
       "<dl>\n",
       "\t<dt>$platform</dt>\n",
       "\t\t<dd>'x86_64-w64-mingw32'</dd>\n",
       "\t<dt>$arch</dt>\n",
       "\t\t<dd>'x86_64'</dd>\n",
       "\t<dt>$os</dt>\n",
       "\t\t<dd>'mingw32'</dd>\n",
       "\t<dt>$system</dt>\n",
       "\t\t<dd>'x86_64, mingw32'</dd>\n",
       "\t<dt>$status</dt>\n",
       "\t\t<dd>''</dd>\n",
       "\t<dt>$major</dt>\n",
       "\t\t<dd>'3'</dd>\n",
       "\t<dt>$minor</dt>\n",
       "\t\t<dd>'6.1'</dd>\n",
       "\t<dt>$year</dt>\n",
       "\t\t<dd>'2019'</dd>\n",
       "\t<dt>$month</dt>\n",
       "\t\t<dd>'07'</dd>\n",
       "\t<dt>$day</dt>\n",
       "\t\t<dd>'05'</dd>\n",
       "\t<dt>$`svn rev`</dt>\n",
       "\t\t<dd>'76782'</dd>\n",
       "\t<dt>$language</dt>\n",
       "\t\t<dd>'R'</dd>\n",
       "\t<dt>$version.string</dt>\n",
       "\t\t<dd>'R version 3.6.1 (2019-07-05)'</dd>\n",
       "\t<dt>$nickname</dt>\n",
       "\t\t<dd>'Action of the Toes'</dd>\n",
       "</dl>\n"
      ],
      "text/latex": [
       "\\begin{description}\n",
       "\\item[\\$platform] 'x86\\_64-w64-mingw32'\n",
       "\\item[\\$arch] 'x86\\_64'\n",
       "\\item[\\$os] 'mingw32'\n",
       "\\item[\\$system] 'x86\\_64, mingw32'\n",
       "\\item[\\$status] ''\n",
       "\\item[\\$major] '3'\n",
       "\\item[\\$minor] '6.1'\n",
       "\\item[\\$year] '2019'\n",
       "\\item[\\$month] '07'\n",
       "\\item[\\$day] '05'\n",
       "\\item[\\$`svn rev`] '76782'\n",
       "\\item[\\$language] 'R'\n",
       "\\item[\\$version.string] 'R version 3.6.1 (2019-07-05)'\n",
       "\\item[\\$nickname] 'Action of the Toes'\n",
       "\\end{description}\n"
      ],
      "text/markdown": [
       "$platform\n",
       ":   'x86_64-w64-mingw32'\n",
       "$arch\n",
       ":   'x86_64'\n",
       "$os\n",
       ":   'mingw32'\n",
       "$system\n",
       ":   'x86_64, mingw32'\n",
       "$status\n",
       ":   ''\n",
       "$major\n",
       ":   '3'\n",
       "$minor\n",
       ":   '6.1'\n",
       "$year\n",
       ":   '2019'\n",
       "$month\n",
       ":   '07'\n",
       "$day\n",
       ":   '05'\n",
       "$`svn rev`\n",
       ":   '76782'\n",
       "$language\n",
       ":   'R'\n",
       "$version.string\n",
       ":   'R version 3.6.1 (2019-07-05)'\n",
       "$nickname\n",
       ":   'Action of the Toes'\n",
       "\n",
       "\n"
      ],
      "text/plain": [
       "$platform\n",
       "[1] \"x86_64-w64-mingw32\"\n",
       "\n",
       "$arch\n",
       "[1] \"x86_64\"\n",
       "\n",
       "$os\n",
       "[1] \"mingw32\"\n",
       "\n",
       "$system\n",
       "[1] \"x86_64, mingw32\"\n",
       "\n",
       "$status\n",
       "[1] \"\"\n",
       "\n",
       "$major\n",
       "[1] \"3\"\n",
       "\n",
       "$minor\n",
       "[1] \"6.1\"\n",
       "\n",
       "$year\n",
       "[1] \"2019\"\n",
       "\n",
       "$month\n",
       "[1] \"07\"\n",
       "\n",
       "$day\n",
       "[1] \"05\"\n",
       "\n",
       "$`svn rev`\n",
       "[1] \"76782\"\n",
       "\n",
       "$language\n",
       "[1] \"R\"\n",
       "\n",
       "$version.string\n",
       "[1] \"R version 3.6.1 (2019-07-05)\"\n",
       "\n",
       "$nickname\n",
       "[1] \"Action of the Toes\"\n"
      ]
     },
     "metadata": {},
     "output_type": "display_data"
    }
   ],
   "source": [
    "R.Version()\n"
   ]
  },
  {
   "cell_type": "raw",
   "metadata": {},
   "source": [
    "getwd()"
   ]
  },
  {
   "cell_type": "markdown",
   "metadata": {},
   "source": [
    "### One of the first steps in a machine learning training exercise is to get your data. Usually, real data is messy; but we are going to use a dataset that has been pre-cleaned for us since the purpose of this demonstration is to show how easy it can be to run a neural network."
   ]
  },
  {
   "cell_type": "code",
   "execution_count": 44,
   "metadata": {},
   "outputs": [
    {
     "data": {
      "text/html": [
       "<ol class=list-inline>\n",
       "\t<li>1996</li>\n",
       "\t<li>1997</li>\n",
       "\t<li>1998</li>\n",
       "\t<li>1999</li>\n",
       "\t<li>2000</li>\n",
       "</ol>\n"
      ],
      "text/latex": [
       "\\begin{enumerate*}\n",
       "\\item 1996\n",
       "\\item 1997\n",
       "\\item 1998\n",
       "\\item 1999\n",
       "\\item 2000\n",
       "\\end{enumerate*}\n"
      ],
      "text/markdown": [
       "1. 1996\n",
       "2. 1997\n",
       "3. 1998\n",
       "4. 1999\n",
       "5. 2000\n",
       "\n",
       "\n"
      ],
      "text/plain": [
       "[1] 1996 1997 1998 1999 2000"
      ]
     },
     "metadata": {},
     "output_type": "display_data"
    },
    {
     "data": {
      "text/html": [
       "<table>\n",
       "<thead><tr><th scope=col>id</th><th scope=col>Inc</th><th scope=col>attained age</th><th scope=col>borrowed</th><th scope=col>redundant_feature</th><th scope=col>answer</th></tr></thead>\n",
       "<tbody>\n",
       "\t<tr><td>1          </td><td>66155.93   </td><td>59.01702   </td><td>8106.5321  </td><td>0.122536751</td><td>0          </td></tr>\n",
       "\t<tr><td>2          </td><td>34415.15   </td><td>48.11715   </td><td>6564.7450  </td><td>0.190751581</td><td>0          </td></tr>\n",
       "\t<tr><td>3          </td><td>57317.17   </td><td>63.10805   </td><td>8020.9533  </td><td>0.139939800</td><td>0          </td></tr>\n",
       "\t<tr><td>4          </td><td>42709.53   </td><td>45.75197   </td><td>6103.6423  </td><td>0.142910532</td><td>0          </td></tr>\n",
       "\t<tr><td>5          </td><td>66952.69   </td><td>18.58434   </td><td>8770.0992  </td><td>0.130989500</td><td>1          </td></tr>\n",
       "\t<tr><td>6          </td><td>24904.06   </td><td>57.47161   </td><td>  15.4986  </td><td>0.000622332</td><td>0          </td></tr>\n",
       "</tbody>\n",
       "</table>\n"
      ],
      "text/latex": [
       "\\begin{tabular}{r|llllll}\n",
       " id & Inc & attained age & borrowed & redundant\\_feature & answer\\\\\n",
       "\\hline\n",
       "\t 1           & 66155.93    & 59.01702    & 8106.5321   & 0.122536751 & 0          \\\\\n",
       "\t 2           & 34415.15    & 48.11715    & 6564.7450   & 0.190751581 & 0          \\\\\n",
       "\t 3           & 57317.17    & 63.10805    & 8020.9533   & 0.139939800 & 0          \\\\\n",
       "\t 4           & 42709.53    & 45.75197    & 6103.6423   & 0.142910532 & 0          \\\\\n",
       "\t 5           & 66952.69    & 18.58434    & 8770.0992   & 0.130989500 & 1          \\\\\n",
       "\t 6           & 24904.06    & 57.47161    &   15.4986   & 0.000622332 & 0          \\\\\n",
       "\\end{tabular}\n"
      ],
      "text/markdown": [
       "\n",
       "| id | Inc | attained age | borrowed | redundant_feature | answer |\n",
       "|---|---|---|---|---|---|\n",
       "| 1           | 66155.93    | 59.01702    | 8106.5321   | 0.122536751 | 0           |\n",
       "| 2           | 34415.15    | 48.11715    | 6564.7450   | 0.190751581 | 0           |\n",
       "| 3           | 57317.17    | 63.10805    | 8020.9533   | 0.139939800 | 0           |\n",
       "| 4           | 42709.53    | 45.75197    | 6103.6423   | 0.142910532 | 0           |\n",
       "| 5           | 66952.69    | 18.58434    | 8770.0992   | 0.130989500 | 1           |\n",
       "| 6           | 24904.06    | 57.47161    |   15.4986   | 0.000622332 | 0           |\n",
       "\n"
      ],
      "text/plain": [
       "  id Inc      attained age borrowed  redundant_feature answer\n",
       "1 1  66155.93 59.01702     8106.5321 0.122536751       0     \n",
       "2 2  34415.15 48.11715     6564.7450 0.190751581       0     \n",
       "3 3  57317.17 63.10805     8020.9533 0.139939800       0     \n",
       "4 4  42709.53 45.75197     6103.6423 0.142910532       0     \n",
       "5 5  66952.69 18.58434     8770.0992 0.130989500       1     \n",
       "6 6  24904.06 57.47161       15.4986 0.000622332       0     "
      ]
     },
     "metadata": {},
     "output_type": "display_data"
    },
    {
     "data": {
      "text/html": [
       "<table>\n",
       "<thead><tr><th></th><th scope=col>id</th><th scope=col>Inc</th><th scope=col>attained age</th><th scope=col>borrowed</th><th scope=col>redundant_feature</th><th scope=col>answer</th></tr></thead>\n",
       "<tbody>\n",
       "\t<tr><th scope=row>1995</th><td>1995      </td><td>24254.70  </td><td>37.75162  </td><td>2225.285  </td><td>0.09174653</td><td>0         </td></tr>\n",
       "\t<tr><th scope=row>1996</th><td>1996      </td><td>59221.04  </td><td>48.51818  </td><td>1926.729  </td><td>0.03253454</td><td>1         </td></tr>\n",
       "\t<tr><th scope=row>1997</th><td>1997      </td><td>69516.13  </td><td>23.16210  </td><td>3503.176  </td><td>0.05039372</td><td>1         </td></tr>\n",
       "\t<tr><th scope=row>1998</th><td>1998      </td><td>44311.45  </td><td>28.01717  </td><td>5522.787  </td><td>0.12463566</td><td>1         </td></tr>\n",
       "\t<tr><th scope=row>1999</th><td>1999      </td><td>43756.06  </td><td>63.97180  </td><td>1622.723  </td><td>0.03708567</td><td>1         </td></tr>\n",
       "\t<tr><th scope=row>2000</th><td>2000      </td><td>69436.58  </td><td>56.15262  </td><td>7378.834  </td><td>0.10626724</td><td>1         </td></tr>\n",
       "</tbody>\n",
       "</table>\n"
      ],
      "text/latex": [
       "\\begin{tabular}{r|llllll}\n",
       "  & id & Inc & attained age & borrowed & redundant\\_feature & answer\\\\\n",
       "\\hline\n",
       "\t1995 & 1995       & 24254.70   & 37.75162   & 2225.285   & 0.09174653 & 0         \\\\\n",
       "\t1996 & 1996       & 59221.04   & 48.51818   & 1926.729   & 0.03253454 & 1         \\\\\n",
       "\t1997 & 1997       & 69516.13   & 23.16210   & 3503.176   & 0.05039372 & 1         \\\\\n",
       "\t1998 & 1998       & 44311.45   & 28.01717   & 5522.787   & 0.12463566 & 1         \\\\\n",
       "\t1999 & 1999       & 43756.06   & 63.97180   & 1622.723   & 0.03708567 & 1         \\\\\n",
       "\t2000 & 2000       & 69436.58   & 56.15262   & 7378.834   & 0.10626724 & 1         \\\\\n",
       "\\end{tabular}\n"
      ],
      "text/markdown": [
       "\n",
       "| <!--/--> | id | Inc | attained age | borrowed | redundant_feature | answer |\n",
       "|---|---|---|---|---|---|---|\n",
       "| 1995 | 1995       | 24254.70   | 37.75162   | 2225.285   | 0.09174653 | 0          |\n",
       "| 1996 | 1996       | 59221.04   | 48.51818   | 1926.729   | 0.03253454 | 1          |\n",
       "| 1997 | 1997       | 69516.13   | 23.16210   | 3503.176   | 0.05039372 | 1          |\n",
       "| 1998 | 1998       | 44311.45   | 28.01717   | 5522.787   | 0.12463566 | 1          |\n",
       "| 1999 | 1999       | 43756.06   | 63.97180   | 1622.723   | 0.03708567 | 1          |\n",
       "| 2000 | 2000       | 69436.58   | 56.15262   | 7378.834   | 0.10626724 | 1          |\n",
       "\n"
      ],
      "text/plain": [
       "     id   Inc      attained age borrowed redundant_feature answer\n",
       "1995 1995 24254.70 37.75162     2225.285 0.09174653        0     \n",
       "1996 1996 59221.04 48.51818     1926.729 0.03253454        1     \n",
       "1997 1997 69516.13 23.16210     3503.176 0.05039372        1     \n",
       "1998 1998 44311.45 28.01717     5522.787 0.12463566        1     \n",
       "1999 1999 43756.06 63.97180     1622.723 0.03708567        1     \n",
       "2000 2000 69436.58 56.15262     7378.834 0.10626724        1     "
      ]
     },
     "metadata": {},
     "output_type": "display_data"
    }
   ],
   "source": [
    "# MyLoan <- paste('MyLoan.csv',sep='') # by default, R's paste function inserts a space between items\n",
    "# we are overriding that via the sep='' meaning we want no separator between the path and the file name.\n",
    "credit_data <- read.csv('MyLoans.csv',TRUE,\",\") # read the comma-separated file assuming column headers exist, \n",
    "# and there are commas between values\n",
    "\n",
    "#change column names\n",
    "colnames(credit_data) <- c('id','Inc', 'attained age', 'borrowed', 'redundant_feature', 'answer')\n",
    "indices <- (nrow(credit_data) - 4):nrow(credit_data)\n",
    "head(indices)\n",
    "credit_data$answer[indices] <- 1\n",
    "#print the first few lines\n",
    "head(credit_data) # the known_value column shows whether the load defaulted (1=yes)\n",
    "#show last five changed\n",
    "credit_data[1995:2000,]"
   ]
  },
  {
   "cell_type": "code",
   "execution_count": 52,
   "metadata": {},
   "outputs": [
    {
     "data": {
      "text/html": [
       "<table>\n",
       "<thead><tr><th scope=col>Inc</th><th scope=col>attained.age</th><th scope=col>borrowed</th><th scope=col>answer</th></tr></thead>\n",
       "<tbody>\n",
       "\t<tr><td>0.9231759</td><td>0.8920917</td><td>0.5888374</td><td>0        </td></tr>\n",
       "\t<tr><td>0.2881216</td><td>0.6547079</td><td>0.4768270</td><td>0        </td></tr>\n",
       "\t<tr><td>0.7463343</td><td>0.9811888</td><td>0.5826201</td><td>0        </td></tr>\n",
       "\t<tr><td>0.4540717</td><td>0.6031975</td><td>0.4433280</td><td>0        </td></tr>\n",
       "\t<tr><td>0.9391172</td><td>0.0115241</td><td>0.6370454</td><td>1        </td></tr>\n",
       "</tbody>\n",
       "</table>\n"
      ],
      "text/latex": [
       "\\begin{tabular}{r|llll}\n",
       " Inc & attained.age & borrowed & answer\\\\\n",
       "\\hline\n",
       "\t 0.9231759 & 0.8920917 & 0.5888374 & 0        \\\\\n",
       "\t 0.2881216 & 0.6547079 & 0.4768270 & 0        \\\\\n",
       "\t 0.7463343 & 0.9811888 & 0.5826201 & 0        \\\\\n",
       "\t 0.4540717 & 0.6031975 & 0.4433280 & 0        \\\\\n",
       "\t 0.9391172 & 0.0115241 & 0.6370454 & 1        \\\\\n",
       "\\end{tabular}\n"
      ],
      "text/markdown": [
       "\n",
       "| Inc | attained.age | borrowed | answer |\n",
       "|---|---|---|---|\n",
       "| 0.9231759 | 0.8920917 | 0.5888374 | 0         |\n",
       "| 0.2881216 | 0.6547079 | 0.4768270 | 0         |\n",
       "| 0.7463343 | 0.9811888 | 0.5826201 | 0         |\n",
       "| 0.4540717 | 0.6031975 | 0.4433280 | 0         |\n",
       "| 0.9391172 | 0.0115241 | 0.6370454 | 1         |\n",
       "\n"
      ],
      "text/plain": [
       "  Inc       attained.age borrowed  answer\n",
       "1 0.9231759 0.8920917    0.5888374 0     \n",
       "2 0.2881216 0.6547079    0.4768270 0     \n",
       "3 0.7463343 0.9811888    0.5826201 0     \n",
       "4 0.4540717 0.6031975    0.4433280 0     \n",
       "5 0.9391172 0.0115241    0.6370454 1     "
      ]
     },
     "metadata": {},
     "output_type": "display_data"
    },
    {
     "data": {
      "text/html": [
       "<table>\n",
       "<thead><tr><th></th><th scope=col>Inc</th><th scope=col>attained.age</th><th scope=col>borrowed</th><th scope=col>answer</th></tr></thead>\n",
       "<tbody>\n",
       "\t<tr><th scope=row>1996</th><td>0.7844261</td><td>0.6634417</td><td>0.1398763</td><td>1        </td></tr>\n",
       "\t<tr><th scope=row>1997</th><td>0.9904052</td><td>0.1112215</td><td>0.2544048</td><td>1        </td></tr>\n",
       "\t<tr><th scope=row>1998</th><td>0.4861220</td><td>0.2169581</td><td>0.4011289</td><td>1        </td></tr>\n",
       "\t<tr><th scope=row>1999</th><td>0.4750100</td><td>1.0000000</td><td>0.1177903</td><td>1        </td></tr>\n",
       "\t<tr><th scope=row>2000</th><td>0.9888137</td><td>0.8297091</td><td>0.5359703</td><td>1        </td></tr>\n",
       "</tbody>\n",
       "</table>\n"
      ],
      "text/latex": [
       "\\begin{tabular}{r|llll}\n",
       "  & Inc & attained.age & borrowed & answer\\\\\n",
       "\\hline\n",
       "\t1996 & 0.7844261 & 0.6634417 & 0.1398763 & 1        \\\\\n",
       "\t1997 & 0.9904052 & 0.1112215 & 0.2544048 & 1        \\\\\n",
       "\t1998 & 0.4861220 & 0.2169581 & 0.4011289 & 1        \\\\\n",
       "\t1999 & 0.4750100 & 1.0000000 & 0.1177903 & 1        \\\\\n",
       "\t2000 & 0.9888137 & 0.8297091 & 0.5359703 & 1        \\\\\n",
       "\\end{tabular}\n"
      ],
      "text/markdown": [
       "\n",
       "| <!--/--> | Inc | attained.age | borrowed | answer |\n",
       "|---|---|---|---|---|\n",
       "| 1996 | 0.7844261 | 0.6634417 | 0.1398763 | 1         |\n",
       "| 1997 | 0.9904052 | 0.1112215 | 0.2544048 | 1         |\n",
       "| 1998 | 0.4861220 | 0.2169581 | 0.4011289 | 1         |\n",
       "| 1999 | 0.4750100 | 1.0000000 | 0.1177903 | 1         |\n",
       "| 2000 | 0.9888137 | 0.8297091 | 0.5359703 | 1         |\n",
       "\n"
      ],
      "text/plain": [
       "     Inc       attained.age borrowed  answer\n",
       "1996 0.7844261 0.6634417    0.1398763 1     \n",
       "1997 0.9904052 0.1112215    0.2544048 1     \n",
       "1998 0.4861220 0.2169581    0.4011289 1     \n",
       "1999 0.4750100 1.0000000    0.1177903 1     \n",
       "2000 0.9888137 0.8297091    0.5359703 1     "
      ]
     },
     "metadata": {},
     "output_type": "display_data"
    }
   ],
   "source": [
    "# normalize the dataset\n",
    "# this function performs a quick and simple normalization \n",
    "normalize <- function(x) {return( (x-min(x)) / (max(x)-min(x)) )}\n",
    "\n",
    "# NOTE: Looking at the data, we see that the loan_to_income column is simply loan/income so \n",
    "# it is not an independent feature. Our training will go better if we exclude this column.\n",
    "normalized_credit_data <- as.data.frame(lapply(credit_data[2:4], normalize)) # just normalize the 3 input data columns\n",
    "#add the labels as a 'known_value' column\n",
    "normalized_credit_data$answer <- credit_data$answer\n",
    "normalized_credit_data[1:5,] # show the first 5 and the last 5 rows of the data\n",
    "normalized_credit_data[1996:2000,]"
   ]
  },
  {
   "cell_type": "code",
   "execution_count": 53,
   "metadata": {},
   "outputs": [],
   "source": [
    "#split the dataset into training and test dataset\n",
    "# the dataset consists of 2000 observations, so take 70% for training\n",
    "training_data <- normalized_credit_data[1:1400,]\n",
    "# set aside 20% for test\n",
    "test_data <- normalized_credit_data[1401:1800,]\n",
    "# let's also set aside another 10% for validation (or for another test)\n",
    "validation_data <- normalized_credit_data[1801:2000,]"
   ]
  },
  {
   "cell_type": "code",
   "execution_count": 54,
   "metadata": {},
   "outputs": [],
   "source": [
    "#training the neural network\n",
    "# this step may take a while (depending upon your computing facility)\n",
    "neural_network <- neuralnet(answer~Inc+attained.age+borrowed, training_data, hidden=5, \n",
    "                            act.fct = \"logistic\", linear.output = FALSE)"
   ]
  },
  {
   "cell_type": "code",
   "execution_count": 55,
   "metadata": {},
   "outputs": [
    {
     "data": {
      "image/png": "[encoded data removed]",
      "text/plain": [
       "plot without title"
      ]
     },
     "metadata": {},
     "output_type": "display_data"
    }
   ],
   "source": [
    "# Let's plot the neural network architecture.\n",
    "# This is incredibly cool! You will see all of the weights that were calculated during the training process.\n",
    "plot(neural_network, rep=\"best\")"
   ]
  },
  {
   "cell_type": "code",
   "execution_count": 57,
   "metadata": {},
   "outputs": [
    {
     "data": {
      "text/html": [
       "<table>\n",
       "<thead><tr><th></th><th scope=col>Inc</th><th scope=col>attained.age</th><th scope=col>borrowed</th><th scope=col>answer</th></tr></thead>\n",
       "<tbody>\n",
       "\t<tr><th scope=row>1401</th><td>0.4843376 </td><td>0.8233684 </td><td>0.54066731</td><td>0         </td></tr>\n",
       "\t<tr><th scope=row>1402</th><td>0.9568550 </td><td>0.6474213 </td><td>0.40741605</td><td>0         </td></tr>\n",
       "\t<tr><th scope=row>1403</th><td>0.6801598 </td><td>0.6828621 </td><td>0.06417572</td><td>1         </td></tr>\n",
       "\t<tr><th scope=row>1404</th><td>0.6446342 </td><td>0.6518190 </td><td>0.67233453</td><td>0         </td></tr>\n",
       "\t<tr><th scope=row>1405</th><td>0.1682361 </td><td>0.9499018 </td><td>0.38369755</td><td>0         </td></tr>\n",
       "\t<tr><th scope=row>1406</th><td>0.6524243 </td><td>0.7048286 </td><td>0.08390624</td><td>0         </td></tr>\n",
       "\t<tr><th scope=row>1407</th><td>0.1124792 </td><td>0.8216389 </td><td>0.08996295</td><td>0         </td></tr>\n",
       "\t<tr><th scope=row>1408</th><td>0.8168762 </td><td>0.9190564 </td><td>0.48003980</td><td>0         </td></tr>\n",
       "\t<tr><th scope=row>1409</th><td>0.3343909 </td><td>0.8739641 </td><td>0.52933788</td><td>0         </td></tr>\n",
       "</tbody>\n",
       "</table>\n"
      ],
      "text/latex": [
       "\\begin{tabular}{r|llll}\n",
       "  & Inc & attained.age & borrowed & answer\\\\\n",
       "\\hline\n",
       "\t1401 & 0.4843376  & 0.8233684  & 0.54066731 & 0         \\\\\n",
       "\t1402 & 0.9568550  & 0.6474213  & 0.40741605 & 0         \\\\\n",
       "\t1403 & 0.6801598  & 0.6828621  & 0.06417572 & 1         \\\\\n",
       "\t1404 & 0.6446342  & 0.6518190  & 0.67233453 & 0         \\\\\n",
       "\t1405 & 0.1682361  & 0.9499018  & 0.38369755 & 0         \\\\\n",
       "\t1406 & 0.6524243  & 0.7048286  & 0.08390624 & 0         \\\\\n",
       "\t1407 & 0.1124792  & 0.8216389  & 0.08996295 & 0         \\\\\n",
       "\t1408 & 0.8168762  & 0.9190564  & 0.48003980 & 0         \\\\\n",
       "\t1409 & 0.3343909  & 0.8739641  & 0.52933788 & 0         \\\\\n",
       "\\end{tabular}\n"
      ],
      "text/markdown": [
       "\n",
       "| <!--/--> | Inc | attained.age | borrowed | answer |\n",
       "|---|---|---|---|---|\n",
       "| 1401 | 0.4843376  | 0.8233684  | 0.54066731 | 0          |\n",
       "| 1402 | 0.9568550  | 0.6474213  | 0.40741605 | 0          |\n",
       "| 1403 | 0.6801598  | 0.6828621  | 0.06417572 | 1          |\n",
       "| 1404 | 0.6446342  | 0.6518190  | 0.67233453 | 0          |\n",
       "| 1405 | 0.1682361  | 0.9499018  | 0.38369755 | 0          |\n",
       "| 1406 | 0.6524243  | 0.7048286  | 0.08390624 | 0          |\n",
       "| 1407 | 0.1124792  | 0.8216389  | 0.08996295 | 0          |\n",
       "| 1408 | 0.8168762  | 0.9190564  | 0.48003980 | 0          |\n",
       "| 1409 | 0.3343909  | 0.8739641  | 0.52933788 | 0          |\n",
       "\n"
      ],
      "text/plain": [
       "     Inc       attained.age borrowed   answer\n",
       "1401 0.4843376 0.8233684    0.54066731 0     \n",
       "1402 0.9568550 0.6474213    0.40741605 0     \n",
       "1403 0.6801598 0.6828621    0.06417572 1     \n",
       "1404 0.6446342 0.6518190    0.67233453 0     \n",
       "1405 0.1682361 0.9499018    0.38369755 0     \n",
       "1406 0.6524243 0.7048286    0.08390624 0     \n",
       "1407 0.1124792 0.8216389    0.08996295 0     \n",
       "1408 0.8168762 0.9190564    0.48003980 0     \n",
       "1409 0.3343909 0.8739641    0.52933788 0     "
      ]
     },
     "metadata": {},
     "output_type": "display_data"
    },
    {
     "data": {
      "text/html": [
       "<table>\n",
       "<thead><tr><th></th><th scope=col>Inc</th><th scope=col>attained.age</th><th scope=col>borrowed</th></tr></thead>\n",
       "<tbody>\n",
       "\t<tr><th scope=row>1401</th><td>0.4843376 </td><td>0.8233684 </td><td>0.54066731</td></tr>\n",
       "\t<tr><th scope=row>1402</th><td>0.9568550 </td><td>0.6474213 </td><td>0.40741605</td></tr>\n",
       "\t<tr><th scope=row>1403</th><td>0.6801598 </td><td>0.6828621 </td><td>0.06417572</td></tr>\n",
       "\t<tr><th scope=row>1404</th><td>0.6446342 </td><td>0.6518190 </td><td>0.67233453</td></tr>\n",
       "\t<tr><th scope=row>1405</th><td>0.1682361 </td><td>0.9499018 </td><td>0.38369755</td></tr>\n",
       "\t<tr><th scope=row>1406</th><td>0.6524243 </td><td>0.7048286 </td><td>0.08390624</td></tr>\n",
       "\t<tr><th scope=row>1407</th><td>0.1124792 </td><td>0.8216389 </td><td>0.08996295</td></tr>\n",
       "\t<tr><th scope=row>1408</th><td>0.8168762 </td><td>0.9190564 </td><td>0.48003980</td></tr>\n",
       "\t<tr><th scope=row>1409</th><td>0.3343909 </td><td>0.8739641 </td><td>0.52933788</td></tr>\n",
       "</tbody>\n",
       "</table>\n"
      ],
      "text/latex": [
       "\\begin{tabular}{r|lll}\n",
       "  & Inc & attained.age & borrowed\\\\\n",
       "\\hline\n",
       "\t1401 & 0.4843376  & 0.8233684  & 0.54066731\\\\\n",
       "\t1402 & 0.9568550  & 0.6474213  & 0.40741605\\\\\n",
       "\t1403 & 0.6801598  & 0.6828621  & 0.06417572\\\\\n",
       "\t1404 & 0.6446342  & 0.6518190  & 0.67233453\\\\\n",
       "\t1405 & 0.1682361  & 0.9499018  & 0.38369755\\\\\n",
       "\t1406 & 0.6524243  & 0.7048286  & 0.08390624\\\\\n",
       "\t1407 & 0.1124792  & 0.8216389  & 0.08996295\\\\\n",
       "\t1408 & 0.8168762  & 0.9190564  & 0.48003980\\\\\n",
       "\t1409 & 0.3343909  & 0.8739641  & 0.52933788\\\\\n",
       "\\end{tabular}\n"
      ],
      "text/markdown": [
       "\n",
       "| <!--/--> | Inc | attained.age | borrowed |\n",
       "|---|---|---|---|\n",
       "| 1401 | 0.4843376  | 0.8233684  | 0.54066731 |\n",
       "| 1402 | 0.9568550  | 0.6474213  | 0.40741605 |\n",
       "| 1403 | 0.6801598  | 0.6828621  | 0.06417572 |\n",
       "| 1404 | 0.6446342  | 0.6518190  | 0.67233453 |\n",
       "| 1405 | 0.1682361  | 0.9499018  | 0.38369755 |\n",
       "| 1406 | 0.6524243  | 0.7048286  | 0.08390624 |\n",
       "| 1407 | 0.1124792  | 0.8216389  | 0.08996295 |\n",
       "| 1408 | 0.8168762  | 0.9190564  | 0.48003980 |\n",
       "| 1409 | 0.3343909  | 0.8739641  | 0.52933788 |\n",
       "\n"
      ],
      "text/plain": [
       "     Inc       attained.age borrowed  \n",
       "1401 0.4843376 0.8233684    0.54066731\n",
       "1402 0.9568550 0.6474213    0.40741605\n",
       "1403 0.6801598 0.6828621    0.06417572\n",
       "1404 0.6446342 0.6518190    0.67233453\n",
       "1405 0.1682361 0.9499018    0.38369755\n",
       "1406 0.6524243 0.7048286    0.08390624\n",
       "1407 0.1124792 0.8216389    0.08996295\n",
       "1408 0.8168762 0.9190564    0.48003980\n",
       "1409 0.3343909 0.8739641    0.52933788"
      ]
     },
     "metadata": {},
     "output_type": "display_data"
    }
   ],
   "source": [
    "# We just need the features for testing so remove the column known_value (the answers).\n",
    "test_data2 <- subset(test_data,select=c(\"Inc\",\"attained.age\",\"borrowed\")) # and don't take the loan_to_income column\n",
    "head(test_data,n=9) # show the first 9 lines before abnd after removing the answers\n",
    "head(test_data2,n=9)"
   ]
  },
  {
   "cell_type": "code",
   "execution_count": 61,
   "metadata": {},
   "outputs": [
    {
     "data": {
      "text/html": [
       "<table>\n",
       "<tbody>\n",
       "\t<tr><th scope=row>1401</th><td> 5.005354e-58</td></tr>\n",
       "\t<tr><th scope=row>1402</th><td> 1.309801e-97</td></tr>\n",
       "\t<tr><th scope=row>1403</th><td>2.291490e-108</td></tr>\n",
       "\t<tr><th scope=row>1404</th><td> 4.630742e-53</td></tr>\n",
       "\t<tr><th scope=row>1405</th><td> 3.164850e-59</td></tr>\n",
       "\t<tr><th scope=row>1406</th><td>3.253551e-111</td></tr>\n",
       "\t<tr><th scope=row>1407</th><td> 2.948127e-88</td></tr>\n",
       "\t<tr><th scope=row>1408</th><td> 2.917003e-95</td></tr>\n",
       "\t<tr><th scope=row>1409</th><td> 5.452050e-59</td></tr>\n",
       "</tbody>\n",
       "</table>\n"
      ],
      "text/latex": [
       "\\begin{tabular}{r|l}\n",
       "\t1401 &  5.005354e-58\\\\\n",
       "\t1402 &  1.309801e-97\\\\\n",
       "\t1403 & 2.291490e-108\\\\\n",
       "\t1404 &  4.630742e-53\\\\\n",
       "\t1405 &  3.164850e-59\\\\\n",
       "\t1406 & 3.253551e-111\\\\\n",
       "\t1407 &  2.948127e-88\\\\\n",
       "\t1408 &  2.917003e-95\\\\\n",
       "\t1409 &  5.452050e-59\\\\\n",
       "\\end{tabular}\n"
      ],
      "text/markdown": [
       "\n",
       "| 1401 |  5.005354e-58 |\n",
       "| 1402 |  1.309801e-97 |\n",
       "| 1403 | 2.291490e-108 |\n",
       "| 1404 |  4.630742e-53 |\n",
       "| 1405 |  3.164850e-59 |\n",
       "| 1406 | 3.253551e-111 |\n",
       "| 1407 |  2.948127e-88 |\n",
       "| 1408 |  2.917003e-95 |\n",
       "| 1409 |  5.452050e-59 |\n",
       "\n"
      ],
      "text/plain": [
       "     [,1]         \n",
       "1401  5.005354e-58\n",
       "1402  1.309801e-97\n",
       "1403 2.291490e-108\n",
       "1404  4.630742e-53\n",
       "1405  3.164850e-59\n",
       "1406 3.253551e-111\n",
       "1407  2.948127e-88\n",
       "1408  2.917003e-95\n",
       "1409  5.452050e-59"
      ]
     },
     "metadata": {},
     "output_type": "display_data"
    }
   ],
   "source": [
    "#predict the test dataset\n",
    "predictions <- compute(neural_network, test_data2)\n",
    "head(predictions$net.result,n=9)"
   ]
  },
  {
   "cell_type": "code",
   "execution_count": 70,
   "metadata": {},
   "outputs": [
    {
     "data": {
      "text/html": [
       "<table>\n",
       "<tbody>\n",
       "\t<tr><th scope=row>1401</th><td>0</td></tr>\n",
       "\t<tr><th scope=row>1402</th><td>0</td></tr>\n",
       "\t<tr><th scope=row>1403</th><td>0</td></tr>\n",
       "\t<tr><th scope=row>1404</th><td>0</td></tr>\n",
       "\t<tr><th scope=row>1405</th><td>0</td></tr>\n",
       "\t<tr><th scope=row>1406</th><td>0</td></tr>\n",
       "\t<tr><th scope=row>1407</th><td>0</td></tr>\n",
       "\t<tr><th scope=row>1408</th><td>0</td></tr>\n",
       "\t<tr><th scope=row>1409</th><td>0</td></tr>\n",
       "</tbody>\n",
       "</table>\n"
      ],
      "text/latex": [
       "\\begin{tabular}{r|l}\n",
       "\t1401 & 0\\\\\n",
       "\t1402 & 0\\\\\n",
       "\t1403 & 0\\\\\n",
       "\t1404 & 0\\\\\n",
       "\t1405 & 0\\\\\n",
       "\t1406 & 0\\\\\n",
       "\t1407 & 0\\\\\n",
       "\t1408 & 0\\\\\n",
       "\t1409 & 0\\\\\n",
       "\\end{tabular}\n"
      ],
      "text/markdown": [
       "\n",
       "| 1401 | 0 |\n",
       "| 1402 | 0 |\n",
       "| 1403 | 0 |\n",
       "| 1404 | 0 |\n",
       "| 1405 | 0 |\n",
       "| 1406 | 0 |\n",
       "| 1407 | 0 |\n",
       "| 1408 | 0 |\n",
       "| 1409 | 0 |\n",
       "\n"
      ],
      "text/plain": [
       "     [,1]\n",
       "1401 0   \n",
       "1402 0   \n",
       "1403 0   \n",
       "1404 0   \n",
       "1405 0   \n",
       "1406 0   \n",
       "1407 0   \n",
       "1408 0   \n",
       "1409 0   "
      ]
     },
     "metadata": {},
     "output_type": "display_data"
    }
   ],
   "source": [
    "#round the predictions (0 or 1) so that we can easily compare to the known_value\n",
    "predictions <- round(predictions$net.result)\n",
    "head(predictions,n=9)"
   ]
  },
  {
   "cell_type": "code",
   "execution_count": 74,
   "metadata": {},
   "outputs": [
    {
     "data": {
      "text/html": [
       "0.9925"
      ],
      "text/latex": [
       "0.9925"
      ],
      "text/markdown": [
       "0.9925"
      ],
      "text/plain": [
       "[1] 0.9925"
      ]
     },
     "metadata": {},
     "output_type": "display_data"
    }
   ],
   "source": [
    "#accuracy of the model\n",
    "mean(test_data$answer==predictions)\n"
   ]
  },
  {
   "cell_type": "markdown",
   "metadata": {},
   "source": [
    "## That was a high level of accuracy. Let's try the model on another set of test data (our validation set)."
   ]
  },
  {
   "cell_type": "code",
   "execution_count": 62,
   "metadata": {},
   "outputs": [
    {
     "data": {
      "text/html": [
       "<table>\n",
       "<thead><tr><th></th><th scope=col>Inc</th><th scope=col>attained.age</th><th scope=col>borrowed</th><th scope=col>answer</th></tr></thead>\n",
       "<tbody>\n",
       "\t<tr><th scope=row>1801</th><td>0.4652032</td><td>0.5812303</td><td>0.4498977</td><td>0        </td></tr>\n",
       "\t<tr><th scope=row>1802</th><td>0.9561237</td><td>0.6747624</td><td>0.9765648</td><td>0        </td></tr>\n",
       "\t<tr><th scope=row>1803</th><td>0.7081506</td><td>0.5502937</td><td>0.7482127</td><td>0        </td></tr>\n",
       "\t<tr><th scope=row>1804</th><td>0.9410420</td><td>0.8057619</td><td>0.7874169</td><td>0        </td></tr>\n",
       "\t<tr><th scope=row>1805</th><td>0.4051145</td><td>0.7348903</td><td>0.4747279</td><td>0        </td></tr>\n",
       "\t<tr><th scope=row>1806</th><td>0.5284589</td><td>0.9537148</td><td>0.4119293</td><td>0        </td></tr>\n",
       "\t<tr><th scope=row>1807</th><td>0.5381365</td><td>0.1170773</td><td>0.3096678</td><td>0        </td></tr>\n",
       "\t<tr><th scope=row>1808</th><td>0.7471823</td><td>0.3645756</td><td>0.7272263</td><td>1        </td></tr>\n",
       "\t<tr><th scope=row>1809</th><td>0.2912058</td><td>0.9927881</td><td>0.4542897</td><td>0        </td></tr>\n",
       "</tbody>\n",
       "</table>\n"
      ],
      "text/latex": [
       "\\begin{tabular}{r|llll}\n",
       "  & Inc & attained.age & borrowed & answer\\\\\n",
       "\\hline\n",
       "\t1801 & 0.4652032 & 0.5812303 & 0.4498977 & 0        \\\\\n",
       "\t1802 & 0.9561237 & 0.6747624 & 0.9765648 & 0        \\\\\n",
       "\t1803 & 0.7081506 & 0.5502937 & 0.7482127 & 0        \\\\\n",
       "\t1804 & 0.9410420 & 0.8057619 & 0.7874169 & 0        \\\\\n",
       "\t1805 & 0.4051145 & 0.7348903 & 0.4747279 & 0        \\\\\n",
       "\t1806 & 0.5284589 & 0.9537148 & 0.4119293 & 0        \\\\\n",
       "\t1807 & 0.5381365 & 0.1170773 & 0.3096678 & 0        \\\\\n",
       "\t1808 & 0.7471823 & 0.3645756 & 0.7272263 & 1        \\\\\n",
       "\t1809 & 0.2912058 & 0.9927881 & 0.4542897 & 0        \\\\\n",
       "\\end{tabular}\n"
      ],
      "text/markdown": [
       "\n",
       "| <!--/--> | Inc | attained.age | borrowed | answer |\n",
       "|---|---|---|---|---|\n",
       "| 1801 | 0.4652032 | 0.5812303 | 0.4498977 | 0         |\n",
       "| 1802 | 0.9561237 | 0.6747624 | 0.9765648 | 0         |\n",
       "| 1803 | 0.7081506 | 0.5502937 | 0.7482127 | 0         |\n",
       "| 1804 | 0.9410420 | 0.8057619 | 0.7874169 | 0         |\n",
       "| 1805 | 0.4051145 | 0.7348903 | 0.4747279 | 0         |\n",
       "| 1806 | 0.5284589 | 0.9537148 | 0.4119293 | 0         |\n",
       "| 1807 | 0.5381365 | 0.1170773 | 0.3096678 | 0         |\n",
       "| 1808 | 0.7471823 | 0.3645756 | 0.7272263 | 1         |\n",
       "| 1809 | 0.2912058 | 0.9927881 | 0.4542897 | 0         |\n",
       "\n"
      ],
      "text/plain": [
       "     Inc       attained.age borrowed  answer\n",
       "1801 0.4652032 0.5812303    0.4498977 0     \n",
       "1802 0.9561237 0.6747624    0.9765648 0     \n",
       "1803 0.7081506 0.5502937    0.7482127 0     \n",
       "1804 0.9410420 0.8057619    0.7874169 0     \n",
       "1805 0.4051145 0.7348903    0.4747279 0     \n",
       "1806 0.5284589 0.9537148    0.4119293 0     \n",
       "1807 0.5381365 0.1170773    0.3096678 0     \n",
       "1808 0.7471823 0.3645756    0.7272263 1     \n",
       "1809 0.2912058 0.9927881    0.4542897 0     "
      ]
     },
     "metadata": {},
     "output_type": "display_data"
    },
    {
     "data": {
      "text/html": [
       "<table>\n",
       "<thead><tr><th></th><th scope=col>Inc</th><th scope=col>attained.age</th><th scope=col>borrowed</th></tr></thead>\n",
       "<tbody>\n",
       "\t<tr><th scope=row>1801</th><td>0.4652032</td><td>0.5812303</td><td>0.4498977</td></tr>\n",
       "\t<tr><th scope=row>1802</th><td>0.9561237</td><td>0.6747624</td><td>0.9765648</td></tr>\n",
       "\t<tr><th scope=row>1803</th><td>0.7081506</td><td>0.5502937</td><td>0.7482127</td></tr>\n",
       "\t<tr><th scope=row>1804</th><td>0.9410420</td><td>0.8057619</td><td>0.7874169</td></tr>\n",
       "\t<tr><th scope=row>1805</th><td>0.4051145</td><td>0.7348903</td><td>0.4747279</td></tr>\n",
       "\t<tr><th scope=row>1806</th><td>0.5284589</td><td>0.9537148</td><td>0.4119293</td></tr>\n",
       "\t<tr><th scope=row>1807</th><td>0.5381365</td><td>0.1170773</td><td>0.3096678</td></tr>\n",
       "\t<tr><th scope=row>1808</th><td>0.7471823</td><td>0.3645756</td><td>0.7272263</td></tr>\n",
       "\t<tr><th scope=row>1809</th><td>0.2912058</td><td>0.9927881</td><td>0.4542897</td></tr>\n",
       "</tbody>\n",
       "</table>\n"
      ],
      "text/latex": [
       "\\begin{tabular}{r|lll}\n",
       "  & Inc & attained.age & borrowed\\\\\n",
       "\\hline\n",
       "\t1801 & 0.4652032 & 0.5812303 & 0.4498977\\\\\n",
       "\t1802 & 0.9561237 & 0.6747624 & 0.9765648\\\\\n",
       "\t1803 & 0.7081506 & 0.5502937 & 0.7482127\\\\\n",
       "\t1804 & 0.9410420 & 0.8057619 & 0.7874169\\\\\n",
       "\t1805 & 0.4051145 & 0.7348903 & 0.4747279\\\\\n",
       "\t1806 & 0.5284589 & 0.9537148 & 0.4119293\\\\\n",
       "\t1807 & 0.5381365 & 0.1170773 & 0.3096678\\\\\n",
       "\t1808 & 0.7471823 & 0.3645756 & 0.7272263\\\\\n",
       "\t1809 & 0.2912058 & 0.9927881 & 0.4542897\\\\\n",
       "\\end{tabular}\n"
      ],
      "text/markdown": [
       "\n",
       "| <!--/--> | Inc | attained.age | borrowed |\n",
       "|---|---|---|---|\n",
       "| 1801 | 0.4652032 | 0.5812303 | 0.4498977 |\n",
       "| 1802 | 0.9561237 | 0.6747624 | 0.9765648 |\n",
       "| 1803 | 0.7081506 | 0.5502937 | 0.7482127 |\n",
       "| 1804 | 0.9410420 | 0.8057619 | 0.7874169 |\n",
       "| 1805 | 0.4051145 | 0.7348903 | 0.4747279 |\n",
       "| 1806 | 0.5284589 | 0.9537148 | 0.4119293 |\n",
       "| 1807 | 0.5381365 | 0.1170773 | 0.3096678 |\n",
       "| 1808 | 0.7471823 | 0.3645756 | 0.7272263 |\n",
       "| 1809 | 0.2912058 | 0.9927881 | 0.4542897 |\n",
       "\n"
      ],
      "text/plain": [
       "     Inc       attained.age borrowed \n",
       "1801 0.4652032 0.5812303    0.4498977\n",
       "1802 0.9561237 0.6747624    0.9765648\n",
       "1803 0.7081506 0.5502937    0.7482127\n",
       "1804 0.9410420 0.8057619    0.7874169\n",
       "1805 0.4051145 0.7348903    0.4747279\n",
       "1806 0.5284589 0.9537148    0.4119293\n",
       "1807 0.5381365 0.1170773    0.3096678\n",
       "1808 0.7471823 0.3645756    0.7272263\n",
       "1809 0.2912058 0.9927881    0.4542897"
      ]
     },
     "metadata": {},
     "output_type": "display_data"
    }
   ],
   "source": [
    "validation_data2 <- subset(validation_data,select=c(\"Inc\",\"attained.age\",\"borrowed\"))\n",
    "head(validation_data,n=9)\n",
    "head(validation_data2,n=9)"
   ]
  },
  {
   "cell_type": "code",
   "execution_count": 65,
   "metadata": {},
   "outputs": [
    {
     "data": {
      "text/html": [
       "<table>\n",
       "<tbody>\n",
       "\t<tr><th scope=row>1801</th><td>9.225154e-37</td></tr>\n",
       "\t<tr><th scope=row>1802</th><td>1.220692e-42</td></tr>\n",
       "\t<tr><th scope=row>1803</th><td>1.051550e-35</td></tr>\n",
       "\t<tr><th scope=row>1804</th><td>2.389107e-58</td></tr>\n",
       "\t<tr><th scope=row>1805</th><td>1.052486e-54</td></tr>\n",
       "\t<tr><th scope=row>1806</th><td>2.012773e-59</td></tr>\n",
       "\t<tr><th scope=row>1807</th><td>4.087728e-62</td></tr>\n",
       "\t<tr><th scope=row>1808</th><td>9.221509e-01</td></tr>\n",
       "\t<tr><th scope=row>1809</th><td>1.725380e-59</td></tr>\n",
       "</tbody>\n",
       "</table>\n"
      ],
      "text/latex": [
       "\\begin{tabular}{r|l}\n",
       "\t1801 & 9.225154e-37\\\\\n",
       "\t1802 & 1.220692e-42\\\\\n",
       "\t1803 & 1.051550e-35\\\\\n",
       "\t1804 & 2.389107e-58\\\\\n",
       "\t1805 & 1.052486e-54\\\\\n",
       "\t1806 & 2.012773e-59\\\\\n",
       "\t1807 & 4.087728e-62\\\\\n",
       "\t1808 & 9.221509e-01\\\\\n",
       "\t1809 & 1.725380e-59\\\\\n",
       "\\end{tabular}\n"
      ],
      "text/markdown": [
       "\n",
       "| 1801 | 9.225154e-37 |\n",
       "| 1802 | 1.220692e-42 |\n",
       "| 1803 | 1.051550e-35 |\n",
       "| 1804 | 2.389107e-58 |\n",
       "| 1805 | 1.052486e-54 |\n",
       "| 1806 | 2.012773e-59 |\n",
       "| 1807 | 4.087728e-62 |\n",
       "| 1808 | 9.221509e-01 |\n",
       "| 1809 | 1.725380e-59 |\n",
       "\n"
      ],
      "text/plain": [
       "     [,1]        \n",
       "1801 9.225154e-37\n",
       "1802 1.220692e-42\n",
       "1803 1.051550e-35\n",
       "1804 2.389107e-58\n",
       "1805 1.052486e-54\n",
       "1806 2.012773e-59\n",
       "1807 4.087728e-62\n",
       "1808 9.221509e-01\n",
       "1809 1.725380e-59"
      ]
     },
     "metadata": {},
     "output_type": "display_data"
    }
   ],
   "source": [
    "predictions2 <- compute(neural_network, validation_data2)\n",
    "head(predictions2$net.result,n=9)\n",
    "# Note that loan #1080 above went into default. The predicited value below is not exactly 1, but very close to it."
   ]
  },
  {
   "cell_type": "code",
   "execution_count": 66,
   "metadata": {},
   "outputs": [
    {
     "data": {
      "text/html": [
       "<table>\n",
       "<tbody>\n",
       "\t<tr><th scope=row>1801</th><td>0</td></tr>\n",
       "\t<tr><th scope=row>1802</th><td>0</td></tr>\n",
       "\t<tr><th scope=row>1803</th><td>0</td></tr>\n",
       "\t<tr><th scope=row>1804</th><td>0</td></tr>\n",
       "\t<tr><th scope=row>1805</th><td>0</td></tr>\n",
       "\t<tr><th scope=row>1806</th><td>0</td></tr>\n",
       "\t<tr><th scope=row>1807</th><td>0</td></tr>\n",
       "\t<tr><th scope=row>1808</th><td>1</td></tr>\n",
       "\t<tr><th scope=row>1809</th><td>0</td></tr>\n",
       "</tbody>\n",
       "</table>\n"
      ],
      "text/latex": [
       "\\begin{tabular}{r|l}\n",
       "\t1801 & 0\\\\\n",
       "\t1802 & 0\\\\\n",
       "\t1803 & 0\\\\\n",
       "\t1804 & 0\\\\\n",
       "\t1805 & 0\\\\\n",
       "\t1806 & 0\\\\\n",
       "\t1807 & 0\\\\\n",
       "\t1808 & 1\\\\\n",
       "\t1809 & 0\\\\\n",
       "\\end{tabular}\n"
      ],
      "text/markdown": [
       "\n",
       "| 1801 | 0 |\n",
       "| 1802 | 0 |\n",
       "| 1803 | 0 |\n",
       "| 1804 | 0 |\n",
       "| 1805 | 0 |\n",
       "| 1806 | 0 |\n",
       "| 1807 | 0 |\n",
       "| 1808 | 1 |\n",
       "| 1809 | 0 |\n",
       "\n"
      ],
      "text/plain": [
       "     [,1]\n",
       "1801 0   \n",
       "1802 0   \n",
       "1803 0   \n",
       "1804 0   \n",
       "1805 0   \n",
       "1806 0   \n",
       "1807 0   \n",
       "1808 1   \n",
       "1809 0   "
      ]
     },
     "metadata": {},
     "output_type": "display_data"
    }
   ],
   "source": [
    "#round the predictions (0 or 1) so that we can easily compare to the known_value\n",
    "predictions2 <- round(predictions2$net.result)\n",
    "head(predictions2,n=9)"
   ]
  },
  {
   "cell_type": "code",
   "execution_count": 68,
   "metadata": {},
   "outputs": [
    {
     "data": {
      "text/html": [
       "0.97"
      ],
      "text/latex": [
       "0.97"
      ],
      "text/markdown": [
       "0.97"
      ],
      "text/plain": [
       "[1] 0.97"
      ]
     },
     "metadata": {},
     "output_type": "display_data"
    }
   ],
   "source": [
    "# determine the accuracy of the model\n",
    "mean(validation_data$answer==predictions2)"
   ]
  },
  {
   "cell_type": "code",
   "execution_count": 16,
   "metadata": {},
   "outputs": [],
   "source": [
    "# This is also a very high level of accuracy.\n",
    "# Ideas for the future:\n",
    "# perhaps the data should be shuffled (randomized first) to offset possible correlations in the order"
   ]
  },
  {
   "cell_type": "markdown",
   "metadata": {},
   "source": [
    "\n",
    "# Asssignment:\n",
    "1. Copy the dataset to the name MyLoans.csv and change the last 5 loans to default (known_value=1)\n",
    "2. Change the column headings to Inc, \"atttained age\", borrowed, redundant_feature, and answer\n",
    "3. Adjust the code accordingly to train on this new dataset.\n",
    "4. Report the values you get for the test set and for the validation set\n",
    "5. Report the value you get for the training set (hint: see the plot produced)\n",
    "6. We have used this as a classification application (0 or 1 for output). How would you change this to make it a regression application (probability of default)?\n",
    "7. What was the purpose of this assignment? What can you do now as a result of accomplishing it?\n"
   ]
  }
 ],
 "metadata": {
  "kernelspec": {
   "display_name": "R",
   "language": "R",
   "name": "ir"
  },
  "language_info": {
   "codemirror_mode": "r",
   "file_extension": ".r",
   "mimetype": "text/x-r-source",
   "name": "R",
   "pygments_lexer": "r",
   "version": "3.6.1"
  }
 },
 "nbformat": 4,
 "nbformat_minor": 4
}
